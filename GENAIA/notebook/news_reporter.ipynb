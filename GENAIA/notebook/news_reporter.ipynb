{
 "cells": [
  {
   "cell_type": "markdown",
   "metadata": {},
   "source": [
    "# AI Insights: Geo-politics news reporter\n",
    "\n",
    "Demonstrates the implementation of an intelligent news aggregation and summarization system using a multi-agent architecture. It automatically collects, processes, and summarizes geo-politics news for general audiences.\n",
    "\n",
    "**Proposed approach**\n",
    "\n",
    "1. **News searcher agent**\n",
    "    - Primary news collection engine\n",
    "    - Interfaces with Tavily API\n",
    "    - Filters for relevance and recency\n",
    "    - Handles source diversity\n",
    "\n",
    "2. **Summarizer agent**\n",
    "    - Processes technical content\n",
    "    - Uses an LLM for natural language generation\n",
    "    - Handles technical term simplification\n",
    "\n",
    "3. **Publisher agent**\n",
    "    - Takes list of summaries as input\n",
    "    - Formats them into a structured prompt\n",
    "    - Makes single LLM call to generate complete report with:\n",
    "        * Introduction section\n",
    "        * Organized summaries\n",
    "        * Further reading links\n",
    "    - Saves final report as markdown file\n",
    "\n",
    "**Conclusion**\n",
    "\n",
    "This notebook streamlines the process of staying informed about rapidly evolving fields by automating news collection, providing easily digestible summaries, and ensuring consistent, well-structured reporting. By reducing information overload, making technical content more accessible, and offering a scalable, maintainable architecture, saves time and effort, empowering users to remain current and knowledgeable in complex, and fast-moving field."
   ]
  },
  {
   "cell_type": "code",
   "execution_count": 1,
   "metadata": {},
   "outputs": [],
   "source": [
    "import os\n",
    "import re\n",
    "import torch\n",
    "import pandas as pd\n",
    "from datetime import datetime\n",
    "from pydantic import BaseModel\n",
    "from dotenv import load_dotenv\n",
    "from tavily import TavilyClient\n",
    "from langgraph.graph import StateGraph\n",
    "from typing_extensions import TypedDict # python <3.12\n",
    "from langchain_community.llms import VLLM\n",
    "from IPython.display import display, Image\n",
    "from langgraph.graph import StateGraph, END\n",
    "from IPython.display import Markdown, display\n",
    "from langchain_core.prompts import ChatPromptTemplate\n",
    "from typing import Dict, List, Any, Optional\n",
    "from langchain_core.runnables.graph import MermaidDrawMethod\n",
    "from langchain_core.messages import HumanMessage, SystemMessage\n",
    "from langchain.output_parsers import StructuredOutputParser, ResponseSchema"
   ]
  },
  {
   "cell_type": "code",
   "execution_count": 2,
   "metadata": {},
   "outputs": [],
   "source": [
    "load_dotenv()\n",
    "tavily = TavilyClient(api_key=os.getenv(\"TAVILY_API_KEY\"))"
   ]
  },
  {
   "cell_type": "markdown",
   "metadata": {},
   "source": [
    "## Set up"
   ]
  },
  {
   "cell_type": "markdown",
   "metadata": {},
   "source": [
    "### Get the model"
   ]
  },
  {
   "cell_type": "code",
   "execution_count": 3,
   "metadata": {},
   "outputs": [],
   "source": [
    "device = 'cuda' if torch.cuda.is_available() else 'cpu'"
   ]
  },
  {
   "cell_type": "code",
   "execution_count": 4,
   "metadata": {},
   "outputs": [
    {
     "name": "stdout",
     "output_type": "stream",
     "text": [
      "INFO 12-15 16:29:47 config.py:350] This model supports multiple tasks: {'embedding', 'generate'}. Defaulting to 'generate'.\n",
      "INFO 12-15 16:29:47 llm_engine.py:249] Initializing an LLM engine (v0.6.4.post1) with config: model='Qwen/Qwen2.5-3B-Instruct', speculative_config=None, tokenizer='Qwen/Qwen2.5-3B-Instruct', skip_tokenizer_init=False, tokenizer_mode=auto, revision=None, override_neuron_config=None, tokenizer_revision=None, trust_remote_code=True, dtype=torch.bfloat16, max_seq_len=32768, download_dir=None, load_format=LoadFormat.AUTO, tensor_parallel_size=1, pipeline_parallel_size=1, disable_custom_all_reduce=False, quantization=None, enforce_eager=False, kv_cache_dtype=auto, quantization_param_path=None, device_config=cuda, decoding_config=DecodingConfig(guided_decoding_backend='outlines'), observability_config=ObservabilityConfig(otlp_traces_endpoint=None, collect_model_forward_time=False, collect_model_execute_time=False), seed=0, served_model_name=Qwen/Qwen2.5-3B-Instruct, num_scheduler_steps=1, chunked_prefill_enabled=False multi_step_stream_outputs=True, enable_prefix_caching=False, use_async_output_proc=True, use_cached_outputs=False, chat_template_text_format=string, mm_processor_kwargs=None, pooler_config=None)\n",
      "WARNING 12-15 16:29:48 utils.py:720] Using 'pin_memory=False' as WSL is detected. This may slow down the performance.\n",
      "INFO 12-15 16:29:48 selector.py:135] Using Flash Attention backend.\n",
      "INFO 12-15 16:29:48 model_runner.py:1072] Starting to load model Qwen/Qwen2.5-3B-Instruct...\n",
      "INFO 12-15 16:29:49 weight_utils.py:243] Using model weights format ['*.safetensors']\n"
     ]
    },
    {
     "data": {
      "application/vnd.jupyter.widget-view+json": {
       "model_id": "e936dcc67ea94c1184251a101148cab2",
       "version_major": 2,
       "version_minor": 0
      },
      "text/plain": [
       "Loading safetensors checkpoint shards:   0% Completed | 0/2 [00:00<?, ?it/s]\n"
      ]
     },
     "metadata": {},
     "output_type": "display_data"
    },
    {
     "name": "stdout",
     "output_type": "stream",
     "text": [
      "INFO 12-15 16:29:51 model_runner.py:1077] Loading model weights took 5.7915 GB\n",
      "INFO 12-15 16:29:54 worker.py:232] Memory profiling results: total_gpu_memory=15.99GiB initial_memory_usage=7.21GiB peak_torch_memory=8.32GiB memory_usage_post_profile=7.23GiB non_torch_memory=1.43GiB kv_cache_size=4.65GiB gpu_memory_utilization=0.90\n",
      "INFO 12-15 16:29:54 gpu_executor.py:113] # GPU blocks: 8461, # CPU blocks: 7281\n",
      "INFO 12-15 16:29:54 gpu_executor.py:117] Maximum concurrency for 32768 tokens per request: 4.13x\n",
      "INFO 12-15 16:29:54 model_runner.py:1400] Capturing cudagraphs for decoding. This may lead to unexpected consequences if the model is not static. To run the model in eager mode, set 'enforce_eager=True' or use '--enforce-eager' in the CLI.\n",
      "INFO 12-15 16:29:54 model_runner.py:1404] If out-of-memory error occurs during cudagraph capture, consider decreasing `gpu_memory_utilization` or switching to eager mode. You can also reduce the `max_num_seqs` as needed to decrease memory usage.\n",
      "INFO 12-15 16:30:05 model_runner.py:1518] Graph capturing finished in 12 secs, took 0.23 GiB\n"
     ]
    }
   ],
   "source": [
    "llm = VLLM(\n",
    "    model=\"Qwen/Qwen2.5-3B-Instruct\",\n",
    "    trust_remote_code=True,  \n",
    "    max_new_tokens=1200,\n",
    "    top_k=10,\n",
    "    top_p=0.90,\n",
    "    temperature=0.1,\n",
    "    #vllm_kwargs={\"quantization\": \"awq\"},\n",
    "    device=device\n",
    ")"
   ]
  },
  {
   "cell_type": "markdown",
   "metadata": {},
   "source": [
    "### Data model and state management"
   ]
  },
  {
   "cell_type": "code",
   "execution_count": 5,
   "metadata": {},
   "outputs": [],
   "source": [
    "class Article(BaseModel):\n",
    "    \"\"\"\n",
    "    Represents a single news article\n",
    "    Attributes:\n",
    "        title (str): Article headline\n",
    "        url (str): Source URL\n",
    "        content (str): Article content\n",
    "    \"\"\"\n",
    "    title: str\n",
    "    url: str\n",
    "    content: str"
   ]
  },
  {
   "cell_type": "code",
   "execution_count": 6,
   "metadata": {},
   "outputs": [],
   "source": [
    "class Summary(TypedDict):\n",
    "    \"\"\"\n",
    "    Represents a processed article summary\n",
    "    \n",
    "    Attributes:\n",
    "        title (str): Original article title\n",
    "        summary (str): Generated summary\n",
    "        url (str): Source URL for reference\n",
    "    \"\"\"\n",
    "    title: str\n",
    "    summary: str\n",
    "    url: str"
   ]
  },
  {
   "cell_type": "code",
   "execution_count": 7,
   "metadata": {},
   "outputs": [],
   "source": [
    "class GraphState(TypedDict):\n",
    "    \"\"\"\n",
    "    Maintains workflow state between agents\n",
    "    \n",
    "    Attributes:\n",
    "        articles (Optional[List[Article]]): Found articles\n",
    "        summaries (Optional[List[Summary]]): Generated summaries\n",
    "        report (Optional[str]): Final compiled report\n",
    "    \"\"\"\n",
    "    articles: Optional[List[Article]] \n",
    "    summaries: Optional[List[Summary]] \n",
    "    report: Optional[str] "
   ]
  },
  {
   "cell_type": "markdown",
   "metadata": {},
   "source": [
    "### Agent implementation"
   ]
  },
  {
   "cell_type": "markdown",
   "metadata": {},
   "source": [
    "#### Search agent"
   ]
  },
  {
   "cell_type": "code",
   "execution_count": 8,
   "metadata": {},
   "outputs": [],
   "source": [
    "class NewsSearcher:\n",
    "    \"\"\"\n",
    "    Agent responsible for finding relevant AI/ML news articles\n",
    "    using the Tavily search API\n",
    "    \"\"\"\n",
    "    \n",
    "    def search(self) -> List[Article]:\n",
    "        \"\"\"\n",
    "        Performs news search with configured parameters\n",
    "        \n",
    "        Returns:\n",
    "            List[Article]: Collection of found articles\n",
    "        \"\"\"\n",
    "        response = tavily.search(\n",
    "            query=\"recent developments in international conflicts and warzones\", \n",
    "            topic=\"news\",\n",
    "            time_period=\"1w\",\n",
    "            search_depth=\"advanced\",\n",
    "            max_results=15\n",
    "        )\n",
    "        \n",
    "        articles = []\n",
    "        for result in response['results']:\n",
    "            articles.append(Article(\n",
    "                title=result['title'],\n",
    "                url=result['url'],\n",
    "                content=result['content']\n",
    "            ))\n",
    "        \n",
    "        return articles"
   ]
  },
  {
   "cell_type": "markdown",
   "metadata": {},
   "source": [
    "#### Summarizer agent"
   ]
  },
  {
   "cell_type": "code",
   "execution_count": 9,
   "metadata": {},
   "outputs": [],
   "source": [
    "class Summarizer:\n",
    "    \"\"\"\n",
    "    Agent that processes articles and generates accessible summaries\n",
    "    using an LLM.\n",
    "    \"\"\"\n",
    "\n",
    "    def __init__(self):\n",
    "        schemas = [\n",
    "            ResponseSchema(\n",
    "                name=\"summary\",\n",
    "                description=(\n",
    "                    \"A summary of the given article in 2-3 sentences, \"\n",
    "                    \"focusing on the key points.\"\n",
    "                )\n",
    "            ),\n",
    "        ]\n",
    "\n",
    "        self.parser = StructuredOutputParser.from_response_schemas(schemas)\n",
    "        self.format_instructions = self.parser.get_format_instructions()\n",
    "\n",
    "    def summarize(self, article: Article) -> str:\n",
    "        \"\"\"\n",
    "        Generates an accessible summary of a single article.\n",
    "        \n",
    "        Args:\n",
    "            article (Article): Article to summarize.\n",
    "            \n",
    "        Returns:\n",
    "            str: Generated summary.\n",
    "        \"\"\"\n",
    "        prompt = ChatPromptTemplate.from_template(\n",
    "            (\n",
    "                \"You are an AI expert who makes complex topics accessible to general audiences. \"\n",
    "                \"Summarize this article in 2-3 sentences, focusing on the key points and explaining \"\n",
    "                \"any technical terms simply.\\n\"\n",
    "                \"News article title: {title}\\n\"\n",
    "                \"News article content: {content}\\n\"\n",
    "                \"In the 'summary' key, include the summary for the news article provided.\\n\"\n",
    "                \"Return the answer in JSON format.\\n\\n\"\n",
    "            )\n",
    "        ).partial(format_instructions=self.format_instructions)\n",
    "\n",
    "        chain = prompt | llm\n",
    "        response = chain.invoke({\"title\": article.title, \"content\": article.content})\n",
    "        response = self.parser.parse(response)\n",
    "        response = response['summary']\n",
    "        return response"
   ]
  },
  {
   "cell_type": "markdown",
   "metadata": {},
   "source": [
    "#### Publisher agent"
   ]
  },
  {
   "cell_type": "code",
   "execution_count": 10,
   "metadata": {},
   "outputs": [],
   "source": [
    "class Publisher:\n",
    "    \"\"\"\n",
    "    Agent that compiles summaries into a formatted report \n",
    "    and saves it to disk\n",
    "    \"\"\"    \n",
    "\n",
    "    def create_report(self, summaries: List[Dict]) -> str:\n",
    "        \"\"\"\n",
    "        Creates and saves a formatted markdown report    \n",
    "        Args:\n",
    "            summaries (List[Dict]): Collection of article summaries\n",
    "        Returns:\n",
    "            str: Generated report content\n",
    "        \"\"\"\n",
    "        \n",
    "        # Format summaries for the LLM\n",
    "        summaries_text = \"\\n\\n\".join([\n",
    "            f\"\"\"\n",
    "            News article title: {article['title']}\n",
    "            News article content: {article['summary']}\n",
    "            News article source: {article['url']}\n",
    "            \"\"\" for article in summaries\n",
    "        ])\n",
    "        \n",
    "        schemas = [\n",
    "            ResponseSchema(\n",
    "                name=\"overall_introduction\",\n",
    "                description=(\n",
    "                    \"Write a brief introduction about the latest developments in geopolitics. This section should provide \"\n",
    "                    \"a global perspective on key developments and trends.\"\n",
    "                )\n",
    "            ),\n",
    "            ResponseSchema(\n",
    "                name=\"key_themes\",\n",
    "                description=(\n",
    "                    \"Select strictly no more than 5 of the most relevant news themes or developments and present them in a structured format \"\n",
    "                    \"using bullet points. Each should include a title embedded as [title](url), followed by a summary.\"\n",
    "                )\n",
    "            ),\n",
    "            ResponseSchema(\n",
    "                name=\"other_reads\",\n",
    "                description=(\n",
    "                    \"List strictly no more than 3 other news items as bullet points with their titles embedded as [title](url) only. Do not include summaries.\"\n",
    "                )\n",
    "            )\n",
    "        ]\n",
    "\n",
    "        # Create output parser\n",
    "        parser = StructuredOutputParser.from_response_schemas(schemas)\n",
    "        format_instructions = parser.get_format_instructions()\n",
    "        prompt = ChatPromptTemplate.from_template(\n",
    "            \"\"\"\n",
    "            You are tasked with generating a markdown-formatted report titled 'Geopolitics Latest Developments'.\n",
    "            Format the report as follows:\n",
    "            \n",
    "            # Geopolitics Latest Developments\n",
    "            \n",
    "            ## Overall Introduction\n",
    "            Based on the information given at the end, write brief introduction of 2-3 sentences about the latest developments. \n",
    "\n",
    "            ## Key Themes/Developments\n",
    "            - Title embedded as [title](url).\n",
    "            - A brief summary of the article below the title.\n",
    "\n",
    "            ## Other Reads\n",
    "            - A list of article titles only, embedded as [title](url).\n",
    "\n",
    "            {information}\n",
    "            \"\"\"\n",
    "        ).partial(format_instructions=format_instructions)\n",
    "        \n",
    "        chain = prompt | llm\n",
    "        response = chain.invoke({\"information\": summaries_text})\n",
    "        response = response.split('Assistant:')[-1].replace('```','')\n",
    "        response = response.strip().replace(\"\\n-\", \"\\n\\n-\")\n",
    "        \n",
    "        return response"
   ]
  },
  {
   "cell_type": "markdown",
   "metadata": {},
   "source": [
    "### Workflow"
   ]
  },
  {
   "cell_type": "markdown",
   "metadata": {},
   "source": [
    "#### Nodes"
   ]
  },
  {
   "cell_type": "code",
   "execution_count": 11,
   "metadata": {},
   "outputs": [],
   "source": [
    "def search_node(state: Dict[str, Any]) -> Dict[str, Any]:\n",
    "    \"\"\"\n",
    "    Node for article search.\n",
    "    \n",
    "    Args:\n",
    "        state (Dict[str, Any]): Current workflow state.\n",
    "        \n",
    "    Returns:\n",
    "        Dict[str, Any]: Updated state with found articles.\n",
    "    \"\"\"\n",
    "    searcher = NewsSearcher()\n",
    "    state['articles'] = searcher.search()\n",
    "    return state"
   ]
  },
  {
   "cell_type": "code",
   "execution_count": 12,
   "metadata": {},
   "outputs": [],
   "source": [
    "def summarize_node(state: Dict[str, Any]) -> Dict[str, Any]:\n",
    "    \"\"\"\n",
    "    Node for article summarization.\n",
    "    \n",
    "    Args:\n",
    "        state (Dict[str, Any]): Current workflow state.\n",
    "        \n",
    "    Returns:\n",
    "        Dict[str, Any]: Updated state with summaries.\n",
    "    \"\"\"\n",
    "    summarizer = Summarizer()\n",
    "    state['summaries'] = []\n",
    "\n",
    "    for article in state['articles']:  # Uses articles from the previous node\n",
    "        summary = summarizer.summarize(article)\n",
    "        state['summaries'].append({\n",
    "            'title': article.title,\n",
    "            'summary': summary,\n",
    "            'url': article.url\n",
    "        })\n",
    "    \n",
    "    return state"
   ]
  },
  {
   "cell_type": "code",
   "execution_count": 13,
   "metadata": {},
   "outputs": [],
   "source": [
    "def publish_node(state: Dict[str, Any]) -> Dict[str, Any]:\n",
    "    \"\"\"\n",
    "    Node for report generation.\n",
    "    \n",
    "    Args:\n",
    "        state (Dict[str, Any]): Current workflow state.\n",
    "        \n",
    "    Returns:\n",
    "        Dict[str, Any]: Updated state with final report.\n",
    "    \"\"\"\n",
    "    publisher = Publisher()\n",
    "    report_content = publisher.create_report(state['summaries'])\n",
    "    state['report'] = report_content\n",
    "    \n",
    "    return state"
   ]
  },
  {
   "cell_type": "markdown",
   "metadata": {},
   "source": [
    "#### Graph creation"
   ]
  },
  {
   "cell_type": "code",
   "execution_count": 14,
   "metadata": {},
   "outputs": [],
   "source": [
    "def create_workflow() -> StateGraph:\n",
    "    \"\"\"\n",
    "    Constructs and configures the workflow graph.\n",
    "    Workflow steps: search -> summarize -> publish.\n",
    "    \n",
    "    Returns:\n",
    "        StateGraph: Compiled workflow ready for execution.\n",
    "    \"\"\"\n",
    "    # Create a workflow (graph) initialized with our state schema\n",
    "    workflow = StateGraph(state_schema=GraphState)\n",
    "    \n",
    "    # Add processing nodes that we will flow between\n",
    "    workflow.add_node(\"search\", search_node)\n",
    "    workflow.add_node(\"summarize\", summarize_node)\n",
    "    workflow.add_node(\"publish\", publish_node)\n",
    "    \n",
    "    # Define the flow with edges\n",
    "    workflow.add_edge(\"search\", \"summarize\")  # Search results flow to summarizer\n",
    "    workflow.add_edge(\"summarize\", \"publish\")  # Summaries flow to publisher\n",
    "    \n",
    "    # Set where to start\n",
    "    workflow.set_entry_point(\"search\")\n",
    "    \n",
    "    return workflow.compile()"
   ]
  },
  {
   "cell_type": "markdown",
   "metadata": {},
   "source": [
    "## Use case"
   ]
  },
  {
   "cell_type": "code",
   "execution_count": 15,
   "metadata": {},
   "outputs": [],
   "source": [
    "workflow = create_workflow()"
   ]
  },
  {
   "cell_type": "code",
   "execution_count": 17,
   "metadata": {},
   "outputs": [
    {
     "data": {
      "image/png": "[encoded data removed]",
      "text/plain": [
       "<IPython.core.display.Image object>"
      ]
     },
     "metadata": {},
     "output_type": "display_data"
    }
   ],
   "source": [
    "display(\n",
    "    Image(\n",
    "        workflow.get_graph().draw_mermaid_png(\n",
    "            draw_method=MermaidDrawMethod.API,\n",
    "        )\n",
    "    )\n",
    ")"
   ]
  },
  {
   "cell_type": "code",
   "execution_count": 18,
   "metadata": {},
   "outputs": [
    {
     "name": "stderr",
     "output_type": "stream",
     "text": [
      "Processed prompts: 100%|██████████| 1/1 [00:01<00:00,  1.68s/it, est. speed input: 190.64 toks/s, output: 68.30 toks/s]\n",
      "Processed prompts: 100%|██████████| 1/1 [00:01<00:00,  1.20s/it, est. speed input: 199.29 toks/s, output: 62.54 toks/s]\n",
      "Processed prompts: 100%|██████████| 1/1 [00:01<00:00,  1.20s/it, est. speed input: 193.86 toks/s, output: 62.40 toks/s]\n",
      "Processed prompts: 100%|██████████| 1/1 [00:01<00:00,  1.10s/it, est. speed input: 218.26 toks/s, output: 82.41 toks/s]\n",
      "Processed prompts: 100%|██████████| 1/1 [00:01<00:00,  1.76s/it, est. speed input: 163.31 toks/s, output: 62.59 toks/s]\n",
      "Processed prompts: 100%|██████████| 1/1 [00:01<00:00,  1.80s/it, est. speed input: 262.12 toks/s, output: 62.33 toks/s]\n",
      "Processed prompts: 100%|██████████| 1/1 [00:07<00:00,  7.91s/it, est. speed input: 28.07 toks/s, output: 13.65 toks/s]\n",
      "Processed prompts: 100%|██████████| 1/1 [-1:59:55<00:00, -0.19it/s, est. speed input: -43.33 toks/s, output: -17.83 toks/s]\n",
      "Processed prompts: 100%|██████████| 1/1 [00:01<00:00,  1.92s/it, est. speed input: 122.69 toks/s, output: 63.17 toks/s]\n",
      "Processed prompts: 100%|██████████| 1/1 [00:01<00:00,  1.80s/it, est. speed input: 333.23 toks/s, output: 61.85 toks/s]\n",
      "Processed prompts: 100%|██████████| 1/1 [00:01<00:00,  1.26s/it, est. speed input: 188.31 toks/s, output: 88.19 toks/s]\n",
      "Processed prompts: 100%|██████████| 1/1 [00:01<00:00,  1.85s/it, est. speed input: 119.05 toks/s, output: 62.77 toks/s]\n",
      "Processed prompts: 100%|██████████| 1/1 [00:01<00:00,  1.55s/it, est. speed input: 407.74 toks/s, output: 61.19 toks/s]\n",
      "Processed prompts: 100%|██████████| 1/1 [00:01<00:00,  1.09s/it, est. speed input: 211.93 toks/s, output: 91.74 toks/s]\n",
      "Processed prompts: 100%|██████████| 1/1 [00:01<00:00,  1.67s/it, est. speed input: 161.03 toks/s, output: 62.26 toks/s]\n",
      "Processed prompts: 100%|██████████| 1/1 [00:24<00:00, 24.07s/it, est. speed input: 109.07 toks/s, output: 49.86 toks/s]\n"
     ]
    }
   ],
   "source": [
    "final_state = workflow.invoke({\n",
    "    \"articles\": None,\n",
    "    \"summaries\": None,\n",
    "    \"report\": None\n",
    "})"
   ]
  },
  {
   "cell_type": "code",
   "execution_count": 19,
   "metadata": {},
   "outputs": [
    {
     "data": {
      "text/markdown": [
       "# Geopolitics Latest Developments\n",
       "\n",
       "## Overall Introduction\n",
       "The latest geopolitical developments in Syria and the broader Middle East have been marked by significant shifts, including the ousting of President Bashar al-Assad, ongoing conflicts, and international reactions. These changes have profound implications for regional stability and security.\n",
       "\n",
       "## Key Themes/Developments\n",
       "\n",
       "- [Syria’s Future on Unannounced Visit to Iraq](https://www.nytimes.com/video/world/middleeast/100000009876711/blinken-syria-iraq.html)\n",
       "  - U.S. Secretary of State Antony Blinken discussed Syria's future during an unannounced visit to Iraq, touching on various ongoing conflicts and developments in the region.\n",
       "\n",
       "\n",
       "- [Defense Minister Katz on Syria’s Threat](https://www.timesofisrael.com/katz-despite-rebel-assurances-syria-threat-requires-boost-to-defense-budget/)\n",
       "  - Defense Minister Israel Katz emphasized the need to boost the defense budget in response to growing threats in Syria, particularly the ousting of President Assad.\n",
       "\n",
       "\n",
       "- [Syria Faces Crisis and Gaza Heads Toward Famine](https://www.bozemandailychronicle.com/ap_news/international/syria-faces-crisis-and-gaza-heads-toward-famine-world-food-program-official-says/article_080e08b1-df16-51e9-a5bc-fdec2748d23c.html)\n",
       "  - The World Food Program's deputy executive director visited Syria and Gaza to assess severe humanitarian crises, highlighting the urgent need for international assistance.\n",
       "\n",
       "\n",
       "- [War Destroys and Divides Aleppo](https://www.washingtonpost.com/world/2024/12/13/aleppo-syria-assad-hts-minorities-christians/)\n",
       "  - The article discusses the impact of the Israel-Gaza war on Aleppo, speculating that the fall of President Assad could potentially unite the city, which has been deeply divided by various conflicts.\n",
       "\n",
       "\n",
       "- [Searching for Syria’s Disappeared](https://www.nytimes.com/video/world/middleeast/100000009871973/syria-missing-disappeared-assad.html?playlistId=video/world)\n",
       "  - The article focuses on the ongoing search for missing individuals in Syria, including a man who was freed from a prison and appears to be an American missing person.\n",
       "\n",
       "\n",
       "- [Syria Latest: Diplomats Gather in Jordan for Summit](https://news.sky.com/story/syria-latest-rebel-fighters-ordered-to-withdraw-from-cities-as-leader-will-name-assad-officials-wanted-for-torture-13265154)\n",
       "  - Diplomats from various nations gathered in Jordan to discuss Syria's transition, with Russia withdrawing its military from the front lines but maintaining its bases.\n",
       "\n",
       "## Other Reads\n",
       "\n",
       "- [Yermak Andrii Borysovych](https://ukranews.com/en/dossier/212-yermak-andrii-borysovych)\n",
       "  - Highlights various developments in the ongoing conflict, including air defense successes, reported drone attacks, and ongoing chemical attacks by Russia.\n",
       "\n",
       "\n",
       "- [Israel Will Close its Ireland Embassy Over Gaza Tensions](https://www.military.com/daily-news/2024/12/15/israel-will-close-its-ireland-embassy-over-gaza-tensions-palestinian-death-toll-nears-45000.html)\n",
       "  - Israel announced it will close its embassy in Ireland in response to extreme anti-Israel policies in Gaza.\n",
       "\n",
       "\n",
       "- [Syria Latest: US Has Been 'In Contact' with Rebel Group](https://news.sky.com/story/syria-latest-us-has-been-in-contact-with-rebel-group-israel-condemned-over-unjustified-syria-attacks-13265154)\n",
       "  - Sky News reported that the United States has been in contact with a rebel group in Syria, while Israel faced condemnation for its 'unjustified' attacks on the country.\n",
       "\n",
       "\n",
       "- [Tehran Anxiously Examines Assad’s Fall](https://www.ynetnews.com/article/hydazgh4ye)\n",
       "  - Iran's cautious examination of the fall of Syrian leader Bashar Assad, fearing a similar fate for its own Islamic regime.\n",
       "\n",
       "\n",
       "- [South Korean Leaders Seek Calm After Yoon is Impeached](https://www.military.com/daily-news/2024/12/15/south-korean-leaders-seek-calm-after-yoon-impeached.html)\n",
       "  - South Korean leaders called for calm after the impeachment of President Yoon, amid heightened security measures and ongoing concerns about the U.S. Department of Veterans Affairs' health system.\n",
       "\n",
       "\n",
       "- [Trump Talks Ukraine and Middle East Conflicts](https://en.tempo.co/read/1952358/trump-talks-ukraine-and-middle-east-conflicts-in-time-magazine-person-of-the-year-interview)\n",
       "  - U.S. President-elect Donald Trump discussed his plans to resolve conflicts in the Middle East and expressed distrust towards international leaders, including Israel's Prime Minister Benjamin Netanyahu. \n",
       "\n",
       "\n",
       "- [US Navy Returns to Cambodia](https://www.newsweek.com/us-navy-returns-cambodia-after-8-years-amid-china-base-tensions-2000521)\n",
       "  - The U.S. Navy is set to return to Cambodia for the first time in eight years, amid growing tensions over China's expanding military footprint in the region. \n",
       "\n",
       "These articles provide a comprehensive overview of the latest geopolitical developments, highlighting the complex and interconnected nature of the conflicts in Syria, the Middle East, and beyond."
      ],
      "text/plain": [
       "<IPython.core.display.Markdown object>"
      ]
     },
     "metadata": {},
     "output_type": "display_data"
    }
   ],
   "source": [
    "display(Markdown(final_state['report']))"
   ]
  }
 ],
 "metadata": {
  "kernelspec": {
   "display_name": "genai_agents",
   "language": "python",
   "name": "python3"
  },
  "language_info": {
   "codemirror_mode": {
    "name": "ipython",
    "version": 3
   },
   "file_extension": ".py",
   "mimetype": "text/x-python",
   "name": "python",
   "nbconvert_exporter": "python",
   "pygments_lexer": "ipython3",
   "version": "3.11.0"
  }
 },
 "nbformat": 4,
 "nbformat_minor": 2
}
