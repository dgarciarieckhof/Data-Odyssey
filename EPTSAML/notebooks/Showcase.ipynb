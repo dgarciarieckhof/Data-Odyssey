{
 "cells": [
  {
   "attachments": {},
   "cell_type": "markdown",
   "metadata": {},
   "source": [
    "# Enhancing a Pairs Trading strategy with the application of Machine Learning\n",
    "\n",
    "Pairs trading is a popular trading strategy in the financial markets that involves identifying two stocks that are highly correlated and trading them in a way that captures the difference in their prices. The goal is to profit from the price convergence of the two stocks while minimizing exposure to market risk. However, finding suitable pairs of stocks for pairs trading can be a daunting task, especially in markets with a large number of securities.\n",
    "\n",
    "In this context, the framework for pairs selection consist on three different parts: **Dimensionality reduction**, **unsupervised learning** using **OPTICS**, and pairs selection criteria based on **cointegration**, **Hurst exponent**, **half-life**, and **mean zero-crossing**.\n",
    "\n",
    "- **Dimensionality reduction** techniques, such as principal component analysis (PCA), can be used to reduce the high-dimensional space of financial data to a lower-dimensional space that captures the most important features of the data.\n",
    "- **Unsupervised learning** algorithms, such as OPTICS, can then be used to cluster the reduced data points into groups based on their similarity, which can aid in identifying pairs of stocks that exhibit similar behavior. \n",
    "- Finally, **pairs selection** criteria based on cointegration, Hurst exponent, half-life, and mean zero-crossing can be used to further filter the pairs and identify those that are most suitable for pairs trading.\n",
    "\n",
    "This project is based on the following paper:\n",
    "\n",
    "Sarmento, S. M., & Horta, N. (2020). Enhancing a pairs trading strategy with the application of machine learning. Expert Systems with Applications, 158, 113490.\n"
   ]
  },
  {
   "attachments": {},
   "cell_type": "markdown",
   "metadata": {},
   "source": [
    "## Universe and Subset Selection Criteria\n",
    "\n",
    "To implement the pairs trading strategy, we need to select a universe of stocks and filter them based on certain criteria. For this purpose, we retrieve data from an API and select US listed stocks with a market capitalization larger than 300MM and an average volume of over 0.5M.\n",
    "\n",
    "Next, we select the top 500 companies based on their market capitalization to form a subset of the universe. This is done to reduce the computational complexity of the algorithm and improve its efficiency.\n",
    "\n",
    "Finally, we set a time frame of 10 years, from March 2013 to March 2023, to analyze the selected stocks and identify suitable pairs for pairs trading.\n",
    "\n",
    "By applying these universe and subset selection criteria, we ensure that the stocks we analyze are actively traded and have sufficient liquidity to support our trading strategy. Additionally, by focusing on the top companies by market capitalization, we increase the likelihood of identifying highly correlated stocks with similar behavior, which is critical for the success of the pairs trading strategy."
   ]
  },
  {
   "cell_type": "code",
   "execution_count": 1,
   "metadata": {},
   "outputs": [],
   "source": [
    "# Libs\n",
    "import os\n",
    "from src.functions.package import * # Custom functions \n",
    "import numpy as np\n",
    "import pandas as pd\n",
    "import plotly.express as px\n",
    "import plotly.colors as col\n",
    "import plotly.graph_objects as go\n",
    "from plotly.offline import init_notebook_mode, iplot"
   ]
  },
  {
   "cell_type": "code",
   "execution_count": 2,
   "metadata": {},
   "outputs": [],
   "source": [
    "# Load securities universe and subset based on market cap and volume\n",
    "universeDF = pd.read_feather('data/processed/universe.feather')\n",
    "subsetDF = universeDF.sort_values(by='Market Cap',ascending=False).iloc[:499,:]\n",
    "subsetDF = subsetDF.loc[subsetDF.Volume > 0.5,:]"
   ]
  },
  {
   "cell_type": "code",
   "execution_count": 3,
   "metadata": {},
   "outputs": [],
   "source": [
    "# Visualize how many stocks do we have within each sector\n",
    "sectoOv = subsetDF.groupby(by = 'Sector').agg(securities=pd.NamedAgg('Ticker','count'), marketCap=pd.NamedAgg('Market Cap','mean'), volume=pd.NamedAgg('Volume','mean'))\n",
    "sectoOv = sectoOv.reset_index(drop=False)\n",
    "\n",
    "# Format variables in order to be displayed\n",
    "sectoOv['marketCap_formatted'] = '$' + sectoOv['marketCap'].apply(lambda x: '{:,.2f}'.format(x)) + 'B'\n",
    "sectoOv['volume_formatted'] = sectoOv['volume'].apply(lambda x: '{:,.2f}'.format(x)) + 'M'\n",
    "\n",
    "# Sort the sector in asceding order\n",
    "sectoOv = sectoOv.sort_values('securities',ascending=True)"
   ]
  },
  {
   "cell_type": "code",
   "execution_count": 4,
   "metadata": {},
   "outputs": [
    {
     "data": {
      "application/vnd.plotly.v1+json": {
       "config": {
        "plotlyServerURL": "https://plot.ly"
       },
       "data": [
        {
         "hovertemplate": [
          "Sector: Real Estate<br>Securities: 20<br>Market Cap: $36.39B<br>Volume: 2.68M units",
          "Sector: Utilities<br>Securities: 26<br>Market Cap: $35.21B<br>Volume: 3.93M units",
          "Sector: Basic Materials<br>Securities: 29<br>Market Cap: $48.94B<br>Volume: 4.38M units",
          "Sector: Communication Services<br>Securities: 37<br>Market Cap: $123.11B<br>Volume: 9.28M units",
          "Sector: Consumer Defensive<br>Securities: 38<br>Market Cap: $80.28B<br>Volume: 4.74M units",
          "Sector: Energy<br>Securities: 38<br>Market Cap: $75.07B<br>Volume: 5.70M units",
          "Sector: Industrials<br>Securities: 45<br>Market Cap: $60.71B<br>Volume: 3.02M units",
          "Sector: Consumer Cyclical<br>Securities: 53<br>Market Cap: $78.80B<br>Volume: 11.88M units",
          "Sector: Healthcare<br>Securities: 57<br>Market Cap: $97.34B<br>Volume: 3.15M units",
          "Sector: Technology<br>Securities: 75<br>Market Cap: $127.96B<br>Volume: 8.83M units",
          "Sector: Financial<br>Securities: 81<br>Market Cap: $75.88B<br>Volume: 5.39M units"
         ],
         "marker": {
          "color": [
           20,
           26,
           29,
           37,
           38,
           38,
           45,
           53,
           57,
           75,
           81
          ],
          "colorscale": [
           [
            0,
            "#000004"
           ],
           [
            0.1111111111111111,
            "#180f3d"
           ],
           [
            0.2222222222222222,
            "#440f76"
           ],
           [
            0.3333333333333333,
            "#721f81"
           ],
           [
            0.4444444444444444,
            "#9e2f7f"
           ],
           [
            0.5555555555555556,
            "#cd4071"
           ],
           [
            0.6666666666666666,
            "#f1605d"
           ],
           [
            0.7777777777777778,
            "#fd9668"
           ],
           [
            0.8888888888888888,
            "#feca8d"
           ],
           [
            1,
            "#fcfdbf"
           ]
          ]
         },
         "name": "",
         "orientation": "h",
         "type": "bar",
         "x": [
          20,
          26,
          29,
          37,
          38,
          38,
          45,
          53,
          57,
          75,
          81
         ],
         "y": [
          "Real Estate",
          "Utilities",
          "Basic Materials",
          "Communication Services",
          "Consumer Defensive",
          "Energy",
          "Industrials",
          "Consumer Cyclical",
          "Healthcare",
          "Technology",
          "Financial"
         ]
        }
       ],
       "layout": {
        "autosize": true,
        "height": 500,
        "hoverlabel": {
         "font": {
          "family": "Goldman Sans",
          "size": 15
         }
        },
        "plot_bgcolor": "white",
        "template": {
         "data": {
          "bar": [
           {
            "error_x": {
             "color": "#2a3f5f"
            },
            "error_y": {
             "color": "#2a3f5f"
            },
            "marker": {
             "line": {
              "color": "#E5ECF6",
              "width": 0.5
             },
             "pattern": {
              "fillmode": "overlay",
              "size": 10,
              "solidity": 0.2
             }
            },
            "type": "bar"
           }
          ],
          "barpolar": [
           {
            "marker": {
             "line": {
              "color": "#E5ECF6",
              "width": 0.5
             },
             "pattern": {
              "fillmode": "overlay",
              "size": 10,
              "solidity": 0.2
             }
            },
            "type": "barpolar"
           }
          ],
          "carpet": [
           {
            "aaxis": {
             "endlinecolor": "#2a3f5f",
             "gridcolor": "white",
             "linecolor": "white",
             "minorgridcolor": "white",
             "startlinecolor": "#2a3f5f"
            },
            "baxis": {
             "endlinecolor": "#2a3f5f",
             "gridcolor": "white",
             "linecolor": "white",
             "minorgridcolor": "white",
             "startlinecolor": "#2a3f5f"
            },
            "type": "carpet"
           }
          ],
          "choropleth": [
           {
            "colorbar": {
             "outlinewidth": 0,
             "ticks": ""
            },
            "type": "choropleth"
           }
          ],
          "contour": [
           {
            "colorbar": {
             "outlinewidth": 0,
             "ticks": ""
            },
            "colorscale": [
             [
              0,
              "#0d0887"
             ],
             [
              0.1111111111111111,
              "#46039f"
             ],
             [
              0.2222222222222222,
              "#7201a8"
             ],
             [
              0.3333333333333333,
              "#9c179e"
             ],
             [
              0.4444444444444444,
              "#bd3786"
             ],
             [
              0.5555555555555556,
              "#d8576b"
             ],
             [
              0.6666666666666666,
              "#ed7953"
             ],
             [
              0.7777777777777778,
              "#fb9f3a"
             ],
             [
              0.8888888888888888,
              "#fdca26"
             ],
             [
              1,
              "#f0f921"
             ]
            ],
            "type": "contour"
           }
          ],
          "contourcarpet": [
           {
            "colorbar": {
             "outlinewidth": 0,
             "ticks": ""
            },
            "type": "contourcarpet"
           }
          ],
          "heatmap": [
           {
            "colorbar": {
             "outlinewidth": 0,
             "ticks": ""
            },
            "colorscale": [
             [
              0,
              "#0d0887"
             ],
             [
              0.1111111111111111,
              "#46039f"
             ],
             [
              0.2222222222222222,
              "#7201a8"
             ],
             [
              0.3333333333333333,
              "#9c179e"
             ],
             [
              0.4444444444444444,
              "#bd3786"
             ],
             [
              0.5555555555555556,
              "#d8576b"
             ],
             [
              0.6666666666666666,
              "#ed7953"
             ],
             [
              0.7777777777777778,
              "#fb9f3a"
             ],
             [
              0.8888888888888888,
              "#fdca26"
             ],
             [
              1,
              "#f0f921"
             ]
            ],
            "type": "heatmap"
           }
          ],
          "heatmapgl": [
           {
            "colorbar": {
             "outlinewidth": 0,
             "ticks": ""
            },
            "colorscale": [
             [
              0,
              "#0d0887"
             ],
             [
              0.1111111111111111,
              "#46039f"
             ],
             [
              0.2222222222222222,
              "#7201a8"
             ],
             [
              0.3333333333333333,
              "#9c179e"
             ],
             [
              0.4444444444444444,
              "#bd3786"
             ],
             [
              0.5555555555555556,
              "#d8576b"
             ],
             [
              0.6666666666666666,
              "#ed7953"
             ],
             [
              0.7777777777777778,
              "#fb9f3a"
             ],
             [
              0.8888888888888888,
              "#fdca26"
             ],
             [
              1,
              "#f0f921"
             ]
            ],
            "type": "heatmapgl"
           }
          ],
          "histogram": [
           {
            "marker": {
             "pattern": {
              "fillmode": "overlay",
              "size": 10,
              "solidity": 0.2
             }
            },
            "type": "histogram"
           }
          ],
          "histogram2d": [
           {
            "colorbar": {
             "outlinewidth": 0,
             "ticks": ""
            },
            "colorscale": [
             [
              0,
              "#0d0887"
             ],
             [
              0.1111111111111111,
              "#46039f"
             ],
             [
              0.2222222222222222,
              "#7201a8"
             ],
             [
              0.3333333333333333,
              "#9c179e"
             ],
             [
              0.4444444444444444,
              "#bd3786"
             ],
             [
              0.5555555555555556,
              "#d8576b"
             ],
             [
              0.6666666666666666,
              "#ed7953"
             ],
             [
              0.7777777777777778,
              "#fb9f3a"
             ],
             [
              0.8888888888888888,
              "#fdca26"
             ],
             [
              1,
              "#f0f921"
             ]
            ],
            "type": "histogram2d"
           }
          ],
          "histogram2dcontour": [
           {
            "colorbar": {
             "outlinewidth": 0,
             "ticks": ""
            },
            "colorscale": [
             [
              0,
              "#0d0887"
             ],
             [
              0.1111111111111111,
              "#46039f"
             ],
             [
              0.2222222222222222,
              "#7201a8"
             ],
             [
              0.3333333333333333,
              "#9c179e"
             ],
             [
              0.4444444444444444,
              "#bd3786"
             ],
             [
              0.5555555555555556,
              "#d8576b"
             ],
             [
              0.6666666666666666,
              "#ed7953"
             ],
             [
              0.7777777777777778,
              "#fb9f3a"
             ],
             [
              0.8888888888888888,
              "#fdca26"
             ],
             [
              1,
              "#f0f921"
             ]
            ],
            "type": "histogram2dcontour"
           }
          ],
          "mesh3d": [
           {
            "colorbar": {
             "outlinewidth": 0,
             "ticks": ""
            },
            "type": "mesh3d"
           }
          ],
          "parcoords": [
           {
            "line": {
             "colorbar": {
              "outlinewidth": 0,
              "ticks": ""
             }
            },
            "type": "parcoords"
           }
          ],
          "pie": [
           {
            "automargin": true,
            "type": "pie"
           }
          ],
          "scatter": [
           {
            "fillpattern": {
             "fillmode": "overlay",
             "size": 10,
             "solidity": 0.2
            },
            "type": "scatter"
           }
          ],
          "scatter3d": [
           {
            "line": {
             "colorbar": {
              "outlinewidth": 0,
              "ticks": ""
             }
            },
            "marker": {
             "colorbar": {
              "outlinewidth": 0,
              "ticks": ""
             }
            },
            "type": "scatter3d"
           }
          ],
          "scattercarpet": [
           {
            "marker": {
             "colorbar": {
              "outlinewidth": 0,
              "ticks": ""
             }
            },
            "type": "scattercarpet"
           }
          ],
          "scattergeo": [
           {
            "marker": {
             "colorbar": {
              "outlinewidth": 0,
              "ticks": ""
             }
            },
            "type": "scattergeo"
           }
          ],
          "scattergl": [
           {
            "marker": {
             "colorbar": {
              "outlinewidth": 0,
              "ticks": ""
             }
            },
            "type": "scattergl"
           }
          ],
          "scattermapbox": [
           {
            "marker": {
             "colorbar": {
              "outlinewidth": 0,
              "ticks": ""
             }
            },
            "type": "scattermapbox"
           }
          ],
          "scatterpolar": [
           {
            "marker": {
             "colorbar": {
              "outlinewidth": 0,
              "ticks": ""
             }
            },
            "type": "scatterpolar"
           }
          ],
          "scatterpolargl": [
           {
            "marker": {
             "colorbar": {
              "outlinewidth": 0,
              "ticks": ""
             }
            },
            "type": "scatterpolargl"
           }
          ],
          "scatterternary": [
           {
            "marker": {
             "colorbar": {
              "outlinewidth": 0,
              "ticks": ""
             }
            },
            "type": "scatterternary"
           }
          ],
          "surface": [
           {
            "colorbar": {
             "outlinewidth": 0,
             "ticks": ""
            },
            "colorscale": [
             [
              0,
              "#0d0887"
             ],
             [
              0.1111111111111111,
              "#46039f"
             ],
             [
              0.2222222222222222,
              "#7201a8"
             ],
             [
              0.3333333333333333,
              "#9c179e"
             ],
             [
              0.4444444444444444,
              "#bd3786"
             ],
             [
              0.5555555555555556,
              "#d8576b"
             ],
             [
              0.6666666666666666,
              "#ed7953"
             ],
             [
              0.7777777777777778,
              "#fb9f3a"
             ],
             [
              0.8888888888888888,
              "#fdca26"
             ],
             [
              1,
              "#f0f921"
             ]
            ],
            "type": "surface"
           }
          ],
          "table": [
           {
            "cells": {
             "fill": {
              "color": "#EBF0F8"
             },
             "line": {
              "color": "white"
             }
            },
            "header": {
             "fill": {
              "color": "#C8D4E3"
             },
             "line": {
              "color": "white"
             }
            },
            "type": "table"
           }
          ]
         },
         "layout": {
          "annotationdefaults": {
           "arrowcolor": "#2a3f5f",
           "arrowhead": 0,
           "arrowwidth": 1
          },
          "autotypenumbers": "strict",
          "coloraxis": {
           "colorbar": {
            "outlinewidth": 0,
            "ticks": ""
           }
          },
          "colorscale": {
           "diverging": [
            [
             0,
             "#8e0152"
            ],
            [
             0.1,
             "#c51b7d"
            ],
            [
             0.2,
             "#de77ae"
            ],
            [
             0.3,
             "#f1b6da"
            ],
            [
             0.4,
             "#fde0ef"
            ],
            [
             0.5,
             "#f7f7f7"
            ],
            [
             0.6,
             "#e6f5d0"
            ],
            [
             0.7,
             "#b8e186"
            ],
            [
             0.8,
             "#7fbc41"
            ],
            [
             0.9,
             "#4d9221"
            ],
            [
             1,
             "#276419"
            ]
           ],
           "sequential": [
            [
             0,
             "#0d0887"
            ],
            [
             0.1111111111111111,
             "#46039f"
            ],
            [
             0.2222222222222222,
             "#7201a8"
            ],
            [
             0.3333333333333333,
             "#9c179e"
            ],
            [
             0.4444444444444444,
             "#bd3786"
            ],
            [
             0.5555555555555556,
             "#d8576b"
            ],
            [
             0.6666666666666666,
             "#ed7953"
            ],
            [
             0.7777777777777778,
             "#fb9f3a"
            ],
            [
             0.8888888888888888,
             "#fdca26"
            ],
            [
             1,
             "#f0f921"
            ]
           ],
           "sequentialminus": [
            [
             0,
             "#0d0887"
            ],
            [
             0.1111111111111111,
             "#46039f"
            ],
            [
             0.2222222222222222,
             "#7201a8"
            ],
            [
             0.3333333333333333,
             "#9c179e"
            ],
            [
             0.4444444444444444,
             "#bd3786"
            ],
            [
             0.5555555555555556,
             "#d8576b"
            ],
            [
             0.6666666666666666,
             "#ed7953"
            ],
            [
             0.7777777777777778,
             "#fb9f3a"
            ],
            [
             0.8888888888888888,
             "#fdca26"
            ],
            [
             1,
             "#f0f921"
            ]
           ]
          },
          "colorway": [
           "#636efa",
           "#EF553B",
           "#00cc96",
           "#ab63fa",
           "#FFA15A",
           "#19d3f3",
           "#FF6692",
           "#B6E880",
           "#FF97FF",
           "#FECB52"
          ],
          "font": {
           "color": "#2a3f5f"
          },
          "geo": {
           "bgcolor": "white",
           "lakecolor": "white",
           "landcolor": "#E5ECF6",
           "showlakes": true,
           "showland": true,
           "subunitcolor": "white"
          },
          "hoverlabel": {
           "align": "left"
          },
          "hovermode": "closest",
          "mapbox": {
           "style": "light"
          },
          "paper_bgcolor": "white",
          "plot_bgcolor": "#E5ECF6",
          "polar": {
           "angularaxis": {
            "gridcolor": "white",
            "linecolor": "white",
            "ticks": ""
           },
           "bgcolor": "#E5ECF6",
           "radialaxis": {
            "gridcolor": "white",
            "linecolor": "white",
            "ticks": ""
           }
          },
          "scene": {
           "xaxis": {
            "backgroundcolor": "#E5ECF6",
            "gridcolor": "white",
            "gridwidth": 2,
            "linecolor": "white",
            "showbackground": true,
            "ticks": "",
            "zerolinecolor": "white"
           },
           "yaxis": {
            "backgroundcolor": "#E5ECF6",
            "gridcolor": "white",
            "gridwidth": 2,
            "linecolor": "white",
            "showbackground": true,
            "ticks": "",
            "zerolinecolor": "white"
           },
           "zaxis": {
            "backgroundcolor": "#E5ECF6",
            "gridcolor": "white",
            "gridwidth": 2,
            "linecolor": "white",
            "showbackground": true,
            "ticks": "",
            "zerolinecolor": "white"
           }
          },
          "shapedefaults": {
           "line": {
            "color": "#2a3f5f"
           }
          },
          "ternary": {
           "aaxis": {
            "gridcolor": "white",
            "linecolor": "white",
            "ticks": ""
           },
           "baxis": {
            "gridcolor": "white",
            "linecolor": "white",
            "ticks": ""
           },
           "bgcolor": "#E5ECF6",
           "caxis": {
            "gridcolor": "white",
            "linecolor": "white",
            "ticks": ""
           }
          },
          "title": {
           "x": 0.05
          },
          "xaxis": {
           "automargin": true,
           "gridcolor": "white",
           "linecolor": "white",
           "ticks": "",
           "title": {
            "standoff": 15
           },
           "zerolinecolor": "white",
           "zerolinewidth": 2
          },
          "yaxis": {
           "automargin": true,
           "gridcolor": "white",
           "linecolor": "white",
           "ticks": "",
           "title": {
            "standoff": 15
           },
           "zerolinecolor": "white",
           "zerolinewidth": 2
          }
         }
        },
        "title": {
         "font": {
          "color": "black",
          "family": "Goldman Sans",
          "size": 24
         },
         "text": "<b>Number of Securities by Sector<b><br><sup>Largest 500 securities listed based on market capitalization with over 0.5M average volume</sup>"
        },
        "xaxis": {
         "tickfont": {
          "color": "black",
          "family": "Goldman Sans",
          "size": 16
         },
         "title": {
          "font": {
           "color": "black",
           "family": "Goldman Sans",
           "size": 20
          },
          "text": "<b>Number of Securities<b>"
         }
        },
        "yaxis": {
         "tickfont": {
          "color": "black",
          "family": "Goldman Sans",
          "size": 16
         },
         "title": {
          "font": {
           "color": "black",
           "family": "Goldman Sans",
           "size": 20
          },
          "text": "<b>Sector<b>"
         }
        }
       }
      }
     },
     "metadata": {},
     "output_type": "display_data"
    }
   ],
   "source": [
    "# create the bar trace\n",
    "bar_trace = go.Bar(\n",
    "    x=sectoOv['securities'],\n",
    "    y=sectoOv['Sector'],\n",
    "    orientation='h',\n",
    "    marker={'color': sectoOv['securities'], 'colorscale': 'Magma'},\n",
    "    hovertemplate=[f'Sector: {sect}<br>Securities: {sec}<br>Market Cap: {mc}<br>Volume: {v} units' for sect, sec, mc, v in zip(sectoOv['Sector'], sectoOv['securities'], sectoOv['marketCap_formatted'], sectoOv['volume_formatted'])],\n",
    "    name=''\n",
    ")\n",
    "\n",
    "# create the layout\n",
    "layout = go.Layout(\n",
    "    title={\n",
    "    'text':'<b>Number of Securities by Sector<b><br><sup>Largest 500 securities listed based on market capitalization with over 0.5M average volume</sup>',\n",
    "    'font':{'size':24,'family':'Goldman Sans','color':'black'}\n",
    "    },\n",
    "    xaxis={\n",
    "    'title':{\n",
    "    'text':'<b>Number of Securities<b>',    \n",
    "    'font':{'size':20,'family':'Goldman Sans','color':'black'}\n",
    "    },\n",
    "    'tickfont':{'size':16,'family':'Goldman Sans','color':'black'} \n",
    "    },\n",
    "    yaxis={\n",
    "    'title':{\n",
    "    'text':'<b>Sector<b>',    \n",
    "    'font':{'size':20,'family':'Goldman Sans','color':'black'}\n",
    "    },\n",
    "    'tickfont':{'size':16,'family':'Goldman Sans','color':'black'}\n",
    "    },\n",
    "    hoverlabel={\n",
    "    'font':{'size':15, 'family':'Goldman Sans'}\n",
    "    },\n",
    "    plot_bgcolor='white',\n",
    "    autosize=True,\n",
    "    height=500\n",
    ")\n",
    "\n",
    "# create the figure\n",
    "fig = go.Figure(data=[bar_trace], layout=layout)\n",
    "\n",
    "# show the plot\n",
    "fig.show()"
   ]
  },
  {
   "cell_type": "code",
   "execution_count": 5,
   "metadata": {},
   "outputs": [],
   "source": [
    "# Visualize how many stocks do we have within each industry\n",
    "industryOv = subsetDF.groupby(by = 'Industry').agg(securities=pd.NamedAgg('Ticker','count'), marketCap=pd.NamedAgg('Market Cap','mean'), volume=pd.NamedAgg('Volume','mean'))\n",
    "industryOv = industryOv.reset_index(drop=False)\n",
    "\n",
    "# Format variables in order to be displayed\n",
    "industryOv['marketCap_formatted'] = '$' + industryOv['marketCap'].apply(lambda x: '{:,.2f}'.format(x)) + 'B'\n",
    "industryOv['volume_formatted'] = industryOv['volume'].apply(lambda x: '{:,.2f}'.format(x)) + 'M'\n",
    "\n",
    "# Sort the sector in asceding order\n",
    "industryOv = industryOv.sort_values('securities',ascending=True)"
   ]
  },
  {
   "cell_type": "code",
   "execution_count": 6,
   "metadata": {},
   "outputs": [
    {
     "data": {
      "application/vnd.plotly.v1+json": {
       "config": {
        "plotlyServerURL": "https://plot.ly"
       },
       "data": [
        {
         "hovertemplate": [
          "Industry: Personal Services<br>Securities: 1<br>Market Cap: $17.21B<br>Volume: 1.46M units",
          "Industry: Footwear & Accessories<br>Securities: 1<br>Market Cap: $185.42B<br>Volume: 3.87M units",
          "Industry: Grocery Stores<br>Securities: 1<br>Market Cap: $32.73B<br>Volume: 8.04M units",
          "Industry: Consumer Electronics<br>Securities: 1<br>Market Cap: $2,308.58B<br>Volume: 70.59M units",
          "Industry: Confectioners<br>Securities: 1<br>Market Cap: $89.11B<br>Volume: 5.64M units",
          "Industry: Utilities - Renewable<br>Securities: 1<br>Market Cap: $24.92B<br>Volume: 2.30M units",
          "Industry: Medical Care Facilities<br>Securities: 1<br>Market Cap: $67.51B<br>Volume: 1.19M units",
          "Industry: Chemicals<br>Securities: 1<br>Market Cap: $41.19B<br>Volume: 3.44M units",
          "Industry: Mortgage Finance<br>Securities: 1<br>Market Cap: $15.94B<br>Volume: 3.09M units",
          "Industry: Food Distribution<br>Securities: 1<br>Market Cap: $38.35B<br>Volume: 1.60M units",
          "Industry: Pharmaceutical Retailers<br>Securities: 1<br>Market Cap: $30.52B<br>Volume: 5.41M units",
          "Industry: REIT - Diversified<br>Securities: 1<br>Market Cap: $33.92B<br>Volume: 9.85M units",
          "Industry: Electrical Equipment & Parts<br>Securities: 1<br>Market Cap: $65.82B<br>Volume: 2.85M units",
          "Industry: Auto & Truck Dealerships<br>Securities: 1<br>Market Cap: $33.86B<br>Volume: 1.83M units",
          "Industry: Specialty Business Services<br>Securities: 1<br>Market Cap: $29.14B<br>Volume: 1.00M units",
          "Industry: Utilities - Regulated Water<br>Securities: 1<br>Market Cap: $25.21B<br>Volume: 2.56M units",
          "Industry: REIT - Retail<br>Securities: 2<br>Market Cap: $41.24B<br>Volume: 2.32M units",
          "Industry: Residential Construction<br>Securities: 2<br>Market Cap: $29.16B<br>Volume: 2.48M units",
          "Industry: Packaging & Containers<br>Securities: 2<br>Market Cap: $17.13B<br>Volume: 4.28M units",
          "Industry: Resorts & Casinos<br>Securities: 2<br>Market Cap: $31.46B<br>Volume: 4.62M units",
          "Industry: Scientific & Technical Instruments<br>Securities: 2<br>Market Cap: $25.98B<br>Volume: 1.71M units",
          "Industry: Specialty Retail<br>Securities: 2<br>Market Cap: $21.52B<br>Volume: 1.82M units",
          "Industry: Industrial Distribution<br>Securities: 2<br>Market Cap: $30.00B<br>Volume: 2.57M units",
          "Industry: Staffing & Employment Services<br>Securities: 2<br>Market Cap: $66.31B<br>Volume: 1.85M units",
          "Industry: Home Improvement Retail<br>Securities: 2<br>Market Cap: $208.31B<br>Volume: 3.70M units",
          "Industry: Health Information Services<br>Securities: 2<br>Market Cap: $30.54B<br>Volume: 2.14M units",
          "Industry: Utilities - Diversified<br>Securities: 2<br>Market Cap: $31.62B<br>Volume: 2.19M units",
          "Industry: REIT - Healthcare Facilities<br>Securities: 2<br>Market Cap: $27.81B<br>Volume: 1.84M units",
          "Industry: Advertising Agencies<br>Securities: 2<br>Market Cap: $16.17B<br>Volume: 2.05M units",
          "Industry: Insurance Brokers<br>Securities: 2<br>Market Cap: $48.02B<br>Volume: 0.84M units",
          "Industry: Conglomerates<br>Securities: 2<br>Market Cap: $95.21B<br>Volume: 3.00M units",
          "Industry: Copper<br>Securities: 2<br>Market Cap: $59.72B<br>Volume: 6.13M units",
          "Industry: Beverages - Wineries & Distilleries<br>Securities: 2<br>Market Cap: $36.21B<br>Volume: 1.13M units",
          "Industry: Beverages - Brewers<br>Securities: 2<br>Market Cap: $72.58B<br>Volume: 32.73M units",
          "Industry: Electronic Components<br>Securities: 3<br>Market Cap: $38.62B<br>Volume: 2.71M units",
          "Industry: Oil & Gas Refining & Marketing<br>Securities: 3<br>Market Cap: $52.84B<br>Volume: 3.69M units",
          "Industry: Building Products & Equipment<br>Securities: 3<br>Market Cap: $41.70B<br>Volume: 3.89M units",
          "Industry: Medical Distribution<br>Securities: 3<br>Market Cap: $32.71B<br>Volume: 1.49M units",
          "Industry: REIT - Industrial<br>Securities: 3<br>Market Cap: $63.52B<br>Volume: 1.53M units",
          "Industry: Real Estate Services<br>Securities: 3<br>Market Cap: $26.22B<br>Volume: 3.91M units",
          "Industry: Solar<br>Securities: 3<br>Market Cap: $22.68B<br>Volume: 3.28M units",
          "Industry: Apparel Retail<br>Securities: 3<br>Market Cap: $55.55B<br>Volume: 2.36M units",
          "Industry: Airlines<br>Securities: 3<br>Market Cap: $20.66B<br>Volume: 5.73M units",
          "Industry: Steel<br>Securities: 3<br>Market Cap: $31.87B<br>Volume: 2.00M units",
          "Industry: Tobacco<br>Securities: 3<br>Market Cap: $106.77B<br>Volume: 3.79M units",
          "Industry: REIT - Residential<br>Securities: 3<br>Market Cap: $18.60B<br>Volume: 2.25M units",
          "Industry: Lodging<br>Securities: 3<br>Market Cap: $35.96B<br>Volume: 1.29M units",
          "Industry: Waste Management<br>Securities: 3<br>Market Cap: $38.78B<br>Volume: 1.38M units",
          "Industry: Farm Products<br>Securities: 3<br>Market Cap: $26.59B<br>Volume: 1.89M units",
          "Industry: Other Industrial Metals & Mining<br>Securities: 4<br>Market Cap: $97.43B<br>Volume: 12.18M units",
          "Industry: Gold<br>Securities: 4<br>Market Cap: $26.00B<br>Volume: 6.03M units",
          "Industry: Drug Manufacturers - Specialty & Generic<br>Securities: 4<br>Market Cap: $43.72B<br>Volume: 5.07M units",
          "Industry: Insurance - Life<br>Securities: 4<br>Market Cap: $42.02B<br>Volume: 3.03M units",
          "Industry: Oil & Gas Equipment & Services<br>Securities: 4<br>Market Cap: $41.41B<br>Volume: 4.72M units",
          "Industry: Auto Parts<br>Securities: 4<br>Market Cap: $23.54B<br>Volume: 1.74M units",
          "Industry: Medical Instruments & Supplies<br>Securities: 4<br>Market Cap: $46.56B<br>Volume: 1.87M units",
          "Industry: Insurance - Diversified<br>Securities: 4<br>Market Cap: $195.23B<br>Volume: 3.19M units",
          "Industry: Farm & Heavy Construction Machinery<br>Securities: 4<br>Market Cap: $79.17B<br>Volume: 2.94M units",
          "Industry: Integrated Freight & Logistics<br>Securities: 4<br>Market Cap: $61.97B<br>Volume: 2.51M units",
          "Industry: Agricultural Inputs<br>Securities: 4<br>Market Cap: $34.38B<br>Volume: 2.75M units",
          "Industry: Communication Equipment<br>Securities: 4<br>Market Cap: $65.94B<br>Volume: 17.53M units",
          "Industry: Financial Data & Stock Exchanges<br>Securities: 5<br>Market Cap: $55.21B<br>Volume: 5.06M units",
          "Industry: Diagnostics & Research<br>Securities: 5<br>Market Cap: $96.71B<br>Volume: 1.45M units",
          "Industry: Semiconductor Equipment & Materials<br>Securities: 5<br>Market Cap: $96.56B<br>Volume: 2.25M units",
          "Industry: Railroads<br>Securities: 5<br>Market Cap: $84.89B<br>Volume: 4.44M units",
          "Industry: Electronic Gaming & Multimedia<br>Securities: 5<br>Market Cap: $38.23B<br>Volume: 6.14M units",
          "Industry: Discount Stores<br>Securities: 5<br>Market Cap: $150.31B<br>Volume: 3.28M units",
          "Industry: Beverages - Non-Alcoholic<br>Securities: 5<br>Market Cap: $124.90B<br>Volume: 5.49M units",
          "Industry: Insurance - Property & Casualty<br>Securities: 5<br>Market Cap: $52.65B<br>Volume: 1.73M units",
          "Industry: Computer Hardware<br>Securities: 5<br>Market Cap: $25.27B<br>Volume: 3.98M units",
          "Industry: Capital Markets<br>Securities: 5<br>Market Cap: $95.87B<br>Volume: 3.24M units",
          "Industry: Healthcare Plans<br>Securities: 6<br>Market Cap: $141.12B<br>Volume: 3.43M units",
          "Industry: REIT - Specialty<br>Securities: 6<br>Market Cap: $38.45B<br>Volume: 2.07M units",
          "Industry: Restaurants<br>Securities: 6<br>Market Cap: $68.94B<br>Volume: 2.16M units",
          "Industry: Travel Services<br>Securities: 6<br>Market Cap: $27.40B<br>Volume: 7.91M units",
          "Industry: Household & Personal Products<br>Securities: 7<br>Market Cap: $98.63B<br>Volume: 2.05M units",
          "Industry: Specialty Industrial Machinery<br>Securities: 7<br>Market Cap: $51.50B<br>Volume: 2.58M units",
          "Industry: Information Technology Services<br>Securities: 7<br>Market Cap: $76.35B<br>Volume: 3.19M units",
          "Industry: Credit Services<br>Securities: 7<br>Market Cap: $155.78B<br>Volume: 4.07M units",
          "Industry: Biotechnology<br>Securities: 8<br>Market Cap: $60.41B<br>Volume: 1.84M units",
          "Industry: Packaged Foods<br>Securities: 8<br>Market Cap: $25.79B<br>Volume: 2.74M units",
          "Industry: Aerospace & Defense<br>Securities: 8<br>Market Cap: $75.14B<br>Volume: 2.78M units",
          "Industry: Medical Devices<br>Securities: 9<br>Market Cap: $68.32B<br>Volume: 3.10M units",
          "Industry: Auto Manufacturers<br>Securities: 9<br>Market Cap: $98.54B<br>Volume: 43.22M units",
          "Industry: Internet Retail<br>Securities: 9<br>Market Cap: $165.72B<br>Volume: 13.47M units",
          "Industry: Entertainment<br>Securities: 9<br>Market Cap: $50.80B<br>Volume: 6.58M units",
          "Industry: Oil & Gas E&P<br>Securities: 10<br>Market Cap: $51.40B<br>Volume: 6.64M units",
          "Industry: Oil & Gas Midstream<br>Securities: 10<br>Market Cap: $41.46B<br>Volume: 4.41M units",
          "Industry: Internet Content & Information<br>Securities: 10<br>Market Cap: $299.12B<br>Volume: 16.95M units",
          "Industry: Telecom Services<br>Securities: 11<br>Market Cap: $80.29B<br>Volume: 7.26M units",
          "Industry: Specialty Chemicals<br>Securities: 11<br>Market Cap: $48.35B<br>Volume: 1.94M units",
          "Industry: Oil & Gas Integrated<br>Securities: 11<br>Market Cap: $145.46B<br>Volume: 6.94M units",
          "Industry: Software - Infrastructure<br>Securities: 13<br>Market Cap: $197.73B<br>Volume: 9.91M units",
          "Industry: Asset Management<br>Securities: 13<br>Market Cap: $35.22B<br>Volume: 2.38M units",
          "Industry: Software - Application<br>Securities: 14<br>Market Cap: $58.87B<br>Volume: 5.55M units",
          "Industry: Drug Manufacturers - General<br>Securities: 14<br>Market Cap: $178.69B<br>Volume: 4.73M units",
          "Industry: Banks - Diversified<br>Securities: 17<br>Market Cap: $106.12B<br>Volume: 8.45M units",
          "Industry: Semiconductors<br>Securities: 18<br>Market Cap: $125.05B<br>Volume: 13.34M units",
          "Industry: Banks - Regional<br>Securities: 18<br>Market Cap: $39.70B<br>Volume: 8.52M units",
          "Industry: Utilities - Regulated Electric<br>Securities: 22<br>Market Cap: $36.46B<br>Volume: 4.22M units"
         ],
         "marker": {
          "color": [
           1,
           1,
           1,
           1,
           1,
           1,
           1,
           1,
           1,
           1,
           1,
           1,
           1,
           1,
           1,
           1,
           2,
           2,
           2,
           2,
           2,
           2,
           2,
           2,
           2,
           2,
           2,
           2,
           2,
           2,
           2,
           2,
           2,
           2,
           3,
           3,
           3,
           3,
           3,
           3,
           3,
           3,
           3,
           3,
           3,
           3,
           3,
           3,
           3,
           4,
           4,
           4,
           4,
           4,
           4,
           4,
           4,
           4,
           4,
           4,
           4,
           5,
           5,
           5,
           5,
           5,
           5,
           5,
           5,
           5,
           5,
           6,
           6,
           6,
           6,
           7,
           7,
           7,
           7,
           8,
           8,
           8,
           9,
           9,
           9,
           9,
           10,
           10,
           10,
           11,
           11,
           11,
           13,
           13,
           14,
           14,
           17,
           18,
           18,
           22
          ],
          "colorscale": [
           [
            0,
            "#000004"
           ],
           [
            0.1111111111111111,
            "#180f3d"
           ],
           [
            0.2222222222222222,
            "#440f76"
           ],
           [
            0.3333333333333333,
            "#721f81"
           ],
           [
            0.4444444444444444,
            "#9e2f7f"
           ],
           [
            0.5555555555555556,
            "#cd4071"
           ],
           [
            0.6666666666666666,
            "#f1605d"
           ],
           [
            0.7777777777777778,
            "#fd9668"
           ],
           [
            0.8888888888888888,
            "#feca8d"
           ],
           [
            1,
            "#fcfdbf"
           ]
          ]
         },
         "name": "",
         "orientation": "h",
         "type": "bar",
         "x": [
          1,
          1,
          1,
          1,
          1,
          1,
          1,
          1,
          1,
          1,
          1,
          1,
          1,
          1,
          1,
          1,
          2,
          2,
          2,
          2,
          2,
          2,
          2,
          2,
          2,
          2,
          2,
          2,
          2,
          2,
          2,
          2,
          2,
          2,
          3,
          3,
          3,
          3,
          3,
          3,
          3,
          3,
          3,
          3,
          3,
          3,
          3,
          3,
          3,
          4,
          4,
          4,
          4,
          4,
          4,
          4,
          4,
          4,
          4,
          4,
          4,
          5,
          5,
          5,
          5,
          5,
          5,
          5,
          5,
          5,
          5,
          6,
          6,
          6,
          6,
          7,
          7,
          7,
          7,
          8,
          8,
          8,
          9,
          9,
          9,
          9,
          10,
          10,
          10,
          11,
          11,
          11,
          13,
          13,
          14,
          14,
          17,
          18,
          18,
          22
         ],
         "y": [
          "Personal Services",
          "Footwear & Accessories",
          "Grocery Stores",
          "Consumer Electronics",
          "Confectioners",
          "Utilities - Renewable",
          "Medical Care Facilities",
          "Chemicals",
          "Mortgage Finance",
          "Food Distribution",
          "Pharmaceutical Retailers",
          "REIT - Diversified",
          "Electrical Equipment & Parts",
          "Auto & Truck Dealerships",
          "Specialty Business Services",
          "Utilities - Regulated Water",
          "REIT - Retail",
          "Residential Construction",
          "Packaging & Containers",
          "Resorts & Casinos",
          "Scientific & Technical Instruments",
          "Specialty Retail",
          "Industrial Distribution",
          "Staffing & Employment Services",
          "Home Improvement Retail",
          "Health Information Services",
          "Utilities - Diversified",
          "REIT - Healthcare Facilities",
          "Advertising Agencies",
          "Insurance Brokers",
          "Conglomerates",
          "Copper",
          "Beverages - Wineries & Distilleries",
          "Beverages - Brewers",
          "Electronic Components",
          "Oil & Gas Refining & Marketing",
          "Building Products & Equipment",
          "Medical Distribution",
          "REIT - Industrial",
          "Real Estate Services",
          "Solar",
          "Apparel Retail",
          "Airlines",
          "Steel",
          "Tobacco",
          "REIT - Residential",
          "Lodging",
          "Waste Management",
          "Farm Products",
          "Other Industrial Metals & Mining",
          "Gold",
          "Drug Manufacturers - Specialty & Generic",
          "Insurance - Life",
          "Oil & Gas Equipment & Services",
          "Auto Parts",
          "Medical Instruments & Supplies",
          "Insurance - Diversified",
          "Farm & Heavy Construction Machinery",
          "Integrated Freight & Logistics",
          "Agricultural Inputs",
          "Communication Equipment",
          "Financial Data & Stock Exchanges",
          "Diagnostics & Research",
          "Semiconductor Equipment & Materials",
          "Railroads",
          "Electronic Gaming & Multimedia",
          "Discount Stores",
          "Beverages - Non-Alcoholic",
          "Insurance - Property & Casualty",
          "Computer Hardware",
          "Capital Markets",
          "Healthcare Plans",
          "REIT - Specialty",
          "Restaurants",
          "Travel Services",
          "Household & Personal Products",
          "Specialty Industrial Machinery",
          "Information Technology Services",
          "Credit Services",
          "Biotechnology",
          "Packaged Foods",
          "Aerospace & Defense",
          "Medical Devices",
          "Auto Manufacturers",
          "Internet Retail",
          "Entertainment",
          "Oil & Gas E&P",
          "Oil & Gas Midstream",
          "Internet Content & Information",
          "Telecom Services",
          "Specialty Chemicals",
          "Oil & Gas Integrated",
          "Software - Infrastructure",
          "Asset Management",
          "Software - Application",
          "Drug Manufacturers - General",
          "Banks - Diversified",
          "Semiconductors",
          "Banks - Regional",
          "Utilities - Regulated Electric"
         ]
        }
       ],
       "layout": {
        "autosize": true,
        "height": 500,
        "hoverlabel": {
         "font": {
          "family": "Goldman Sans",
          "size": 15
         }
        },
        "plot_bgcolor": "white",
        "template": {
         "data": {
          "bar": [
           {
            "error_x": {
             "color": "#2a3f5f"
            },
            "error_y": {
             "color": "#2a3f5f"
            },
            "marker": {
             "line": {
              "color": "#E5ECF6",
              "width": 0.5
             },
             "pattern": {
              "fillmode": "overlay",
              "size": 10,
              "solidity": 0.2
             }
            },
            "type": "bar"
           }
          ],
          "barpolar": [
           {
            "marker": {
             "line": {
              "color": "#E5ECF6",
              "width": 0.5
             },
             "pattern": {
              "fillmode": "overlay",
              "size": 10,
              "solidity": 0.2
             }
            },
            "type": "barpolar"
           }
          ],
          "carpet": [
           {
            "aaxis": {
             "endlinecolor": "#2a3f5f",
             "gridcolor": "white",
             "linecolor": "white",
             "minorgridcolor": "white",
             "startlinecolor": "#2a3f5f"
            },
            "baxis": {
             "endlinecolor": "#2a3f5f",
             "gridcolor": "white",
             "linecolor": "white",
             "minorgridcolor": "white",
             "startlinecolor": "#2a3f5f"
            },
            "type": "carpet"
           }
          ],
          "choropleth": [
           {
            "colorbar": {
             "outlinewidth": 0,
             "ticks": ""
            },
            "type": "choropleth"
           }
          ],
          "contour": [
           {
            "colorbar": {
             "outlinewidth": 0,
             "ticks": ""
            },
            "colorscale": [
             [
              0,
              "#0d0887"
             ],
             [
              0.1111111111111111,
              "#46039f"
             ],
             [
              0.2222222222222222,
              "#7201a8"
             ],
             [
              0.3333333333333333,
              "#9c179e"
             ],
             [
              0.4444444444444444,
              "#bd3786"
             ],
             [
              0.5555555555555556,
              "#d8576b"
             ],
             [
              0.6666666666666666,
              "#ed7953"
             ],
             [
              0.7777777777777778,
              "#fb9f3a"
             ],
             [
              0.8888888888888888,
              "#fdca26"
             ],
             [
              1,
              "#f0f921"
             ]
            ],
            "type": "contour"
           }
          ],
          "contourcarpet": [
           {
            "colorbar": {
             "outlinewidth": 0,
             "ticks": ""
            },
            "type": "contourcarpet"
           }
          ],
          "heatmap": [
           {
            "colorbar": {
             "outlinewidth": 0,
             "ticks": ""
            },
            "colorscale": [
             [
              0,
              "#0d0887"
             ],
             [
              0.1111111111111111,
              "#46039f"
             ],
             [
              0.2222222222222222,
              "#7201a8"
             ],
             [
              0.3333333333333333,
              "#9c179e"
             ],
             [
              0.4444444444444444,
              "#bd3786"
             ],
             [
              0.5555555555555556,
              "#d8576b"
             ],
             [
              0.6666666666666666,
              "#ed7953"
             ],
             [
              0.7777777777777778,
              "#fb9f3a"
             ],
             [
              0.8888888888888888,
              "#fdca26"
             ],
             [
              1,
              "#f0f921"
             ]
            ],
            "type": "heatmap"
           }
          ],
          "heatmapgl": [
           {
            "colorbar": {
             "outlinewidth": 0,
             "ticks": ""
            },
            "colorscale": [
             [
              0,
              "#0d0887"
             ],
             [
              0.1111111111111111,
              "#46039f"
             ],
             [
              0.2222222222222222,
              "#7201a8"
             ],
             [
              0.3333333333333333,
              "#9c179e"
             ],
             [
              0.4444444444444444,
              "#bd3786"
             ],
             [
              0.5555555555555556,
              "#d8576b"
             ],
             [
              0.6666666666666666,
              "#ed7953"
             ],
             [
              0.7777777777777778,
              "#fb9f3a"
             ],
             [
              0.8888888888888888,
              "#fdca26"
             ],
             [
              1,
              "#f0f921"
             ]
            ],
            "type": "heatmapgl"
           }
          ],
          "histogram": [
           {
            "marker": {
             "pattern": {
              "fillmode": "overlay",
              "size": 10,
              "solidity": 0.2
             }
            },
            "type": "histogram"
           }
          ],
          "histogram2d": [
           {
            "colorbar": {
             "outlinewidth": 0,
             "ticks": ""
            },
            "colorscale": [
             [
              0,
              "#0d0887"
             ],
             [
              0.1111111111111111,
              "#46039f"
             ],
             [
              0.2222222222222222,
              "#7201a8"
             ],
             [
              0.3333333333333333,
              "#9c179e"
             ],
             [
              0.4444444444444444,
              "#bd3786"
             ],
             [
              0.5555555555555556,
              "#d8576b"
             ],
             [
              0.6666666666666666,
              "#ed7953"
             ],
             [
              0.7777777777777778,
              "#fb9f3a"
             ],
             [
              0.8888888888888888,
              "#fdca26"
             ],
             [
              1,
              "#f0f921"
             ]
            ],
            "type": "histogram2d"
           }
          ],
          "histogram2dcontour": [
           {
            "colorbar": {
             "outlinewidth": 0,
             "ticks": ""
            },
            "colorscale": [
             [
              0,
              "#0d0887"
             ],
             [
              0.1111111111111111,
              "#46039f"
             ],
             [
              0.2222222222222222,
              "#7201a8"
             ],
             [
              0.3333333333333333,
              "#9c179e"
             ],
             [
              0.4444444444444444,
              "#bd3786"
             ],
             [
              0.5555555555555556,
              "#d8576b"
             ],
             [
              0.6666666666666666,
              "#ed7953"
             ],
             [
              0.7777777777777778,
              "#fb9f3a"
             ],
             [
              0.8888888888888888,
              "#fdca26"
             ],
             [
              1,
              "#f0f921"
             ]
            ],
            "type": "histogram2dcontour"
           }
          ],
          "mesh3d": [
           {
            "colorbar": {
             "outlinewidth": 0,
             "ticks": ""
            },
            "type": "mesh3d"
           }
          ],
          "parcoords": [
           {
            "line": {
             "colorbar": {
              "outlinewidth": 0,
              "ticks": ""
             }
            },
            "type": "parcoords"
           }
          ],
          "pie": [
           {
            "automargin": true,
            "type": "pie"
           }
          ],
          "scatter": [
           {
            "fillpattern": {
             "fillmode": "overlay",
             "size": 10,
             "solidity": 0.2
            },
            "type": "scatter"
           }
          ],
          "scatter3d": [
           {
            "line": {
             "colorbar": {
              "outlinewidth": 0,
              "ticks": ""
             }
            },
            "marker": {
             "colorbar": {
              "outlinewidth": 0,
              "ticks": ""
             }
            },
            "type": "scatter3d"
           }
          ],
          "scattercarpet": [
           {
            "marker": {
             "colorbar": {
              "outlinewidth": 0,
              "ticks": ""
             }
            },
            "type": "scattercarpet"
           }
          ],
          "scattergeo": [
           {
            "marker": {
             "colorbar": {
              "outlinewidth": 0,
              "ticks": ""
             }
            },
            "type": "scattergeo"
           }
          ],
          "scattergl": [
           {
            "marker": {
             "colorbar": {
              "outlinewidth": 0,
              "ticks": ""
             }
            },
            "type": "scattergl"
           }
          ],
          "scattermapbox": [
           {
            "marker": {
             "colorbar": {
              "outlinewidth": 0,
              "ticks": ""
             }
            },
            "type": "scattermapbox"
           }
          ],
          "scatterpolar": [
           {
            "marker": {
             "colorbar": {
              "outlinewidth": 0,
              "ticks": ""
             }
            },
            "type": "scatterpolar"
           }
          ],
          "scatterpolargl": [
           {
            "marker": {
             "colorbar": {
              "outlinewidth": 0,
              "ticks": ""
             }
            },
            "type": "scatterpolargl"
           }
          ],
          "scatterternary": [
           {
            "marker": {
             "colorbar": {
              "outlinewidth": 0,
              "ticks": ""
             }
            },
            "type": "scatterternary"
           }
          ],
          "surface": [
           {
            "colorbar": {
             "outlinewidth": 0,
             "ticks": ""
            },
            "colorscale": [
             [
              0,
              "#0d0887"
             ],
             [
              0.1111111111111111,
              "#46039f"
             ],
             [
              0.2222222222222222,
              "#7201a8"
             ],
             [
              0.3333333333333333,
              "#9c179e"
             ],
             [
              0.4444444444444444,
              "#bd3786"
             ],
             [
              0.5555555555555556,
              "#d8576b"
             ],
             [
              0.6666666666666666,
              "#ed7953"
             ],
             [
              0.7777777777777778,
              "#fb9f3a"
             ],
             [
              0.8888888888888888,
              "#fdca26"
             ],
             [
              1,
              "#f0f921"
             ]
            ],
            "type": "surface"
           }
          ],
          "table": [
           {
            "cells": {
             "fill": {
              "color": "#EBF0F8"
             },
             "line": {
              "color": "white"
             }
            },
            "header": {
             "fill": {
              "color": "#C8D4E3"
             },
             "line": {
              "color": "white"
             }
            },
            "type": "table"
           }
          ]
         },
         "layout": {
          "annotationdefaults": {
           "arrowcolor": "#2a3f5f",
           "arrowhead": 0,
           "arrowwidth": 1
          },
          "autotypenumbers": "strict",
          "coloraxis": {
           "colorbar": {
            "outlinewidth": 0,
            "ticks": ""
           }
          },
          "colorscale": {
           "diverging": [
            [
             0,
             "#8e0152"
            ],
            [
             0.1,
             "#c51b7d"
            ],
            [
             0.2,
             "#de77ae"
            ],
            [
             0.3,
             "#f1b6da"
            ],
            [
             0.4,
             "#fde0ef"
            ],
            [
             0.5,
             "#f7f7f7"
            ],
            [
             0.6,
             "#e6f5d0"
            ],
            [
             0.7,
             "#b8e186"
            ],
            [
             0.8,
             "#7fbc41"
            ],
            [
             0.9,
             "#4d9221"
            ],
            [
             1,
             "#276419"
            ]
           ],
           "sequential": [
            [
             0,
             "#0d0887"
            ],
            [
             0.1111111111111111,
             "#46039f"
            ],
            [
             0.2222222222222222,
             "#7201a8"
            ],
            [
             0.3333333333333333,
             "#9c179e"
            ],
            [
             0.4444444444444444,
             "#bd3786"
            ],
            [
             0.5555555555555556,
             "#d8576b"
            ],
            [
             0.6666666666666666,
             "#ed7953"
            ],
            [
             0.7777777777777778,
             "#fb9f3a"
            ],
            [
             0.8888888888888888,
             "#fdca26"
            ],
            [
             1,
             "#f0f921"
            ]
           ],
           "sequentialminus": [
            [
             0,
             "#0d0887"
            ],
            [
             0.1111111111111111,
             "#46039f"
            ],
            [
             0.2222222222222222,
             "#7201a8"
            ],
            [
             0.3333333333333333,
             "#9c179e"
            ],
            [
             0.4444444444444444,
             "#bd3786"
            ],
            [
             0.5555555555555556,
             "#d8576b"
            ],
            [
             0.6666666666666666,
             "#ed7953"
            ],
            [
             0.7777777777777778,
             "#fb9f3a"
            ],
            [
             0.8888888888888888,
             "#fdca26"
            ],
            [
             1,
             "#f0f921"
            ]
           ]
          },
          "colorway": [
           "#636efa",
           "#EF553B",
           "#00cc96",
           "#ab63fa",
           "#FFA15A",
           "#19d3f3",
           "#FF6692",
           "#B6E880",
           "#FF97FF",
           "#FECB52"
          ],
          "font": {
           "color": "#2a3f5f"
          },
          "geo": {
           "bgcolor": "white",
           "lakecolor": "white",
           "landcolor": "#E5ECF6",
           "showlakes": true,
           "showland": true,
           "subunitcolor": "white"
          },
          "hoverlabel": {
           "align": "left"
          },
          "hovermode": "closest",
          "mapbox": {
           "style": "light"
          },
          "paper_bgcolor": "white",
          "plot_bgcolor": "#E5ECF6",
          "polar": {
           "angularaxis": {
            "gridcolor": "white",
            "linecolor": "white",
            "ticks": ""
           },
           "bgcolor": "#E5ECF6",
           "radialaxis": {
            "gridcolor": "white",
            "linecolor": "white",
            "ticks": ""
           }
          },
          "scene": {
           "xaxis": {
            "backgroundcolor": "#E5ECF6",
            "gridcolor": "white",
            "gridwidth": 2,
            "linecolor": "white",
            "showbackground": true,
            "ticks": "",
            "zerolinecolor": "white"
           },
           "yaxis": {
            "backgroundcolor": "#E5ECF6",
            "gridcolor": "white",
            "gridwidth": 2,
            "linecolor": "white",
            "showbackground": true,
            "ticks": "",
            "zerolinecolor": "white"
           },
           "zaxis": {
            "backgroundcolor": "#E5ECF6",
            "gridcolor": "white",
            "gridwidth": 2,
            "linecolor": "white",
            "showbackground": true,
            "ticks": "",
            "zerolinecolor": "white"
           }
          },
          "shapedefaults": {
           "line": {
            "color": "#2a3f5f"
           }
          },
          "ternary": {
           "aaxis": {
            "gridcolor": "white",
            "linecolor": "white",
            "ticks": ""
           },
           "baxis": {
            "gridcolor": "white",
            "linecolor": "white",
            "ticks": ""
           },
           "bgcolor": "#E5ECF6",
           "caxis": {
            "gridcolor": "white",
            "linecolor": "white",
            "ticks": ""
           }
          },
          "title": {
           "x": 0.05
          },
          "xaxis": {
           "automargin": true,
           "gridcolor": "white",
           "linecolor": "white",
           "ticks": "",
           "title": {
            "standoff": 15
           },
           "zerolinecolor": "white",
           "zerolinewidth": 2
          },
          "yaxis": {
           "automargin": true,
           "gridcolor": "white",
           "linecolor": "white",
           "ticks": "",
           "title": {
            "standoff": 15
           },
           "zerolinecolor": "white",
           "zerolinewidth": 2
          }
         }
        },
        "title": {
         "font": {
          "color": "black",
          "family": "Goldman Sans",
          "size": 24
         },
         "text": "<b>Number of Securities by Industry<b><br><sup>Largest 500 securities listed based on market capitalization with over 0.5M average volume</sup>"
        },
        "xaxis": {
         "tickfont": {
          "color": "black",
          "family": "Goldman Sans",
          "size": 16
         },
         "title": {
          "font": {
           "color": "black",
           "family": "Goldman Sans",
           "size": 20
          },
          "text": "<b>Number of Securities<b>"
         }
        },
        "yaxis": {
         "tickfont": {
          "color": "black",
          "family": "Goldman Sans",
          "size": 16
         },
         "title": {
          "font": {
           "color": "black",
           "family": "Goldman Sans",
           "size": 20
          },
          "text": "<b>Industry<b>"
         }
        }
       }
      }
     },
     "metadata": {},
     "output_type": "display_data"
    }
   ],
   "source": [
    "# create the bar trace\n",
    "bar_trace = go.Bar(\n",
    "    x=industryOv['securities'],\n",
    "    y=industryOv['Industry'],\n",
    "    orientation='h',\n",
    "    marker={'color': industryOv['securities'], 'colorscale': 'Magma'},\n",
    "    hovertemplate=[f'Industry: {ind}<br>Securities: {sec}<br>Market Cap: {mc}<br>Volume: {v} units' for ind, sec, mc, v in zip(industryOv['Industry'], industryOv['securities'], industryOv['marketCap_formatted'], industryOv['volume_formatted'])],\n",
    "    name=''\n",
    ")\n",
    "\n",
    "# create the layout\n",
    "layout = go.Layout(\n",
    "    title={\n",
    "    'text':'<b>Number of Securities by Industry<b><br><sup>Largest 500 securities listed based on market capitalization with over 0.5M average volume</sup>',\n",
    "    'font':{'size':24,'family':'Goldman Sans','color':'black'}\n",
    "    },\n",
    "    xaxis={\n",
    "    'title':{\n",
    "    'text':'<b>Number of Securities<b>',    \n",
    "    'font':{'size':20,'family':'Goldman Sans','color':'black'}\n",
    "    },\n",
    "    'tickfont':{'size':16,'family':'Goldman Sans','color':'black'} \n",
    "    },\n",
    "    yaxis={\n",
    "    'title':{\n",
    "    'text':'<b>Industry<b>',    \n",
    "    'font':{'size':20,'family':'Goldman Sans','color':'black'}\n",
    "    },\n",
    "    'tickfont':{'size':16,'family':'Goldman Sans','color':'black'}\n",
    "    },\n",
    "    hoverlabel={\n",
    "    'font':{'size':15, 'family':'Goldman Sans'}\n",
    "    },\n",
    "    plot_bgcolor='white',\n",
    "    autosize=True,\n",
    "    height=500\n",
    ")\n",
    "\n",
    "# create the figure\n",
    "fig = go.Figure(data=[bar_trace], layout=layout)\n",
    "\n",
    "# show the plot\n",
    "fig.show()"
   ]
  },
  {
   "attachments": {},
   "cell_type": "markdown",
   "metadata": {},
   "source": [
    "## Section A: Dimensionality reduction\n",
    "The first step towards implementing the pairs trading strategy is to find a compact representation for each asset, starting from its price series. The application of Principal Component Analysis (PCA) is proposed for this purpose.\n",
    "\n",
    "PCA is a statistical procedure that uses an orthogonal transformation to convert a set of observations of possibly correlated variables into a set of linearly uncorrelated variables, the principal components. Each component can be seen as representing a risk factor. We suggest the application of PCA in the normalized return series, defined as:\n",
    "\n",
    "$$R_{i,t} = \\frac{P_{i,t}-P_{i,t-1}}{P_{i,t-1}}$$\n",
    "\n",
    "Where $P_{i,t}$ is the price series of a asset i. Using the price series could result in the detection of spurious correlations due to underlying time trends. The number of principal components used defines the number of features for each asset representation."
   ]
  },
  {
   "cell_type": "code",
   "execution_count": 7,
   "metadata": {},
   "outputs": [
    {
     "name": "stdout",
     "output_type": "stream",
     "text": [
      "We are using 421 securities for the PCA\n"
     ]
    }
   ],
   "source": [
    "# Load prices for each asset\n",
    "dataPrice = pd.read_feather('data/external/subsetprices.feather')\n",
    "dataPrice = dataPrice[['Date','Adj Close','stock']].pivot_table(values='Adj Close',index='Date',columns='stock')\n",
    "\n",
    "# Transform prices into daily returns\n",
    "dataRets = dataPrice.pct_change(1).iloc[1:,]\n",
    "dataRets.drop(dataRets.columns[dataRets.isna().mean() * 100 > 0],axis=1,inplace=True)\n",
    "securities = dataRets.columns.to_list()\n",
    "\n",
    "# Given that we can oly apply PCA to series without missing values, we dropped the seccurities with na\n",
    "print(f'We are using {len(securities)} securities for the PCA')"
   ]
  },
  {
   "cell_type": "code",
   "execution_count": 8,
   "metadata": {},
   "outputs": [],
   "source": [
    "# PCA with 5 components\n",
    "pca = PCA(5)\n",
    "transfDF = pca.fit_transform(dataRets)\n",
    "compsDF = pd.DataFrame(pca.components_)"
   ]
  },
  {
   "cell_type": "code",
   "execution_count": 9,
   "metadata": {},
   "outputs": [
    {
     "data": {
      "application/vnd.plotly.v1+json": {
       "config": {
        "plotlyServerURL": "https://plot.ly"
       },
       "data": [
        {
         "decreasing": {
          "marker": {
           "color": "#75160C"
          }
         },
         "hovertemplate": [
          "Component: C1<br>Exp. var: 36.39%",
          "Component: C2<br>Exp. var: 5.35%",
          "Component: C3<br>Exp. var: 3.72%",
          "Component: C4<br>Exp. var: 2.28%",
          "Component: C5<br>Exp. var: 1.80%",
          "Component: Total<br>Exp. var: 49.53%"
         ],
         "increasing": {
          "marker": {
           "color": "#094536"
          }
         },
         "measure": [
          "relative",
          "relative",
          "relative",
          "relative",
          "relative",
          "total"
         ],
         "name": "",
         "orientation": "v",
         "totals": {
          "marker": {
           "color": "#2A3F4D"
          }
         },
         "type": "waterfall",
         "x": [
          "C1",
          "C2",
          "C3",
          "C4",
          "C5",
          "Total"
         ],
         "y": [
          0.36385225365409113,
          0.053525897283875926,
          0.03717780094726063,
          0.022751138593190175,
          0.017958211063836563,
          0.4952653015422544
         ]
        }
       ],
       "layout": {
        "autosize": true,
        "height": 500,
        "hoverlabel": {
         "font": {
          "family": "Goldman Sans",
          "size": 15
         }
        },
        "plot_bgcolor": "white",
        "template": {
         "data": {
          "bar": [
           {
            "error_x": {
             "color": "#2a3f5f"
            },
            "error_y": {
             "color": "#2a3f5f"
            },
            "marker": {
             "line": {
              "color": "#E5ECF6",
              "width": 0.5
             },
             "pattern": {
              "fillmode": "overlay",
              "size": 10,
              "solidity": 0.2
             }
            },
            "type": "bar"
           }
          ],
          "barpolar": [
           {
            "marker": {
             "line": {
              "color": "#E5ECF6",
              "width": 0.5
             },
             "pattern": {
              "fillmode": "overlay",
              "size": 10,
              "solidity": 0.2
             }
            },
            "type": "barpolar"
           }
          ],
          "carpet": [
           {
            "aaxis": {
             "endlinecolor": "#2a3f5f",
             "gridcolor": "white",
             "linecolor": "white",
             "minorgridcolor": "white",
             "startlinecolor": "#2a3f5f"
            },
            "baxis": {
             "endlinecolor": "#2a3f5f",
             "gridcolor": "white",
             "linecolor": "white",
             "minorgridcolor": "white",
             "startlinecolor": "#2a3f5f"
            },
            "type": "carpet"
           }
          ],
          "choropleth": [
           {
            "colorbar": {
             "outlinewidth": 0,
             "ticks": ""
            },
            "type": "choropleth"
           }
          ],
          "contour": [
           {
            "colorbar": {
             "outlinewidth": 0,
             "ticks": ""
            },
            "colorscale": [
             [
              0,
              "#0d0887"
             ],
             [
              0.1111111111111111,
              "#46039f"
             ],
             [
              0.2222222222222222,
              "#7201a8"
             ],
             [
              0.3333333333333333,
              "#9c179e"
             ],
             [
              0.4444444444444444,
              "#bd3786"
             ],
             [
              0.5555555555555556,
              "#d8576b"
             ],
             [
              0.6666666666666666,
              "#ed7953"
             ],
             [
              0.7777777777777778,
              "#fb9f3a"
             ],
             [
              0.8888888888888888,
              "#fdca26"
             ],
             [
              1,
              "#f0f921"
             ]
            ],
            "type": "contour"
           }
          ],
          "contourcarpet": [
           {
            "colorbar": {
             "outlinewidth": 0,
             "ticks": ""
            },
            "type": "contourcarpet"
           }
          ],
          "heatmap": [
           {
            "colorbar": {
             "outlinewidth": 0,
             "ticks": ""
            },
            "colorscale": [
             [
              0,
              "#0d0887"
             ],
             [
              0.1111111111111111,
              "#46039f"
             ],
             [
              0.2222222222222222,
              "#7201a8"
             ],
             [
              0.3333333333333333,
              "#9c179e"
             ],
             [
              0.4444444444444444,
              "#bd3786"
             ],
             [
              0.5555555555555556,
              "#d8576b"
             ],
             [
              0.6666666666666666,
              "#ed7953"
             ],
             [
              0.7777777777777778,
              "#fb9f3a"
             ],
             [
              0.8888888888888888,
              "#fdca26"
             ],
             [
              1,
              "#f0f921"
             ]
            ],
            "type": "heatmap"
           }
          ],
          "heatmapgl": [
           {
            "colorbar": {
             "outlinewidth": 0,
             "ticks": ""
            },
            "colorscale": [
             [
              0,
              "#0d0887"
             ],
             [
              0.1111111111111111,
              "#46039f"
             ],
             [
              0.2222222222222222,
              "#7201a8"
             ],
             [
              0.3333333333333333,
              "#9c179e"
             ],
             [
              0.4444444444444444,
              "#bd3786"
             ],
             [
              0.5555555555555556,
              "#d8576b"
             ],
             [
              0.6666666666666666,
              "#ed7953"
             ],
             [
              0.7777777777777778,
              "#fb9f3a"
             ],
             [
              0.8888888888888888,
              "#fdca26"
             ],
             [
              1,
              "#f0f921"
             ]
            ],
            "type": "heatmapgl"
           }
          ],
          "histogram": [
           {
            "marker": {
             "pattern": {
              "fillmode": "overlay",
              "size": 10,
              "solidity": 0.2
             }
            },
            "type": "histogram"
           }
          ],
          "histogram2d": [
           {
            "colorbar": {
             "outlinewidth": 0,
             "ticks": ""
            },
            "colorscale": [
             [
              0,
              "#0d0887"
             ],
             [
              0.1111111111111111,
              "#46039f"
             ],
             [
              0.2222222222222222,
              "#7201a8"
             ],
             [
              0.3333333333333333,
              "#9c179e"
             ],
             [
              0.4444444444444444,
              "#bd3786"
             ],
             [
              0.5555555555555556,
              "#d8576b"
             ],
             [
              0.6666666666666666,
              "#ed7953"
             ],
             [
              0.7777777777777778,
              "#fb9f3a"
             ],
             [
              0.8888888888888888,
              "#fdca26"
             ],
             [
              1,
              "#f0f921"
             ]
            ],
            "type": "histogram2d"
           }
          ],
          "histogram2dcontour": [
           {
            "colorbar": {
             "outlinewidth": 0,
             "ticks": ""
            },
            "colorscale": [
             [
              0,
              "#0d0887"
             ],
             [
              0.1111111111111111,
              "#46039f"
             ],
             [
              0.2222222222222222,
              "#7201a8"
             ],
             [
              0.3333333333333333,
              "#9c179e"
             ],
             [
              0.4444444444444444,
              "#bd3786"
             ],
             [
              0.5555555555555556,
              "#d8576b"
             ],
             [
              0.6666666666666666,
              "#ed7953"
             ],
             [
              0.7777777777777778,
              "#fb9f3a"
             ],
             [
              0.8888888888888888,
              "#fdca26"
             ],
             [
              1,
              "#f0f921"
             ]
            ],
            "type": "histogram2dcontour"
           }
          ],
          "mesh3d": [
           {
            "colorbar": {
             "outlinewidth": 0,
             "ticks": ""
            },
            "type": "mesh3d"
           }
          ],
          "parcoords": [
           {
            "line": {
             "colorbar": {
              "outlinewidth": 0,
              "ticks": ""
             }
            },
            "type": "parcoords"
           }
          ],
          "pie": [
           {
            "automargin": true,
            "type": "pie"
           }
          ],
          "scatter": [
           {
            "fillpattern": {
             "fillmode": "overlay",
             "size": 10,
             "solidity": 0.2
            },
            "type": "scatter"
           }
          ],
          "scatter3d": [
           {
            "line": {
             "colorbar": {
              "outlinewidth": 0,
              "ticks": ""
             }
            },
            "marker": {
             "colorbar": {
              "outlinewidth": 0,
              "ticks": ""
             }
            },
            "type": "scatter3d"
           }
          ],
          "scattercarpet": [
           {
            "marker": {
             "colorbar": {
              "outlinewidth": 0,
              "ticks": ""
             }
            },
            "type": "scattercarpet"
           }
          ],
          "scattergeo": [
           {
            "marker": {
             "colorbar": {
              "outlinewidth": 0,
              "ticks": ""
             }
            },
            "type": "scattergeo"
           }
          ],
          "scattergl": [
           {
            "marker": {
             "colorbar": {
              "outlinewidth": 0,
              "ticks": ""
             }
            },
            "type": "scattergl"
           }
          ],
          "scattermapbox": [
           {
            "marker": {
             "colorbar": {
              "outlinewidth": 0,
              "ticks": ""
             }
            },
            "type": "scattermapbox"
           }
          ],
          "scatterpolar": [
           {
            "marker": {
             "colorbar": {
              "outlinewidth": 0,
              "ticks": ""
             }
            },
            "type": "scatterpolar"
           }
          ],
          "scatterpolargl": [
           {
            "marker": {
             "colorbar": {
              "outlinewidth": 0,
              "ticks": ""
             }
            },
            "type": "scatterpolargl"
           }
          ],
          "scatterternary": [
           {
            "marker": {
             "colorbar": {
              "outlinewidth": 0,
              "ticks": ""
             }
            },
            "type": "scatterternary"
           }
          ],
          "surface": [
           {
            "colorbar": {
             "outlinewidth": 0,
             "ticks": ""
            },
            "colorscale": [
             [
              0,
              "#0d0887"
             ],
             [
              0.1111111111111111,
              "#46039f"
             ],
             [
              0.2222222222222222,
              "#7201a8"
             ],
             [
              0.3333333333333333,
              "#9c179e"
             ],
             [
              0.4444444444444444,
              "#bd3786"
             ],
             [
              0.5555555555555556,
              "#d8576b"
             ],
             [
              0.6666666666666666,
              "#ed7953"
             ],
             [
              0.7777777777777778,
              "#fb9f3a"
             ],
             [
              0.8888888888888888,
              "#fdca26"
             ],
             [
              1,
              "#f0f921"
             ]
            ],
            "type": "surface"
           }
          ],
          "table": [
           {
            "cells": {
             "fill": {
              "color": "#EBF0F8"
             },
             "line": {
              "color": "white"
             }
            },
            "header": {
             "fill": {
              "color": "#C8D4E3"
             },
             "line": {
              "color": "white"
             }
            },
            "type": "table"
           }
          ]
         },
         "layout": {
          "annotationdefaults": {
           "arrowcolor": "#2a3f5f",
           "arrowhead": 0,
           "arrowwidth": 1
          },
          "autotypenumbers": "strict",
          "coloraxis": {
           "colorbar": {
            "outlinewidth": 0,
            "ticks": ""
           }
          },
          "colorscale": {
           "diverging": [
            [
             0,
             "#8e0152"
            ],
            [
             0.1,
             "#c51b7d"
            ],
            [
             0.2,
             "#de77ae"
            ],
            [
             0.3,
             "#f1b6da"
            ],
            [
             0.4,
             "#fde0ef"
            ],
            [
             0.5,
             "#f7f7f7"
            ],
            [
             0.6,
             "#e6f5d0"
            ],
            [
             0.7,
             "#b8e186"
            ],
            [
             0.8,
             "#7fbc41"
            ],
            [
             0.9,
             "#4d9221"
            ],
            [
             1,
             "#276419"
            ]
           ],
           "sequential": [
            [
             0,
             "#0d0887"
            ],
            [
             0.1111111111111111,
             "#46039f"
            ],
            [
             0.2222222222222222,
             "#7201a8"
            ],
            [
             0.3333333333333333,
             "#9c179e"
            ],
            [
             0.4444444444444444,
             "#bd3786"
            ],
            [
             0.5555555555555556,
             "#d8576b"
            ],
            [
             0.6666666666666666,
             "#ed7953"
            ],
            [
             0.7777777777777778,
             "#fb9f3a"
            ],
            [
             0.8888888888888888,
             "#fdca26"
            ],
            [
             1,
             "#f0f921"
            ]
           ],
           "sequentialminus": [
            [
             0,
             "#0d0887"
            ],
            [
             0.1111111111111111,
             "#46039f"
            ],
            [
             0.2222222222222222,
             "#7201a8"
            ],
            [
             0.3333333333333333,
             "#9c179e"
            ],
            [
             0.4444444444444444,
             "#bd3786"
            ],
            [
             0.5555555555555556,
             "#d8576b"
            ],
            [
             0.6666666666666666,
             "#ed7953"
            ],
            [
             0.7777777777777778,
             "#fb9f3a"
            ],
            [
             0.8888888888888888,
             "#fdca26"
            ],
            [
             1,
             "#f0f921"
            ]
           ]
          },
          "colorway": [
           "#636efa",
           "#EF553B",
           "#00cc96",
           "#ab63fa",
           "#FFA15A",
           "#19d3f3",
           "#FF6692",
           "#B6E880",
           "#FF97FF",
           "#FECB52"
          ],
          "font": {
           "color": "#2a3f5f"
          },
          "geo": {
           "bgcolor": "white",
           "lakecolor": "white",
           "landcolor": "#E5ECF6",
           "showlakes": true,
           "showland": true,
           "subunitcolor": "white"
          },
          "hoverlabel": {
           "align": "left"
          },
          "hovermode": "closest",
          "mapbox": {
           "style": "light"
          },
          "paper_bgcolor": "white",
          "plot_bgcolor": "#E5ECF6",
          "polar": {
           "angularaxis": {
            "gridcolor": "white",
            "linecolor": "white",
            "ticks": ""
           },
           "bgcolor": "#E5ECF6",
           "radialaxis": {
            "gridcolor": "white",
            "linecolor": "white",
            "ticks": ""
           }
          },
          "scene": {
           "xaxis": {
            "backgroundcolor": "#E5ECF6",
            "gridcolor": "white",
            "gridwidth": 2,
            "linecolor": "white",
            "showbackground": true,
            "ticks": "",
            "zerolinecolor": "white"
           },
           "yaxis": {
            "backgroundcolor": "#E5ECF6",
            "gridcolor": "white",
            "gridwidth": 2,
            "linecolor": "white",
            "showbackground": true,
            "ticks": "",
            "zerolinecolor": "white"
           },
           "zaxis": {
            "backgroundcolor": "#E5ECF6",
            "gridcolor": "white",
            "gridwidth": 2,
            "linecolor": "white",
            "showbackground": true,
            "ticks": "",
            "zerolinecolor": "white"
           }
          },
          "shapedefaults": {
           "line": {
            "color": "#2a3f5f"
           }
          },
          "ternary": {
           "aaxis": {
            "gridcolor": "white",
            "linecolor": "white",
            "ticks": ""
           },
           "baxis": {
            "gridcolor": "white",
            "linecolor": "white",
            "ticks": ""
           },
           "bgcolor": "#E5ECF6",
           "caxis": {
            "gridcolor": "white",
            "linecolor": "white",
            "ticks": ""
           }
          },
          "title": {
           "x": 0.05
          },
          "xaxis": {
           "automargin": true,
           "gridcolor": "white",
           "linecolor": "white",
           "ticks": "",
           "title": {
            "standoff": 15
           },
           "zerolinecolor": "white",
           "zerolinewidth": 2
          },
          "yaxis": {
           "automargin": true,
           "gridcolor": "white",
           "linecolor": "white",
           "ticks": "",
           "title": {
            "standoff": 15
           },
           "zerolinecolor": "white",
           "zerolinewidth": 2
          }
         }
        },
        "title": {
         "font": {
          "color": "black",
          "family": "Goldman Sans",
          "size": 24
         },
         "text": "<b>Explained variance ratio<b><br><sup>Percentage of variance that is attributed by each of the selected components</sup>"
        },
        "xaxis": {
         "tickfont": {
          "color": "black",
          "family": "Goldman Sans",
          "size": 16
         },
         "title": {
          "font": {
           "color": "black",
           "family": "Goldman Sans",
           "size": 20
          },
          "text": "<b>Components<b>"
         }
        },
        "yaxis": {
         "tickfont": {
          "color": "black",
          "family": "Goldman Sans",
          "size": 16
         },
         "tickformat": ".2%",
         "title": {
          "font": {
           "color": "black",
           "family": "Goldman Sans",
           "size": 20
          },
          "text": "<b>Explained Variance<b>"
         }
        }
       }
      }
     },
     "metadata": {},
     "output_type": "display_data"
    }
   ],
   "source": [
    "# Explained variance based on the number of components chosen\n",
    "expVarRatio = pd.DataFrame({\n",
    "    'comps': ['C'+str(i+1) for i in range(len(pca.explained_variance_ratio_)+1)],\n",
    "    'val': np.append(pca.explained_variance_ratio_,np.sum(pca.explained_variance_ratio_)),\n",
    "    'measure': ['relative' for i in range(len(pca.explained_variance_ratio_)+1)]\n",
    "})\n",
    "\n",
    "expVarRatio.iloc[-1,0] = 'Total'\n",
    "expVarRatio.iloc[-1,2] = 'total' \n",
    "\n",
    "# Calculate the cumulative percentage\n",
    "expVarRatio['cumulative'] = expVarRatio['val'].cumsum()\n",
    "\n",
    "# Fortmat labels\n",
    "expVarRatio['val_formatted'] = expVarRatio['val'].apply(lambda x: '{:,.2f}'.format(x*100)+'%')\n",
    "expVarRatio['cumPct_formatted'] = expVarRatio['cumulative'].apply(lambda x: '{:,.2f}'.format(x*100)+'%')\n",
    "\n",
    "# Plot the explained variance by the components\n",
    "water_trace = go.Waterfall(\n",
    "    orientation='v',\n",
    "    measure=expVarRatio['measure'],\n",
    "    x=expVarRatio['comps'],\n",
    "    y=expVarRatio['val'],\n",
    "    decreasing={\"marker\":{\"color\":\"#75160C\"}},\n",
    "    increasing={\"marker\":{\"color\":\"#094536\"}},\n",
    "    totals={\"marker\":{\"color\":\"#2A3F4D\"}},\n",
    "    hovertemplate=[f'Component: {comp}<br>Exp. var: {ex1}' for comp, ex1 in zip(expVarRatio['comps'], expVarRatio['val_formatted'])],\n",
    "    name=''\n",
    ")\n",
    "\n",
    "# create the layout\n",
    "layout = go.Layout(\n",
    "    title={\n",
    "    'text':'<b>Explained variance ratio<b><br><sup>Percentage of variance that is attributed by each of the selected components</sup>',\n",
    "    'font':{'size':24,'family':'Goldman Sans','color':'black'}\n",
    "    },\n",
    "    xaxis={\n",
    "    'title':{\n",
    "    'text':'<b>Components<b>',    \n",
    "    'font':{'size':20,'family':'Goldman Sans','color':'black'}\n",
    "    },\n",
    "    'tickfont':{'size':16,'family':'Goldman Sans','color':'black'} \n",
    "    },\n",
    "    yaxis={\n",
    "    'title':{\n",
    "    'text':'<b>Explained Variance<b>',    \n",
    "    'font':{'size':20,'family':'Goldman Sans','color':'black'}\n",
    "    },\n",
    "    'tickformat':'.2%',\n",
    "    'tickfont':{'size':16,'family':'Goldman Sans','color':'black'}\n",
    "    },\n",
    "    hoverlabel={\n",
    "    'font':{'size':15, 'family':'Goldman Sans'}\n",
    "    },\n",
    "    plot_bgcolor='white',\n",
    "    autosize=True,\n",
    "    height=500\n",
    ")\n",
    "\n",
    "# create the figure\n",
    "fig = go.Figure(data=[water_trace], layout=layout)\n",
    "\n",
    "# show the plot\n",
    "fig.show()"
   ]
  },
  {
   "cell_type": "code",
   "execution_count": 10,
   "metadata": {},
   "outputs": [
    {
     "data": {
      "application/vnd.plotly.v1+json": {
       "config": {
        "plotlyServerURL": "https://plot.ly"
       },
       "data": [
        {
         "hovertemplate": [
          "Sector: Healthcare<br>Company: Agilent Technologies, Inc.<br>Symbol: A<br>Market Cap: $41.93B",
          "Sector: Technology<br>Company: Apple Inc.<br>Symbol: AAPL<br>Market Cap: $2308.58B",
          "Sector: Industrials<br>Company: ABB Ltd<br>Symbol: ABB<br>Market Cap: $65.82B",
          "Sector: Healthcare<br>Company: AbbVie Inc.<br>Symbol: ABBV<br>Market Cap: $273.16B",
          "Sector: Healthcare<br>Company: AmerisourceBergen Corporation<br>Symbol: ABC<br>Market Cap: $31.33B",
          "Sector: Consumer Defensive<br>Company: Ambev S.A.<br>Symbol: ABEV<br>Market Cap: $39.76B",
          "Sector: Healthcare<br>Company: Abbott Laboratories<br>Symbol: ABT<br>Market Cap: $178.37B",
          "Sector: Financial<br>Company: Arch Capital Group Ltd.<br>Symbol: ACGL<br>Market Cap: $26.32B",
          "Sector: Technology<br>Company: Accenture plc<br>Symbol: ACN<br>Market Cap: $174.64B",
          "Sector: Technology<br>Company: Adobe Inc.<br>Symbol: ADBE<br>Market Cap: $152.67B",
          "Sector: Technology<br>Company: Analog Devices, Inc.<br>Symbol: ADI<br>Market Cap: $93.37B",
          "Sector: Consumer Defensive<br>Company: Archer-Daniels-Midland Company<br>Symbol: ADM<br>Market Cap: $44.15B",
          "Sector: Industrials<br>Company: Automatic Data Processing, Inc.<br>Symbol: ADP<br>Market Cap: $92.21B",
          "Sector: Technology<br>Company: Autodesk, Inc.<br>Symbol: ADSK<br>Market Cap: $43.4B",
          "Sector: Utilities<br>Company: Ameren Corporation<br>Symbol: AEE<br>Market Cap: $21.58B",
          "Sector: Basic Materials<br>Company: Agnico Eagle Mines Limited<br>Symbol: AEM<br>Market Cap: $21.48B",
          "Sector: Utilities<br>Company: American Electric Power Company, Inc.<br>Symbol: AEP<br>Market Cap: $45.21B",
          "Sector: Utilities<br>Company: The AES Corporation<br>Symbol: AES<br>Market Cap: $16.48B",
          "Sector: Financial<br>Company: Aflac Incorporated<br>Symbol: AFL<br>Market Cap: $41.36B",
          "Sector: Financial<br>Company: American International Group, Inc.<br>Symbol: AIG<br>Market Cap: $44.26B",
          "Sector: Basic Materials<br>Company: Albemarle Corporation<br>Symbol: ALB<br>Market Cap: $29.35B",
          "Sector: Healthcare<br>Company: Align Technology, Inc.<br>Symbol: ALGN<br>Market Cap: $23.99B",
          "Sector: Financial<br>Company: The Allstate Corporation<br>Symbol: ALL<br>Market Cap: $33.25B",
          "Sector: Technology<br>Company: Applied Materials, Inc.<br>Symbol: AMAT<br>Market Cap: $100.1B",
          "Sector: Consumer Cyclical<br>Company: Amcor plc<br>Symbol: AMCR<br>Market Cap: $16.66B",
          "Sector: Technology<br>Company: Advanced Micro Devices, Inc.<br>Symbol: AMD<br>Market Cap: $129.62B",
          "Sector: Healthcare<br>Company: Amgen Inc.<br>Symbol: AMGN<br>Market Cap: $125.35B",
          "Sector: Real Estate<br>Company: American Tower Corporation<br>Symbol: AMT<br>Market Cap: $91.98B",
          "Sector: Communication Services<br>Company: America Movil, S.A.B. de C.V.<br>Symbol: AMX<br>Market Cap: $66.13B",
          "Sector: Consumer Cyclical<br>Company: Amazon.com, Inc.<br>Symbol: AMZN<br>Market Cap: $944.08B",
          "Sector: Basic Materials<br>Company: Air Products and Chemicals, Inc.<br>Symbol: APD<br>Market Cap: $64.85B",
          "Sector: Technology<br>Company: Amphenol Corporation<br>Symbol: APH<br>Market Cap: $46.59B",
          "Sector: Financial<br>Company: Apollo Global Management, Inc.<br>Symbol: APO<br>Market Cap: $41.42B",
          "Sector: Consumer Cyclical<br>Company: Aptiv PLC<br>Symbol: APTV<br>Market Cap: $31.68B",
          "Sector: Technology<br>Company: ASML Holding N.V.<br>Symbol: ASML<br>Market Cap: $248.29B",
          "Sector: Technology<br>Company: ASE Technology Holding Co., Ltd.<br>Symbol: ASX<br>Market Cap: $15.43B",
          "Sector: Communication Services<br>Company: Activision Blizzard, Inc.<br>Symbol: ATVI<br>Market Cap: $60.95B",
          "Sector: Technology<br>Company: Broadcom Inc.<br>Symbol: AVGO<br>Market Cap: $249.59B",
          "Sector: Utilities<br>Company: American Water Works Company, Inc.<br>Symbol: AWK<br>Market Cap: $25.21B",
          "Sector: Financial<br>Company: American Express Company<br>Symbol: AXP<br>Market Cap: $130.49B",
          "Sector: Healthcare<br>Company: AstraZeneca PLC<br>Symbol: AZN<br>Market Cap: $202.57B",
          "Sector: Industrials<br>Company: The Boeing Company<br>Symbol: BA<br>Market Cap: $125.67B",
          "Sector: Financial<br>Company: Bank of America Corporation<br>Symbol: BAC<br>Market Cap: $268.05B",
          "Sector: Consumer Cyclical<br>Company: Ball Corporation<br>Symbol: BALL<br>Market Cap: $17.61B",
          "Sector: Healthcare<br>Company: Baxter International Inc.<br>Symbol: BAX<br>Market Cap: $20.0B",
          "Sector: Financial<br>Company: Banco Bradesco S.A.<br>Symbol: BBD<br>Market Cap: $24.81B",
          "Sector: Financial<br>Company: Banco Bilbao Vizcaya Argentaria, S.A.<br>Symbol: BBVA<br>Market Cap: $46.39B",
          "Sector: Consumer Cyclical<br>Company: Best Buy Co., Inc.<br>Symbol: BBY<br>Market Cap: $17.88B",
          "Sector: Communication Services<br>Company: BCE Inc.<br>Symbol: BCE<br>Market Cap: $40.16B",
          "Sector: Financial<br>Company: Barclays PLC<br>Symbol: BCS<br>Market Cap: $32.81B",
          "Sector: Healthcare<br>Company: Becton, Dickinson and Company<br>Symbol: BDX<br>Market Cap: $66.3B",
          "Sector: Financial<br>Company: Franklin Resources, Inc.<br>Symbol: BEN<br>Market Cap: $14.54B",
          "Sector: Consumer Defensive<br>Company: Brown-Forman Corporation<br>Symbol: BF-B<br>Market Cap: $31.52B",
          "Sector: Consumer Defensive<br>Company: Bunge Limited<br>Symbol: BG<br>Market Cap: $14.63B",
          "Sector: Basic Materials<br>Company: BHP Group Limited<br>Symbol: BHP<br>Market Cap: $164.57B",
          "Sector: Communication Services<br>Company: Baidu, Inc.<br>Symbol: BIDU<br>Market Cap: $51.91B",
          "Sector: Healthcare<br>Company: Biogen Inc.<br>Symbol: BIIB<br>Market Cap: $38.83B",
          "Sector: Financial<br>Company: The Bank of New York Mellon Corporation<br>Symbol: BK<br>Market Cap: $40.14B",
          "Sector: Energy<br>Company: Baker Hughes Company<br>Symbol: BKR<br>Market Cap: $32.07B",
          "Sector: Healthcare<br>Company: BioMarin Pharmaceutical Inc.<br>Symbol: BMRN<br>Market Cap: $18.68B",
          "Sector: Healthcare<br>Company: Bristol-Myers Squibb Company<br>Symbol: BMY<br>Market Cap: $145.21B",
          "Sector: Financial<br>Company: Brookfield Corporation<br>Symbol: BN<br>Market Cap: $54.51B",
          "Sector: Financial<br>Company: The Bank of Nova Scotia<br>Symbol: BNS<br>Market Cap: $60.27B",
          "Sector: Energy<br>Company: BP p.l.c.<br>Symbol: BP<br>Market Cap: $121.44B",
          "Sector: Financial<br>Company: Berkshire Hathaway Inc.<br>Symbol: BRK-B<br>Market Cap: $686.15B",
          "Sector: Financial<br>Company: Brown & Brown, Inc.<br>Symbol: BRO<br>Market Cap: $15.96B",
          "Sector: Financial<br>Company: Banco Santander (Brasil) S.A.<br>Symbol: BSBR<br>Market Cap: $19.64B",
          "Sector: Healthcare<br>Company: Boston Scientific Corporation<br>Symbol: BSX<br>Market Cap: $67.79B",
          "Sector: Consumer Defensive<br>Company: British American Tobacco p.l.c.<br>Symbol: BTI<br>Market Cap: $84.87B",
          "Sector: Consumer Defensive<br>Company: Anheuser-Busch InBev SA/NV<br>Symbol: BUD<br>Market Cap: $105.4B",
          "Sector: Financial<br>Company: Blackstone Inc.<br>Symbol: BX<br>Market Cap: $108.45B",
          "Sector: Financial<br>Company: Citigroup Inc.<br>Symbol: C<br>Market Cap: $99.91B",
          "Sector: Consumer Defensive<br>Company: Conagra Brands, Inc.<br>Symbol: CAG<br>Market Cap: $17.09B",
          "Sector: Healthcare<br>Company: Cardinal Health, Inc.<br>Symbol: CAH<br>Market Cap: $19.25B",
          "Sector: Industrials<br>Company: Caterpillar Inc.<br>Symbol: CAT<br>Market Cap: $130.21B",
          "Sector: Financial<br>Company: Chubb Limited<br>Symbol: CB<br>Market Cap: $86.5B",
          "Sector: Real Estate<br>Company: CBRE Group, Inc.<br>Symbol: CBRE<br>Market Cap: $26.1B",
          "Sector: Consumer Defensive<br>Company: Coca-Cola Europacific Partners PLC<br>Symbol: CCEP<br>Market Cap: $25.44B",
          "Sector: Real Estate<br>Company: Crown Castle Inc.<br>Symbol: CCI<br>Market Cap: $56.05B",
          "Sector: Consumer Cyclical<br>Company: Carnival Corporation & plc<br>Symbol: CCL<br>Market Cap: $13.35B",
          "Sector: Technology<br>Company: Cadence Design Systems, Inc.<br>Symbol: CDNS<br>Market Cap: $52.58B",
          "Sector: Basic Materials<br>Company: CF Industries Holdings, Inc.<br>Symbol: CF<br>Market Cap: $17.01B",
          "Sector: Consumer Defensive<br>Company: Church & Dwight Co., Inc.<br>Symbol: CHD<br>Market Cap: $20.62B",
          "Sector: Communication Services<br>Company: Charter Communications, Inc.<br>Symbol: CHTR<br>Market Cap: $55.43B",
          "Sector: Healthcare<br>Company: Cigna Corporation<br>Symbol: CI<br>Market Cap: $85.43B",
          "Sector: Consumer Defensive<br>Company: Colgate-Palmolive Company<br>Symbol: CL<br>Market Cap: $61.26B",
          "Sector: Consumer Defensive<br>Company: The Clorox Company<br>Symbol: CLX<br>Market Cap: $19.33B",
          "Sector: Financial<br>Company: Canadian Imperial Bank of Commerce<br>Symbol: CM<br>Market Cap: $41.34B",
          "Sector: Communication Services<br>Company: Comcast Corporation<br>Symbol: CMCSA<br>Market Cap: $155.78B",
          "Sector: Financial<br>Company: CME Group Inc.<br>Symbol: CME<br>Market Cap: $67.09B",
          "Sector: Utilities<br>Company: CMS Energy Corporation<br>Symbol: CMS<br>Market Cap: $17.15B",
          "Sector: Healthcare<br>Company: Centene Corporation<br>Symbol: CNC<br>Market Cap: $37.81B",
          "Sector: Industrials<br>Company: Canadian National Railway Company<br>Symbol: CNI<br>Market Cap: $79.52B",
          "Sector: Utilities<br>Company: CenterPoint Energy, Inc.<br>Symbol: CNP<br>Market Cap: $17.63B",
          "Sector: Energy<br>Company: Canadian Natural Resources Limited<br>Symbol: CNQ<br>Market Cap: $65.29B",
          "Sector: Financial<br>Company: Capital One Financial Corporation<br>Symbol: COF<br>Market Cap: $41.23B",
          "Sector: Energy<br>Company: ConocoPhillips<br>Symbol: COP<br>Market Cap: $132.03B",
          "Sector: Consumer Defensive<br>Company: Costco Wholesale Corporation<br>Symbol: COST<br>Market Cap: $215.52B",
          "Sector: Industrials<br>Company: Canadian Pacific Railway Limited<br>Symbol: CP<br>Market Cap: $98.99B",
          "Sector: Consumer Defensive<br>Company: Campbell Soup Company<br>Symbol: CPB<br>Market Cap: $15.7B",
          "Sector: Consumer Cyclical<br>Company: Copart, Inc.<br>Symbol: CPRT<br>Market Cap: $33.86B",
          "Sector: Technology<br>Company: Salesforce, Inc.<br>Symbol: CRM<br>Market Cap: $186.59B",
          "Sector: Technology<br>Company: Cisco Systems, Inc.<br>Symbol: CSCO<br>Market Cap: $198.77B",
          "Sector: Real Estate<br>Company: CoStar Group, Inc.<br>Symbol: CSGP<br>Market Cap: $28.97B",
          "Sector: Industrials<br>Company: CSX Corporation<br>Symbol: CSX<br>Market Cap: $64.52B",
          "Sector: Energy<br>Company: Coterra Energy Inc.<br>Symbol: CTRA<br>Market Cap: $19.83B",
          "Sector: Technology<br>Company: Cognizant Technology Solutions Corporation<br>Symbol: CTSH<br>Market Cap: $31.85B",
          "Sector: Consumer Cyclical<br>Company: Carnival Corporation & plc<br>Symbol: CUK<br>Market Cap: $13.35B",
          "Sector: Energy<br>Company: Cenovus Energy Inc.<br>Symbol: CVE<br>Market Cap: $36.59B",
          "Sector: Healthcare<br>Company: CVS Health Corporation<br>Symbol: CVS<br>Market Cap: $104.57B",
          "Sector: Energy<br>Company: Chevron Corporation<br>Symbol: CVX<br>Market Cap: $309.95B",
          "Sector: Utilities<br>Company: Dominion Energy, Inc.<br>Symbol: D<br>Market Cap: $45.93B",
          "Sector: Industrials<br>Company: Delta Air Lines, Inc.<br>Symbol: DAL<br>Market Cap: $24.64B",
          "Sector: Financial<br>Company: Deutsche Bank Aktiengesellschaft<br>Symbol: DB<br>Market Cap: $24.91B",
          "Sector: Basic Materials<br>Company: DuPont de Nemours, Inc.<br>Symbol: DD<br>Market Cap: $34.33B",
          "Sector: Industrials<br>Company: Deere & Company<br>Symbol: DE<br>Market Cap: $124.85B",
          "Sector: Financial<br>Company: Discover Financial Services<br>Symbol: DFS<br>Market Cap: $29.43B",
          "Sector: Consumer Defensive<br>Company: Dollar General Corporation<br>Symbol: DG<br>Market Cap: $48.34B",
          "Sector: Healthcare<br>Company: Quest Diagnostics Incorporated<br>Symbol: DGX<br>Market Cap: $15.55B",
          "Sector: Consumer Cyclical<br>Company: D.R. Horton, Inc.<br>Symbol: DHI<br>Market Cap: $31.18B",
          "Sector: Healthcare<br>Company: Danaher Corporation<br>Symbol: DHR<br>Market Cap: $181.95B",
          "Sector: Communication Services<br>Company: The Walt Disney Company<br>Symbol: DIS<br>Market Cap: $180.71B",
          "Sector: Real Estate<br>Company: Digital Realty Trust, Inc.<br>Symbol: DLR<br>Market Cap: $30.02B",
          "Sector: Consumer Defensive<br>Company: Dollar Tree, Inc.<br>Symbol: DLTR<br>Market Cap: $32.42B",
          "Sector: Consumer Cyclical<br>Company: Darden Restaurants, Inc.<br>Symbol: DRI<br>Market Cap: $17.91B",
          "Sector: Utilities<br>Company: DTE Energy Company<br>Symbol: DTE<br>Market Cap: $22.29B",
          "Sector: Utilities<br>Company: Duke Energy Corporation<br>Symbol: DUK<br>Market Cap: $72.21B",
          "Sector: Energy<br>Company: Devon Energy Corporation<br>Symbol: DVN<br>Market Cap: $36.43B",
          "Sector: Healthcare<br>Company: DexCom, Inc.<br>Symbol: DXCM<br>Market Cap: $46.85B",
          "Sector: Communication Services<br>Company: Electronic Arts Inc.<br>Symbol: EA<br>Market Cap: $30.79B",
          "Sector: Consumer Cyclical<br>Company: eBay Inc.<br>Symbol: EBAY<br>Market Cap: $24.47B",
          "Sector: Utilities<br>Company: Centrais Eletricas Brasileiras S.A.<br>Symbol: EBR<br>Market Cap: $14.61B",
          "Sector: Energy<br>Company: Ecopetrol S.A.<br>Symbol: EC<br>Market Cap: $22.87B",
          "Sector: Basic Materials<br>Company: Ecolab Inc.<br>Symbol: ECL<br>Market Cap: $46.06B",
          "Sector: Utilities<br>Company: Consolidated Edison, Inc.<br>Symbol: ED<br>Market Cap: $31.82B",
          "Sector: Utilities<br>Company: Edison International<br>Symbol: EIX<br>Market Cap: $25.08B",
          "Sector: Consumer Defensive<br>Company: The Estee Lauder Companies Inc.<br>Symbol: EL<br>Market Cap: $88.89B",
          "Sector: Healthcare<br>Company: Elevance Health, Inc.<br>Symbol: ELV<br>Market Cap: $111.32B",
          "Sector: Industrials<br>Company: Emerson Electric Co.<br>Symbol: EMR<br>Market Cap: $47.88B",
          "Sector: Energy<br>Company: Enbridge Inc.<br>Symbol: ENB<br>Market Cap: $78.29B",
          "Sector: Technology<br>Company: Enphase Energy, Inc.<br>Symbol: ENPH<br>Market Cap: $28.76B",
          "Sector: Energy<br>Company: EOG Resources, Inc.<br>Symbol: EOG<br>Market Cap: $71.0B",
          "Sector: Energy<br>Company: Enterprise Products Partners L.P.<br>Symbol: EPD<br>Market Cap: $56.42B",
          "Sector: Energy<br>Company: Equinor ASA<br>Symbol: EQNR<br>Market Cap: $99.46B",
          "Sector: Real Estate<br>Company: Equity Residential<br>Symbol: EQR<br>Market Cap: $23.24B",
          "Sector: Technology<br>Company: Telefonaktiebolaget LM Ericsson (publ)<br>Symbol: ERIC<br>Market Cap: $18.59B",
          "Sector: Utilities<br>Company: Eversource Energy<br>Symbol: ES<br>Market Cap: $25.84B",
          "Sector: Energy<br>Company: Energy Transfer LP<br>Symbol: ET<br>Market Cap: $40.07B",
          "Sector: Industrials<br>Company: Eaton Corporation plc<br>Symbol: ETN<br>Market Cap: $69.71B",
          "Sector: Utilities<br>Company: Entergy Corporation<br>Symbol: ETR<br>Market Cap: $21.93B",
          "Sector: Utilities<br>Company: Evergy, Inc.<br>Symbol: EVRG<br>Market Cap: $13.5B",
          "Sector: Healthcare<br>Company: Edwards Lifesciences Corporation<br>Symbol: EW<br>Market Cap: $48.8B",
          "Sector: Utilities<br>Company: Exelon Corporation<br>Symbol: EXC<br>Market Cap: $40.14B",
          "Sector: Industrials<br>Company: Expeditors International of Washington, Inc.<br>Symbol: EXPD<br>Market Cap: $16.97B",
          "Sector: Consumer Cyclical<br>Company: Expedia Group, Inc.<br>Symbol: EXPE<br>Market Cap: $16.22B",
          "Sector: Real Estate<br>Company: Extra Space Storage Inc.<br>Symbol: EXR<br>Market Cap: $22.53B",
          "Sector: Consumer Cyclical<br>Company: Ford Motor Company<br>Symbol: F<br>Market Cap: $50.03B",
          "Sector: Energy<br>Company: Diamondback Energy, Inc.<br>Symbol: FANG<br>Market Cap: $26.47B",
          "Sector: Industrials<br>Company: Fastenal Company<br>Symbol: FAST<br>Market Cap: $30.2B",
          "Sector: Basic Materials<br>Company: Freeport-McMoRan Inc.<br>Symbol: FCX<br>Market Cap: $61.26B",
          "Sector: Industrials<br>Company: FedEx Corporation<br>Symbol: FDX<br>Market Cap: $52.23B",
          "Sector: Utilities<br>Company: FirstEnergy Corp.<br>Symbol: FE<br>Market Cap: $22.36B",
          "Sector: Industrials<br>Company: Ferguson plc<br>Symbol: FERG<br>Market Cap: $29.8B",
          "Sector: Technology<br>Company: Fidelity National Information Services, Inc.<br>Symbol: FIS<br>Market Cap: $37.82B",
          "Sector: Technology<br>Company: Fiserv, Inc.<br>Symbol: FISV<br>Market Cap: $73.53B",
          "Sector: Financial<br>Company: Fifth Third Bancorp<br>Symbol: FITB<br>Market Cap: $24.17B",
          "Sector: Financial<br>Company: First Republic Bank<br>Symbol: FRC<br>Market Cap: $21.9B",
          "Sector: Technology<br>Company: First Solar, Inc.<br>Symbol: FSLR<br>Market Cap: $21.13B",
          "Sector: Technology<br>Company: Fortinet, Inc.<br>Symbol: FTNT<br>Market Cap: $46.76B",
          "Sector: Industrials<br>Company: General Dynamics Corporation<br>Symbol: GD<br>Market Cap: $63.19B",
          "Sector: Industrials<br>Company: General Electric Company<br>Symbol: GE<br>Market Cap: $93.37B",
          "Sector: Healthcare<br>Company: Gilead Sciences, Inc.<br>Symbol: GILD<br>Market Cap: $99.29B",
          "Sector: Consumer Defensive<br>Company: General Mills, Inc.<br>Symbol: GIS<br>Market Cap: $46.55B",
          "Sector: Technology<br>Company: Corning Incorporated<br>Symbol: GLW<br>Market Cap: $28.4B",
          "Sector: Consumer Cyclical<br>Company: General Motors Company<br>Symbol: GM<br>Market Cap: $55.13B",
          "Sector: Basic Materials<br>Company: Barrick Gold Corporation<br>Symbol: GOLD<br>Market Cap: $28.85B",
          "Sector: Communication Services<br>Company: Alphabet Inc.<br>Symbol: GOOG<br>Market Cap: $1201.58B",
          "Sector: Communication Services<br>Company: Alphabet Inc.<br>Symbol: GOOGL<br>Market Cap: $1180.09B",
          "Sector: Industrials<br>Company: Global Payments Inc.<br>Symbol: GPN<br>Market Cap: $29.14B",
          "Sector: Financial<br>Company: The Goldman Sachs Group, Inc.<br>Symbol: GS<br>Market Cap: $117.1B",
          "Sector: Healthcare<br>Company: GSK plc<br>Symbol: GSK<br>Market Cap: $70.88B",
          "Sector: Energy<br>Company: Halliburton Company<br>Symbol: HAL<br>Market Cap: $34.71B",
          "Sector: Financial<br>Company: Huntington Bancshares Incorporated<br>Symbol: HBAN<br>Market Cap: $21.6B",
          "Sector: Healthcare<br>Company: HCA Healthcare, Inc.<br>Symbol: HCA<br>Market Cap: $67.51B",
          "Sector: Consumer Cyclical<br>Company: The Home Depot, Inc.<br>Symbol: HD<br>Market Cap: $298.64B",
          "Sector: Financial<br>Company: HDFC Bank Limited<br>Symbol: HDB<br>Market Cap: $107.24B",
          "Sector: Energy<br>Company: Hess Corporation<br>Symbol: HES<br>Market Cap: $42.94B",
          "Sector: Financial<br>Company: The Hartford Financial Services Group, Inc.<br>Symbol: HIG<br>Market Cap: $24.21B",
          "Sector: Consumer Cyclical<br>Company: Honda Motor Co., Ltd.<br>Symbol: HMC<br>Market Cap: $47.11B",
          "Sector: Healthcare<br>Company: Hologic, Inc.<br>Symbol: HOLX<br>Market Cap: $19.74B",
          "Sector: Industrials<br>Company: Honeywell International Inc.<br>Symbol: HON<br>Market Cap: $129.92B",
          "Sector: Technology<br>Company: HP Inc.<br>Symbol: HPQ<br>Market Cap: $28.3B",
          "Sector: Consumer Defensive<br>Company: Hormel Foods Corporation<br>Symbol: HRL<br>Market Cap: $22.86B",
          "Sector: Financial<br>Company: HSBC Holdings plc<br>Symbol: HSBC<br>Market Cap: $148.73B",
          "Sector: Consumer Cyclical<br>Company: H World Group Limited<br>Symbol: HTHT<br>Market Cap: $16.26B",
          "Sector: Healthcare<br>Company: Humana Inc.<br>Symbol: HUM<br>Market Cap: $61.96B",
          "Sector: Healthcare<br>Company: Horizon Therapeutics Public Limited Company<br>Symbol: HZNP<br>Market Cap: $25.18B",
          "Sector: Financial<br>Company: Interactive Brokers Group, Inc.<br>Symbol: IBKR<br>Market Cap: $37.49B",
          "Sector: Technology<br>Company: International Business Machines Corporation<br>Symbol: IBM<br>Market Cap: $116.95B",
          "Sector: Financial<br>Company: ICICI Bank Limited<br>Symbol: IBN<br>Market Cap: $72.33B",
          "Sector: Financial<br>Company: Intercontinental Exchange, Inc.<br>Symbol: ICE<br>Market Cap: $57.4B",
          "Sector: Basic Materials<br>Company: International Flavors & Fragrances Inc.<br>Symbol: IFF<br>Market Cap: $23.73B",
          "Sector: Healthcare<br>Company: Illumina, Inc.<br>Symbol: ILMN<br>Market Cap: $32.63B",
          "Sector: Healthcare<br>Company: Incyte Corporation<br>Symbol: INCY<br>Market Cap: $17.24B",
          "Sector: Technology<br>Company: Infosys Limited<br>Symbol: INFY<br>Market Cap: $73.85B",
          "Sector: Financial<br>Company: ING Groep N.V.<br>Symbol: ING<br>Market Cap: $52.22B",
          "Sector: Technology<br>Company: Intel Corporation<br>Symbol: INTC<br>Market Cap: $108.39B",
          "Sector: Technology<br>Company: Intuit Inc.<br>Symbol: INTU<br>Market Cap: $112.32B",
          "Sector: Communication Services<br>Company: The Interpublic Group of Companies, Inc.<br>Symbol: IPG<br>Market Cap: $13.73B",
          "Sector: Real Estate<br>Company: Iron Mountain Incorporated<br>Symbol: IRM<br>Market Cap: $15.36B",
          "Sector: Healthcare<br>Company: Intuitive Surgical, Inc.<br>Symbol: ISRG<br>Market Cap: $80.2B",
          "Sector: Financial<br>Company: Itau Unibanco Holding S.A.<br>Symbol: ITUB<br>Market Cap: $42.49B",
          "Sector: Industrials<br>Company: Illinois Tool Works Inc.<br>Symbol: ITW<br>Market Cap: $71.98B",
          "Sector: Industrials<br>Company: Johnson Controls International plc<br>Symbol: JCI<br>Market Cap: $43.77B",
          "Sector: Healthcare<br>Company: Johnson & Johnson<br>Symbol: JNJ<br>Market Cap: $397.02B",
          "Sector: Financial<br>Company: JPMorgan Chase & Co.<br>Symbol: JPM<br>Market Cap: $415.22B",
          "Sector: Consumer Defensive<br>Company: Kellogg Company<br>Symbol: K<br>Market Cap: $22.43B",
          "Sector: Consumer Defensive<br>Company: Keurig Dr Pepper Inc.<br>Symbol: KDP<br>Market Cap: $48.63B",
          "Sector: Financial<br>Company: KeyCorp<br>Symbol: KEY<br>Market Cap: $16.71B",
          "Sector: Financial<br>Company: KKR & Co. Inc.<br>Symbol: KKR<br>Market Cap: $48.06B",
          "Sector: Technology<br>Company: KLA Corporation<br>Symbol: KLAC<br>Market Cap: $52.39B",
          "Sector: Consumer Defensive<br>Company: Kimberly-Clark Corporation<br>Symbol: KMB<br>Market Cap: $42.74B",
          "Sector: Energy<br>Company: Kinder Morgan, Inc.<br>Symbol: KMI<br>Market Cap: $39.25B",
          "Sector: Consumer Defensive<br>Company: The Coca-Cola Company<br>Symbol: KO<br>Market Cap: $258.39B",
          "Sector: Consumer Defensive<br>Company: The Kroger Co.<br>Symbol: KR<br>Market Cap: $32.73B",
          "Sector: Consumer Cyclical<br>Company: Lennar Corporation<br>Symbol: LEN<br>Market Cap: $27.13B",
          "Sector: Industrials<br>Company: L3Harris Technologies, Inc.<br>Symbol: LHX<br>Market Cap: $40.33B",
          "Sector: Basic Materials<br>Company: Linde plc<br>Symbol: LIN<br>Market Cap: $173.12B",
          "Sector: Consumer Cyclical<br>Company: LKQ Corporation<br>Symbol: LKQ<br>Market Cap: $15.55B",
          "Sector: Healthcare<br>Company: Eli Lilly and Company<br>Symbol: LLY<br>Market Cap: $300.04B",
          "Sector: Industrials<br>Company: Lockheed Martin Corporation<br>Symbol: LMT<br>Market Cap: $122.11B",
          "Sector: Energy<br>Company: Cheniere Energy, Inc.<br>Symbol: LNG<br>Market Cap: $39.8B",
          "Sector: Consumer Cyclical<br>Company: Lowe's Companies, Inc.<br>Symbol: LOW<br>Market Cap: $117.98B",
          "Sector: Technology<br>Company: Lam Research Corporation<br>Symbol: LRCX<br>Market Cap: $66.12B",
          "Sector: Consumer Cyclical<br>Company: Lululemon Athletica Inc.<br>Symbol: LULU<br>Market Cap: $39.77B",
          "Sector: Industrials<br>Company: Southwest Airlines Co.<br>Symbol: LUV<br>Market Cap: $20.16B",
          "Sector: Consumer Cyclical<br>Company: Las Vegas Sands Corp.<br>Symbol: LVS<br>Market Cap: $45.99B",
          "Sector: Basic Materials<br>Company: LyondellBasell Industries N.V.<br>Symbol: LYB<br>Market Cap: $31.85B",
          "Sector: Financial<br>Company: Lloyds Banking Group plc<br>Symbol: LYG<br>Market Cap: $41.6B",
          "Sector: Communication Services<br>Company: Live Nation Entertainment, Inc.<br>Symbol: LYV<br>Market Cap: $16.78B",
          "Sector: Financial<br>Company: Mastercard Incorporated<br>Symbol: MA<br>Market Cap: $338.95B",
          "Sector: Consumer Cyclical<br>Company: Marriott International, Inc.<br>Symbol: MAR<br>Market Cap: $52.66B",
          "Sector: Consumer Cyclical<br>Company: McDonald's Corporation<br>Symbol: MCD<br>Market Cap: $195.73B",
          "Sector: Technology<br>Company: Microchip Technology Incorporated<br>Symbol: MCHP<br>Market Cap: $44.4B",
          "Sector: Healthcare<br>Company: McKesson Corporation<br>Symbol: MCK<br>Market Cap: $47.56B",
          "Sector: Consumer Defensive<br>Company: Mondelez International, Inc.<br>Symbol: MDLZ<br>Market Cap: $89.11B",
          "Sector: Healthcare<br>Company: Medtronic plc<br>Symbol: MDT<br>Market Cap: $109.44B",
          "Sector: Financial<br>Company: MetLife, Inc.<br>Symbol: MET<br>Market Cap: $53.73B",
          "Sector: Communication Services<br>Company: Meta Platforms, Inc.<br>Symbol: META<br>Market Cap: $452.49B",
          "Sector: Financial<br>Company: Manulife Financial Corporation<br>Symbol: MFC<br>Market Cap: $37.11B",
          "Sector: Financial<br>Company: Mizuho Financial Group, Inc.<br>Symbol: MFG<br>Market Cap: $39.5B",
          "Sector: Consumer Cyclical<br>Company: Magna International Inc.<br>Symbol: MGA<br>Market Cap: $16.07B",
          "Sector: Consumer Cyclical<br>Company: MGM Resorts International<br>Symbol: MGM<br>Market Cap: $16.93B",
          "Sector: Consumer Defensive<br>Company: McCormick & Company, Incorporated<br>Symbol: MKC<br>Market Cap: $19.58B",
          "Sector: Financial<br>Company: Marsh & McLennan Companies, Inc.<br>Symbol: MMC<br>Market Cap: $80.07B",
          "Sector: Industrials<br>Company: 3M Company<br>Symbol: MMM<br>Market Cap: $60.5B",
          "Sector: Consumer Defensive<br>Company: Monster Beverage Corporation<br>Symbol: MNST<br>Market Cap: $53.35B",
          "Sector: Consumer Defensive<br>Company: Altria Group, Inc.<br>Symbol: MO<br>Market Cap: $82.96B",
          "Sector: Basic Materials<br>Company: The Mosaic Company<br>Symbol: MOS<br>Market Cap: $19.18B",
          "Sector: Energy<br>Company: Marathon Petroleum Corporation<br>Symbol: MPC<br>Market Cap: $57.76B",
          "Sector: Energy<br>Company: MPLX LP<br>Symbol: MPLX<br>Market Cap: $34.84B",
          "Sector: Healthcare<br>Company: Merck & Co., Inc.<br>Symbol: MRK<br>Market Cap: $271.65B",
          "Sector: Energy<br>Company: Marathon Oil Corporation<br>Symbol: MRO<br>Market Cap: $16.43B",
          "Sector: Technology<br>Company: Marvell Technology, Inc.<br>Symbol: MRVL<br>Market Cap: $39.44B",
          "Sector: Financial<br>Company: Morgan Stanley<br>Symbol: MS<br>Market Cap: $161.6B",
          "Sector: Technology<br>Company: Microsoft Corporation<br>Symbol: MSFT<br>Market Cap: $1869.21B",
          "Sector: Basic Materials<br>Company: ArcelorMittal S.A.<br>Symbol: MT<br>Market Cap: $27.7B",
          "Sector: Financial<br>Company: M&T Bank Corporation<br>Symbol: MTB<br>Market Cap: $25.39B",
          "Sector: Technology<br>Company: Micron Technology, Inc.<br>Symbol: MU<br>Market Cap: $61.58B",
          "Sector: Financial<br>Company: Mitsubishi UFJ Financial Group, Inc.<br>Symbol: MUFG<br>Market Cap: $88.12B",
          "Sector: Financial<br>Company: Nasdaq, Inc.<br>Symbol: NDAQ<br>Market Cap: $27.38B",
          "Sector: Utilities<br>Company: NextEra Energy, Inc.<br>Symbol: NEE<br>Market Cap: $143.52B",
          "Sector: Basic Materials<br>Company: Newmont Corporation<br>Symbol: NEM<br>Market Cap: $34.88B",
          "Sector: Communication Services<br>Company: Netflix, Inc.<br>Symbol: NFLX<br>Market Cap: $138.89B",
          "Sector: Consumer Cyclical<br>Company: NIKE, Inc.<br>Symbol: NKE<br>Market Cap: $185.42B",
          "Sector: Industrials<br>Company: Northrop Grumman Corporation<br>Symbol: NOC<br>Market Cap: $71.67B",
          "Sector: Technology<br>Company: Nokia Oyj<br>Symbol: NOK<br>Market Cap: $26.28B",
          "Sector: Technology<br>Company: ServiceNow, Inc.<br>Symbol: NOW<br>Market Cap: $88.08B",
          "Sector: Industrials<br>Company: Norfolk Southern Corporation<br>Symbol: NSC<br>Market Cap: $52.07B",
          "Sector: Technology<br>Company: NetApp, Inc.<br>Symbol: NTAP<br>Market Cap: $14.04B",
          "Sector: Communication Services<br>Company: NetEase, Inc.<br>Symbol: NTES<br>Market Cap: $56.22B",
          "Sector: Financial<br>Company: Northern Trust Corporation<br>Symbol: NTRS<br>Market Cap: $19.35B",
          "Sector: Basic Materials<br>Company: Nucor Corporation<br>Symbol: NUE<br>Market Cap: $45.1B",
          "Sector: Technology<br>Company: NVIDIA Corporation<br>Symbol: NVDA<br>Market Cap: $575.86B",
          "Sector: Healthcare<br>Company: Novo Nordisk A/S<br>Symbol: NVO<br>Market Cap: $251.11B",
          "Sector: Healthcare<br>Company: Novartis AG<br>Symbol: NVS<br>Market Cap: $204.22B",
          "Sector: Financial<br>Company: NatWest Group plc<br>Symbol: NWG<br>Market Cap: $33.99B",
          "Sector: Technology<br>Company: NXP Semiconductors N.V.<br>Symbol: NXPI<br>Market Cap: $46.81B",
          "Sector: Real Estate<br>Company: Realty Income Corporation<br>Symbol: O<br>Market Cap: $42.33B",
          "Sector: Energy<br>Company: ONEOK, Inc.<br>Symbol: OKE<br>Market Cap: $29.82B",
          "Sector: Communication Services<br>Company: Omnicom Group Inc.<br>Symbol: OMC<br>Market Cap: $18.61B",
          "Sector: Technology<br>Company: ON Semiconductor Corporation<br>Symbol: ON<br>Market Cap: $33.15B",
          "Sector: Technology<br>Company: Oracle Corporation<br>Symbol: ORCL<br>Market Cap: $234.49B",
          "Sector: Energy<br>Company: Occidental Petroleum Corporation<br>Symbol: OXY<br>Market Cap: $54.25B",
          "Sector: Technology<br>Company: Palo Alto Networks, Inc.<br>Symbol: PANW<br>Market Cap: $57.45B",
          "Sector: Communication Services<br>Company: Paramount Global<br>Symbol: PARA<br>Market Cap: $14.67B",
          "Sector: Industrials<br>Company: Paychex, Inc.<br>Symbol: PAYX<br>Market Cap: $40.41B",
          "Sector: Energy<br>Company: Petroleo Brasileiro S.A. - Petrobras<br>Symbol: PBR<br>Market Cap: $66.55B",
          "Sector: Energy<br>Company: Petroleo Brasileiro S.A. - Petrobras<br>Symbol: PBR-A<br>Market Cap: $69.22B",
          "Sector: Industrials<br>Company: PACCAR Inc<br>Symbol: PCAR<br>Market Cap: $39.08B",
          "Sector: Utilities<br>Company: PG&E Corporation<br>Symbol: PCG<br>Market Cap: $39.09B",
          "Sector: Utilities<br>Company: Public Service Enterprise Group Incorporated<br>Symbol: PEG<br>Market Cap: $29.86B",
          "Sector: Consumer Defensive<br>Company: PepsiCo, Inc.<br>Symbol: PEP<br>Market Cap: $238.7B",
          "Sector: Healthcare<br>Company: Pfizer Inc.<br>Symbol: PFE<br>Market Cap: $228.25B",
          "Sector: Financial<br>Company: Principal Financial Group, Inc.<br>Symbol: PFG<br>Market Cap: $20.95B",
          "Sector: Consumer Defensive<br>Company: The Procter & Gamble Company<br>Symbol: PG<br>Market Cap: $330.11B",
          "Sector: Financial<br>Company: The Progressive Corporation<br>Symbol: PGR<br>Market Cap: $83.26B",
          "Sector: Healthcare<br>Company: Koninklijke Philips N.V.<br>Symbol: PHG<br>Market Cap: $14.48B",
          "Sector: Real Estate<br>Company: Prologis, Inc.<br>Symbol: PLD<br>Market Cap: $115.08B",
          "Sector: Consumer Defensive<br>Company: Philip Morris International Inc.<br>Symbol: PM<br>Market Cap: $152.48B",
          "Sector: Financial<br>Company: The PNC Financial Services Group, Inc.<br>Symbol: PNC<br>Market Cap: $60.05B",
          "Sector: Basic Materials<br>Company: PPG Industries, Inc.<br>Symbol: PPG<br>Market Cap: $31.71B",
          "Sector: Utilities<br>Company: PPL Corporation<br>Symbol: PPL<br>Market Cap: $19.98B",
          "Sector: Financial<br>Company: Prudential Financial, Inc.<br>Symbol: PRU<br>Market Cap: $35.87B",
          "Sector: Real Estate<br>Company: Public Storage<br>Symbol: PSA<br>Market Cap: $52.94B",
          "Sector: Energy<br>Company: Phillips 66<br>Symbol: PSX<br>Market Cap: $49.09B",
          "Sector: Energy<br>Company: Pioneer Natural Resources Company<br>Symbol: PXD<br>Market Cap: $49.3B",
          "Sector: Technology<br>Company: QUALCOMM Incorporated<br>Symbol: QCOM<br>Market Cap: $138.01B",
          "Sector: Consumer Cyclical<br>Company: Royal Caribbean Cruises Ltd.<br>Symbol: RCL<br>Market Cap: $18.38B",
          "Sector: Financial<br>Company: Regions Financial Corporation<br>Symbol: RF<br>Market Cap: $21.39B",
          "Sector: Basic Materials<br>Company: Rio Tinto Group<br>Symbol: RIO<br>Market Cap: $121.79B",
          "Sector: Financial<br>Company: Raymond James Financial, Inc.<br>Symbol: RJF<br>Market Cap: $22.96B",
          "Sector: Consumer Cyclical<br>Company: Rollins, Inc.<br>Symbol: ROL<br>Market Cap: $17.21B",
          "Sector: Consumer Cyclical<br>Company: Ross Stores, Inc.<br>Symbol: ROST<br>Market Cap: $38.23B",
          "Sector: Industrials<br>Company: Republic Services, Inc.<br>Symbol: RSG<br>Market Cap: $40.81B",
          "Sector: Industrials<br>Company: Raytheon Technologies Corporation<br>Symbol: RTX<br>Market Cap: $145.03B",
          "Sector: Financial<br>Company: Banco Santander, S.A.<br>Symbol: SAN<br>Market Cap: $67.8B",
          "Sector: Consumer Cyclical<br>Company: Starbucks Corporation<br>Symbol: SBUX<br>Market Cap: $118.39B",
          "Sector: Basic Materials<br>Company: Southern Copper Corporation<br>Symbol: SCCO<br>Market Cap: $58.17B",
          "Sector: Financial<br>Company: The Charles Schwab Corporation<br>Symbol: SCHW<br>Market Cap: $140.18B",
          "Sector: Healthcare<br>Company: Seagen Inc.<br>Symbol: SGEN<br>Market Cap: $33.37B",
          "Sector: Energy<br>Company: Shell plc<br>Symbol: SHEL<br>Market Cap: $217.14B",
          "Sector: Basic Materials<br>Company: The Sherwin-Williams Company<br>Symbol: SHW<br>Market Cap: $57.9B",
          "Sector: Communication Services<br>Company: Sirius XM Holdings Inc.<br>Symbol: SIRI<br>Market Cap: $16.73B",
          "Sector: Communication Services<br>Company: Shaw Communications Inc.<br>Symbol: SJR<br>Market Cap: $14.41B",
          "Sector: Energy<br>Company: Schlumberger Limited<br>Symbol: SLB<br>Market Cap: $78.54B",
          "Sector: Financial<br>Company: Sumitomo Mitsui Financial Group, Inc.<br>Symbol: SMFG<br>Market Cap: $59.68B",
          "Sector: Healthcare<br>Company: Sanofi<br>Symbol: SNY<br>Market Cap: $119.94B",
          "Sector: Utilities<br>Company: The Southern Company<br>Symbol: SO<br>Market Cap: $69.33B",
          "Sector: Real Estate<br>Company: Simon Property Group, Inc.<br>Symbol: SPG<br>Market Cap: $40.16B",
          "Sector: Financial<br>Company: S&P Global Inc.<br>Symbol: SPGI<br>Market Cap: $109.44B",
          "Sector: Technology<br>Company: Splunk Inc.<br>Symbol: SPLK<br>Market Cap: $16.73B",
          "Sector: Basic Materials<br>Company: Sociedad Quimica y Minera de Chile S.A.<br>Symbol: SQM<br>Market Cap: $22.21B",
          "Sector: Utilities<br>Company: Sempra<br>Symbol: SRE<br>Market Cap: $46.77B",
          "Sector: Healthcare<br>Company: Sarepta Therapeutics, Inc.<br>Symbol: SRPT<br>Market Cap: $13.46B",
          "Sector: Technology<br>Company: SS&C Technologies Holdings, Inc.<br>Symbol: SSNC<br>Market Cap: $14.84B",
          "Sector: Consumer Cyclical<br>Company: Stellantis N.V.<br>Symbol: STLA<br>Market Cap: $59.21B",
          "Sector: Basic Materials<br>Company: Steel Dynamics, Inc.<br>Symbol: STLD<br>Market Cap: $22.8B",
          "Sector: Technology<br>Company: STMicroelectronics N.V.<br>Symbol: STM<br>Market Cap: $42.98B",
          "Sector: Financial<br>Company: State Street Corporation<br>Symbol: STT<br>Market Cap: $30.58B",
          "Sector: Technology<br>Company: Seagate Technology Holdings plc<br>Symbol: STX<br>Market Cap: $13.39B",
          "Sector: Consumer Defensive<br>Company: Constellation Brands, Inc.<br>Symbol: STZ<br>Market Cap: $40.91B",
          "Sector: Energy<br>Company: Suncor Energy Inc.<br>Symbol: SU<br>Market Cap: $46.27B",
          "Sector: Technology<br>Company: Skyworks Solutions, Inc.<br>Symbol: SWKS<br>Market Cap: $17.77B",
          "Sector: Healthcare<br>Company: Stryker Corporation<br>Symbol: SYK<br>Market Cap: $99.29B",
          "Sector: Consumer Defensive<br>Company: Sysco Corporation<br>Symbol: SYY<br>Market Cap: $38.35B",
          "Sector: Communication Services<br>Company: AT&T Inc.<br>Symbol: T<br>Market Cap: $133.01B",
          "Sector: Healthcare<br>Company: Takeda Pharmaceutical Company Limited<br>Symbol: TAK<br>Market Cap: $48.6B",
          "Sector: Consumer Cyclical<br>Company: Trip.com Group Limited<br>Symbol: TCOM<br>Market Cap: $25.85B",
          "Sector: Financial<br>Company: The Toronto-Dominion Bank<br>Symbol: TD<br>Market Cap: $118.54B",
          "Sector: Basic Materials<br>Company: Teck Resources Limited<br>Symbol: TECK<br>Market Cap: $21.59B",
          "Sector: Communication Services<br>Company: Telefonica, S.A.<br>Symbol: TEF<br>Market Cap: $23.98B",
          "Sector: Technology<br>Company: TE Connectivity Ltd.<br>Symbol: TEL<br>Market Cap: $40.87B",
          "Sector: Technology<br>Company: Teradyne, Inc.<br>Symbol: TER<br>Market Cap: $15.92B",
          "Sector: Financial<br>Company: Truist Financial Corporation<br>Symbol: TFC<br>Market Cap: $60.42B",
          "Sector: Consumer Defensive<br>Company: Target Corporation<br>Symbol: TGT<br>Market Cap: $76.39B",
          "Sector: Consumer Cyclical<br>Company: The TJX Companies, Inc.<br>Symbol: TJX<br>Market Cap: $88.64B",
          "Sector: Healthcare<br>Company: Thermo Fisher Scientific Inc.<br>Symbol: TMO<br>Market Cap: $211.51B",
          "Sector: Communication Services<br>Company: T-Mobile US, Inc.<br>Symbol: TMUS<br>Market Cap: $172.12B",
          "Sector: Energy<br>Company: Targa Resources Corp.<br>Symbol: TRGP<br>Market Cap: $17.51B",
          "Sector: Financial<br>Company: T. Rowe Price Group, Inc.<br>Symbol: TROW<br>Market Cap: $24.94B",
          "Sector: Energy<br>Company: TC Energy Corporation<br>Symbol: TRP<br>Market Cap: $41.55B",
          "Sector: Financial<br>Company: The Travelers Companies, Inc.<br>Symbol: TRV<br>Market Cap: $42.52B",
          "Sector: Energy<br>Company: Tenaris S.A.<br>Symbol: TS<br>Market Cap: $20.31B",
          "Sector: Consumer Cyclical<br>Company: Tractor Supply Company<br>Symbol: TSCO<br>Market Cap: $25.15B",
          "Sector: Consumer Cyclical<br>Company: Tesla, Inc.<br>Symbol: TSLA<br>Market Cap: $604.03B",
          "Sector: Technology<br>Company: Taiwan Semiconductor Manufacturing Company Limited<br>Symbol: TSM<br>Market Cap: $440.22B",
          "Sector: Consumer Defensive<br>Company: Tyson Foods, Inc.<br>Symbol: TSN<br>Market Cap: $21.0B",
          "Sector: Industrials<br>Company: Trane Technologies plc<br>Symbol: TT<br>Market Cap: $42.87B",
          "Sector: Energy<br>Company: TotalEnergies SE<br>Symbol: TTE<br>Market Cap: $157.01B",
          "Sector: Communication Services<br>Company: Take-Two Interactive Software, Inc.<br>Symbol: TTWO<br>Market Cap: $19.44B",
          "Sector: Communication Services<br>Company: TELUS Corporation<br>Symbol: TU<br>Market Cap: $28.38B",
          "Sector: Technology<br>Company: Texas Instruments Incorporated<br>Symbol: TXN<br>Market Cap: $157.75B",
          "Sector: Industrials<br>Company: Textron Inc.<br>Symbol: TXT<br>Market Cap: $15.28B",
          "Sector: Industrials<br>Company: United Airlines Holdings, Inc.<br>Symbol: UAL<br>Market Cap: $17.19B",
          "Sector: Financial<br>Company: UBS Group AG<br>Symbol: UBS<br>Market Cap: $75.53B",
          "Sector: Real Estate<br>Company: UDR, Inc.<br>Symbol: UDR<br>Market Cap: $13.86B",
          "Sector: Consumer Defensive<br>Company: Unilever PLC<br>Symbol: UL<br>Market Cap: $127.44B",
          "Sector: Technology<br>Company: United Microelectronics Corporation<br>Symbol: UMC<br>Market Cap: $20.74B",
          "Sector: Healthcare<br>Company: UnitedHealth Group Incorporated<br>Symbol: UNH<br>Market Cap: $445.62B",
          "Sector: Industrials<br>Company: Union Pacific Corporation<br>Symbol: UNP<br>Market Cap: $129.33B",
          "Sector: Industrials<br>Company: United Parcel Service, Inc.<br>Symbol: UPS<br>Market Cap: $158.59B",
          "Sector: Financial<br>Company: U.S. Bancorp<br>Symbol: USB<br>Market Cap: $70.91B",
          "Sector: Financial<br>Company: Visa Inc.<br>Symbol: V<br>Market Cap: $450.87B",
          "Sector: Basic Materials<br>Company: Vale S.A.<br>Symbol: VALE<br>Market Cap: $81.78B",
          "Sector: Energy<br>Company: Valero Energy Corporation<br>Symbol: VLO<br>Market Cap: $51.68B",
          "Sector: Technology<br>Company: VMware, Inc.<br>Symbol: VMW<br>Market Cap: $47.33B",
          "Sector: Communication Services<br>Company: Vodafone Group Public Limited Company<br>Symbol: VOD<br>Market Cap: $32.42B",
          "Sector: Healthcare<br>Company: Vertex Pharmaceuticals Incorporated<br>Symbol: VRTX<br>Market Cap: $74.75B",
          "Sector: Real Estate<br>Company: Ventas, Inc.<br>Symbol: VTR<br>Market Cap: $19.15B",
          "Sector: Healthcare<br>Company: Viatris Inc.<br>Symbol: VTRS<br>Market Cap: $13.32B",
          "Sector: Communication Services<br>Company: Verizon Communications Inc.<br>Symbol: VZ<br>Market Cap: $161.32B",
          "Sector: Healthcare<br>Company: Walgreens Boots Alliance, Inc.<br>Symbol: WBA<br>Market Cap: $30.52B",
          "Sector: Communication Services<br>Company: Warner Bros. Discovery, Inc.<br>Symbol: WBD<br>Market Cap: $37.03B",
          "Sector: Technology<br>Company: Workday, Inc.<br>Symbol: WDAY<br>Market Cap: $48.74B",
          "Sector: Utilities<br>Company: WEC Energy Group, Inc.<br>Symbol: WEC<br>Market Cap: $27.76B",
          "Sector: Real Estate<br>Company: Welltower Inc.<br>Symbol: WELL<br>Market Cap: $36.48B",
          "Sector: Financial<br>Company: Wells Fargo & Company<br>Symbol: WFC<br>Market Cap: $173.76B",
          "Sector: Technology<br>Company: Wipro Limited<br>Symbol: WIT<br>Market Cap: $25.78B",
          "Sector: Industrials<br>Company: Waste Management, Inc.<br>Symbol: WM<br>Market Cap: $61.22B",
          "Sector: Energy<br>Company: The Williams Companies, Inc.<br>Symbol: WMB<br>Market Cap: $37.07B",
          "Sector: Consumer Defensive<br>Company: Walmart Inc.<br>Symbol: WMT<br>Market Cap: $378.9B",
          "Sector: Basic Materials<br>Company: Wheaton Precious Metals Corp.<br>Symbol: WPM<br>Market Cap: $18.8B",
          "Sector: Financial<br>Company: W. R. Berkley Corporation<br>Symbol: WRB<br>Market Cap: $17.74B",
          "Sector: Real Estate<br>Company: Weyerhaeuser Company<br>Symbol: WY<br>Market Cap: $22.96B",
          "Sector: Utilities<br>Company: Xcel Energy Inc.<br>Symbol: XEL<br>Market Cap: $35.38B",
          "Sector: Energy<br>Company: Exxon Mobil Corporation<br>Symbol: XOM<br>Market Cap: $453.51B",
          "Sector: Industrials<br>Company: Xylem Inc.<br>Symbol: XYL<br>Market Cap: $18.43B",
          "Sector: Consumer Cyclical<br>Company: Yum! Brands, Inc.<br>Symbol: YUM<br>Market Cap: $36.04B",
          "Sector: Healthcare<br>Company: Zimmer Biomet Holdings, Inc.<br>Symbol: ZBH<br>Market Cap: $25.84B",
          "Sector: Healthcare<br>Company: Zoetis Inc.<br>Symbol: ZTS<br>Market Cap: $78.12B"
         ],
         "marker": {
          "color": [
           1,
           2,
           3,
           1,
           1,
           4,
           1,
           5,
           2,
           2,
           2,
           4,
           3,
           2,
           6,
           7,
           6,
           6,
           5,
           5,
           7,
           1,
           5,
           2,
           8,
           2,
           1,
           9,
           10,
           8,
           7,
           2,
           5,
           8,
           2,
           2,
           10,
           2,
           6,
           5,
           1,
           3,
           5,
           8,
           1,
           5,
           5,
           8,
           10,
           5,
           1,
           5,
           4,
           4,
           7,
           10,
           1,
           5,
           11,
           1,
           1,
           5,
           5,
           11,
           5,
           5,
           5,
           1,
           4,
           4,
           5,
           5,
           4,
           1,
           3,
           5,
           9,
           4,
           9,
           8,
           2,
           7,
           4,
           10,
           1,
           4,
           4,
           5,
           10,
           5,
           6,
           1,
           3,
           6,
           11,
           5,
           11,
           4,
           3,
           4,
           8,
           2,
           2,
           9,
           3,
           11,
           2,
           8,
           11,
           1,
           11,
           6,
           3,
           5,
           7,
           3,
           5,
           4,
           1,
           8,
           1,
           10,
           9,
           4,
           8,
           6,
           6,
           11,
           1,
           10,
           8,
           6,
           11,
           7,
           6,
           6,
           4,
           1,
           3,
           11,
           2,
           11,
           11,
           11,
           9,
           2,
           6,
           11,
           3,
           6,
           6,
           1,
           6,
           3,
           8,
           9,
           8,
           11,
           3,
           7,
           3,
           6,
           3,
           2,
           2,
           5,
           5,
           2,
           2,
           3,
           3,
           1,
           4,
           2,
           8,
           7,
           10,
           10,
           3,
           5,
           1,
           11,
           5,
           1,
           8,
           5,
           11,
           5,
           8,
           1,
           3,
           2,
           4,
           5,
           8,
           1,
           1,
           5,
           2,
           5,
           5,
           7,
           1,
           1,
           2,
           5,
           2,
           2,
           10,
           9,
           1,
           5,
           3,
           3,
           1,
           5,
           4,
           4,
           5,
           5,
           2,
           4,
           11,
           4,
           4,
           8,
           3,
           7,
           8,
           1,
           3,
           11,
           8,
           2,
           8,
           3,
           8,
           7,
           5,
           10,
           5,
           8,
           8,
           2,
           1,
           4,
           1,
           5,
           10,
           5,
           5,
           8,
           8,
           4,
           5,
           3,
           4,
           4,
           7,
           11,
           11,
           1,
           11,
           2,
           5,
           2,
           7,
           5,
           2,
           5,
           5,
           6,
           7,
           10,
           8,
           3,
           2,
           2,
           3,
           2,
           10,
           5,
           7,
           2,
           1,
           1,
           5,
           2,
           9,
           11,
           10,
           2,
           2,
           11,
           2,
           10,
           3,
           11,
           11,
           3,
           6,
           6,
           4,
           1,
           5,
           4,
           5,
           1,
           9,
           4,
           5,
           7,
           6,
           5,
           9,
           11,
           11,
           2,
           8,
           5,
           7,
           5,
           8,
           8,
           3,
           3,
           5,
           8,
           7,
           5,
           1,
           11,
           7,
           10,
           10,
           11,
           5,
           1,
           6,
           9,
           5,
           2,
           7,
           6,
           1,
           2,
           8,
           7,
           2,
           5,
           2,
           4,
           11,
           2,
           1,
           4,
           10,
           1,
           8,
           5,
           7,
           10,
           2,
           2,
           5,
           4,
           8,
           1,
           10,
           11,
           5,
           11,
           5,
           11,
           8,
           8,
           2,
           4,
           3,
           11,
           10,
           10,
           2,
           3,
           3,
           5,
           9,
           4,
           2,
           1,
           3,
           3,
           5,
           5,
           7,
           11,
           2,
           10,
           1,
           9,
           1,
           10,
           1,
           10,
           2,
           6,
           9,
           5,
           2,
           3,
           11,
           4,
           7,
           5,
           9,
           6,
           11,
           3,
           8,
           1,
           1
          ],
          "colorscale": [
           [
            0,
            "#000004"
           ],
           [
            0.1111111111111111,
            "#180f3d"
           ],
           [
            0.2222222222222222,
            "#440f76"
           ],
           [
            0.3333333333333333,
            "#721f81"
           ],
           [
            0.4444444444444444,
            "#9e2f7f"
           ],
           [
            0.5555555555555556,
            "#cd4071"
           ],
           [
            0.6666666666666666,
            "#f1605d"
           ],
           [
            0.7777777777777778,
            "#fd9668"
           ],
           [
            0.8888888888888888,
            "#feca8d"
           ],
           [
            1,
            "#fcfdbf"
           ]
          ]
         },
         "mode": "markers",
         "name": "",
         "type": "scatter",
         "x": [
          -0.05517686650050999,
          -0.049676917322548086,
          -0.05947259796631682,
          -0.03931938107482001,
          -0.042248662406499216,
          -0.03963122749004994,
          -0.05120906320385826,
          -0.056521197349536735,
          -0.06129358837590535,
          -0.04854653089799384,
          -0.05703313959893264,
          -0.052839142918549555,
          -0.061110406997161006,
          -0.05029785468098173,
          -0.04225575772481227,
          -0.011429620408644538,
          -0.038627727550844496,
          -0.05174468770594425,
          -0.061528149266823096,
          -0.06097440242603309,
          -0.04756755483186323,
          -0.04498474911851055,
          -0.055376938898739465,
          -0.05459545924907674,
          -0.03662201219403395,
          -0.03470067892692694,
          -0.04330614493578187,
          -0.04660786236118997,
          -0.04349148548295293,
          -0.040062970622559126,
          -0.056934969318158356,
          -0.06456011975772392,
          -0.05382975676743643,
          -0.05655702911671896,
          -0.05214121692031469,
          -0.04148477866064751,
          -0.029147503728755356,
          -0.05171715862205445,
          -0.040854694632975495,
          -0.06257832384364939,
          -0.034527176448960945,
          -0.05475087710262371,
          -0.06291561690123489,
          -0.044430942334122314,
          -0.042948904388061544,
          -0.04168957063888853,
          -0.05458275400494528,
          -0.04100103086842885,
          -0.05377797547753239,
          -0.05415817897310839,
          -0.04210749034514582,
          -0.05928544639490394,
          -0.047838544412066315,
          -0.04202439791434975,
          -0.052519498194269695,
          -0.03448468406059401,
          -0.027897427080861674,
          -0.060877209451587026,
          -0.04883301524045906,
          -0.03629187380774862,
          -0.03605539799114491,
          -0.06356978938365408,
          -0.06148687729797456,
          -0.052957830407832626,
          -0.06778111761149494,
          -0.056209739374420746,
          -0.042331183043642986,
          -0.051493068885172605,
          -0.043308687290635584,
          -0.04940476989631763,
          -0.05789015184643039,
          -0.06493218241898306,
          -0.02744063592833077,
          -0.04381207265470725,
          -0.056473403988950184,
          -0.05809718952360981,
          -0.06048202232096111,
          -0.0495332978679035,
          -0.04402965621741934,
          -0.04934694917550605,
          -0.04887144740806706,
          -0.04217872766386766,
          -0.030850227581889676,
          -0.037617525558821745,
          -0.046213596200854475,
          -0.043373635184916826,
          -0.020156105780380067,
          -0.05877921200367611,
          -0.0510571861429227,
          -0.04760338474683969,
          -0.039311687630314784,
          -0.03974295156630138,
          -0.05724053469468363,
          -0.05195811428364583,
          -0.04850903775156449,
          -0.0625122751380904,
          -0.051692057511479206,
          -0.042506304115109014,
          -0.055001791347878,
          -0.022113603704576382,
          -0.052271807794568095,
          -0.04541068420726412,
          -0.05353203240374769,
          -0.04503666045298233,
          -0.05694823065535263,
          -0.032869676509683775,
          -0.05453986775077439,
          -0.050707957880605475,
          -0.0438305415561717,
          -0.04442546318092593,
          -0.057284757652713875,
          -0.041195816495958826,
          -0.05056625744262449,
          -0.05004909001468466,
          -0.058060626837465754,
          -0.05254843920807269,
          -0.06313524585003964,
          -0.030318553125731344,
          -0.04152959671242453,
          -0.04797588755278871,
          -0.05116679300306149,
          -0.05499189393747793,
          -0.03745450243194762,
          -0.034088517961269375,
          -0.050039204100932946,
          -0.04978840420931014,
          -0.04313926249648017,
          -0.04760721678341572,
          -0.02933948226136541,
          -0.030004242176882932,
          -0.03914378541555804,
          -0.03154466307399675,
          -0.045072005734685235,
          -0.06115823897337704,
          -0.033667024444657634,
          -0.04167815485092652,
          -0.05182793110612882,
          -0.04690708239676009,
          -0.06389153850833514,
          -0.0521547765652859,
          -0.02730738064065634,
          -0.04699606673954644,
          -0.04833384888401351,
          -0.048612051649312656,
          -0.049712731551016034,
          -0.041160103875380605,
          -0.04010152613695201,
          -0.0375001312898308,
          -0.06406196321519175,
          -0.0449613720100766,
          -0.044217051210042206,
          -0.04189564280426604,
          -0.04873223878872487,
          -0.049385164219911216,
          -0.04599239446789162,
          -0.03773805106844928,
          -0.053172388115163664,
          -0.043297674833318874,
          -0.05035073079544361,
          -0.047944805725306294,
          -0.05199654173007069,
          -0.03942438020460004,
          -0.014557303644762081,
          -0.053322640882116995,
          -0.059548460688221734,
          -0.06239618020551694,
          -0.05542490925449605,
          -0.03252634799892817,
          -0.04107242901718483,
          -0.058273762334722284,
          -0.05123602945359885,
          -0.03392617567522938,
          -0.028968103103087697,
          -0.059360567250844626,
          -0.05469599458582726,
          -0.011970394994178278,
          -0.051163622759488,
          -0.051387515230669305,
          -0.05711841346598437,
          -0.06391128777055018,
          -0.04313481320135281,
          -0.0525931458127165,
          -0.0585893566397133,
          -0.04752569815091443,
          -0.05636449981833132,
          -0.0434283810148532,
          -0.04926843031548033,
          -0.0560605337910744,
          -0.05285035960914031,
          -0.04217716367399511,
          -0.0665452158561614,
          -0.0501589746620837,
          -0.02910839663162323,
          -0.0508520420133696,
          -0.028683901628203785,
          -0.038656166277202836,
          -0.02308262480767925,
          -0.04877284479175151,
          -0.05354147382843512,
          -0.041915433365623686,
          -0.049952677838502706,
          -0.05005083715311276,
          -0.038886463650452445,
          -0.029403279299607996,
          -0.04293592050002952,
          -0.05639718694543603,
          -0.05109411266442126,
          -0.05410425580336538,
          -0.05706239986007098,
          -0.04349195934927979,
          -0.04786538024507409,
          -0.04176406767800037,
          -0.06436595967891096,
          -0.05619087968033596,
          -0.04641114257799155,
          -0.06531637071553167,
          -0.02837994468174287,
          -0.03453322394500549,
          -0.06209062803883228,
          -0.05680057565996486,
          -0.053150084620469586,
          -0.03575298638758214,
          -0.051065064681564284,
          -0.051617289470841904,
          -0.01956053695599992,
          -0.04885528271351061,
          -0.04572506935965732,
          -0.060104936986809694,
          -0.055057338566278195,
          -0.03521451970032496,
          -0.04521804983332469,
          -0.040790110364189294,
          -0.052350599524820504,
          -0.054542749699244185,
          -0.03682010566466471,
          -0.04862775535516091,
          -0.04697875047564562,
          -0.05787037602545161,
          -0.05182749547546332,
          -0.04806286556937908,
          -0.06167204479827214,
          -0.054153013269087766,
          -0.05134501100697169,
          -0.05736540079625336,
          -0.0421222063898872,
          -0.05059555193416766,
          -0.05580165356681899,
          -0.06411165187993464,
          -0.03885291003984604,
          -0.061445057643569084,
          -0.04308306808403794,
          -0.057136414825062744,
          -0.05492075912401254,
          -0.03844977025237962,
          -0.06102016484194274,
          -0.055858273055204945,
          -0.039118824468306876,
          -0.041672304160453075,
          -0.04520844627010792,
          -0.052372174717371066,
          -0.03381155650995151,
          -0.04065675864467037,
          -0.04432443990082456,
          -0.04477358792109804,
          -0.06511249580013592,
          -0.05417196182025101,
          -0.05171066706152158,
          -0.05704948495950362,
          -0.047268573934069455,
          -0.045461070354770365,
          -0.05266143693744713,
          -0.0430825577080406,
          -0.01648915079335212,
          -0.030127191191504414,
          -0.05107650939704581,
          -0.04156195263625433,
          -0.03488466485970682,
          -0.04138424565526088,
          -0.05849110622788541,
          -0.047709040524671474,
          -0.027890808305742778,
          -0.06260764162004345,
          -0.05428059350928443,
          -0.04482119575521093,
          -0.031379570333327236,
          -0.04626490884004261,
          -0.04833902317247796,
          -0.05091687590658597,
          -0.04703207373863979,
          -0.05074784544700917,
          -0.054286453780605745,
          -0.052866098436799014,
          -0.05030800001938385,
          -0.0457235271941141,
          -0.035702161494711705,
          -0.04314705571810093,
          -0.06159840942521028,
          -0.04259743973931124,
          -0.039296973912045,
          -0.05725559121593381,
          -0.0230970278135215,
          -0.04587300447575118,
          -0.05031225652013884,
          -0.040945264704113284,
          -0.06621293079408806,
          -0.04365463926303929,
          -0.046798177112259455,
          -0.04734518274368793,
          -0.054141799295383,
          -0.045867708901006436,
          -0.06422255579029405,
          -0.059330333269222296,
          -0.04953353352751708,
          -0.06638794604113132,
          -0.03904792691045203,
          -0.05326259891312471,
          -0.04728361337691553,
          -0.04641727798532016,
          -0.050241212251457584,
          -0.06057790670733877,
          -0.04829770607607032,
          -0.06233886324980707,
          -0.041438234690806576,
          -0.04995121141316554,
          -0.05445963021551435,
          -0.06075229543031943,
          -0.05543224986408414,
          -0.05494181749899756,
          -0.04909488105694023,
          -0.05593449118821841,
          -0.028760281140521017,
          -0.05284565485009989,
          -0.04994145599282143,
          -0.048139796241185744,
          -0.04213567792344052,
          -0.05123913646325306,
          -0.04778956306476288,
          -0.0401566462943689,
          -0.04266108229152213,
          -0.050987791434823175,
          -0.058609009396308094,
          -0.04030048112638347,
          -0.041678426297501264,
          -0.048112396085164426,
          -0.019409562328155452,
          -0.05366659727660193,
          -0.046128730310185447,
          -0.05126260121208609,
          -0.050466466940408204,
          -0.061726369692634564,
          -0.042527092622272285,
          -0.04660869837119759,
          -0.04791433297581566,
          -0.05130645768159985,
          -0.05875203955892725,
          -0.052068687301152744,
          -0.04743801658391459,
          -0.03312417455088938,
          -0.03216815595713381,
          -0.06269009711787216,
          -0.04248402065950484,
          -0.04773619683590449,
          -0.06422888954612503,
          -0.05157341807091747,
          -0.06272666427002913,
          -0.03635235839586912,
          -0.05291466790143502,
          -0.04801228013240198,
          -0.040532321639281714,
          -0.045340269511357896,
          -0.06287860741596668,
          -0.05097011733174454,
          -0.05640443335973754,
          -0.04689294805306263,
          -0.03892759799444848,
          -0.03103995581504487,
          -0.046256871839271754,
          -0.03670279104438904,
          -0.058766436990333404,
          -0.054947804979212866,
          -0.031008382105927008,
          -0.050835746211650205,
          -0.05736354927451604,
          -0.06082311030971244,
          -0.046533617344864484,
          -0.05380809151685103,
          -0.049971634760843965,
          -0.041144425688510324,
          -0.0316408301283273,
          -0.0498765112626029,
          -0.05803694904669371,
          -0.048365601759441115,
          -0.06297882324026291,
          -0.06067625268048044,
          -0.04123121559113724,
          -0.04910538506790594,
          -0.0406204109531425,
          -0.048542408589661634,
          -0.03000926382949136,
          -0.045188675213767,
          -0.03751232519320152,
          -0.03948023430819463,
          -0.04320385353457873,
          -0.03871562714819655,
          -0.04167536757897191,
          -0.03576475064915208,
          -0.046071620740515726,
          -0.06107793722131204,
          -0.03825724764411134,
          -0.051972832283496785,
          -0.042968414862985756,
          -0.03284753028604101,
          -0.01602105204799693,
          -0.05782569158308152,
          -0.06058846818200591,
          -0.04080290401648526,
          -0.05430433297010398,
          -0.05868542094875943,
          -0.05021919042277562,
          -0.051421115691822845,
          -0.04868213386381876
         ],
         "y": [
          -0.02519958658552258,
          -0.022024043480575684,
          0.01791269606144097,
          -0.02756112373586561,
          -0.03148981482877278,
          0.015319046955879961,
          -0.06425168551555457,
          -0.01461247359402967,
          -0.03058997608195085,
          -0.03244293762260965,
          0.007071344595411116,
          0.001483272002964288,
          -0.04317912556958922,
          -0.003337675894313148,
          -0.1251187819580554,
          -0.01346634103393621,
          -0.12813653339612513,
          -0.00916974229158412,
          0.018911255255584354,
          0.04334034776119672,
          0.022769311883858372,
          -0.0047878932123325306,
          -0.018394517746667765,
          0.010109917322908847,
          -0.0050701111316709775,
          0.00269378078376373,
          -0.049200860087774856,
          -0.09098832916229992,
          0.003509885162022869,
          -0.017473563120284252,
          -0.026553971663155856,
          -0.005273618574429457,
          0.018723655012448097,
          0.045407557415613246,
          0.008826409293097656,
          0.011540900038267106,
          -0.026784779000059586,
          0.004369236888573691,
          -0.12968160225157824,
          0.030188190569334538,
          -0.04239621499188169,
          0.03427363110124153,
          0.05307569925325189,
          -0.053911492559843004,
          -0.051548243224593705,
          0.03045154499354271,
          0.052496383089627105,
          0.0003893065430636862,
          -0.020269926371540115,
          0.06258827174690784,
          -0.06301279235852794,
          0.015155996720306862,
          -0.06636358199035663,
          0.01908342937980699,
          0.05113085341822558,
          0.029358817126326785,
          -0.025899489429189588,
          0.03602203743841982,
          0.0674581533837216,
          -0.005333483237256646,
          -0.0359371865507799,
          0.003890930325107839,
          0.03950841158822654,
          0.0776495002996308,
          -0.0037337151777987725,
          -0.040853089628995795,
          0.035503463012611716,
          -0.022265582643717828,
          -0.023979675702780645,
          0.015254726478374798,
          0.005551051750334689,
          0.05620514520754073,
          -0.06095555279724878,
          -0.015556665969788067,
          0.04744404147565335,
          -0.014353703446008774,
          0.013970504264099032,
          -0.010792756393081608,
          -0.08848048606735924,
          0.05884987655585098,
          -0.02804060018492161,
          0.056464377161566215,
          -0.1094543423606966,
          -0.027921810305812273,
          -0.013782526770635475,
          -0.10157479348706161,
          -0.10615316548381072,
          0.04079548041852104,
          -0.019483492254839616,
          -0.0261910574141338,
          -0.13364536393370324,
          -0.026765843469441192,
          0.008339924460237031,
          -0.053200835924363504,
          0.08239492772936093,
          0.04681927202006793,
          0.08037966698969873,
          -0.07043076854246498,
          0.011506853270926869,
          -0.08662456144835147,
          -0.017740326653863134,
          -0.01603435289851548,
          -0.021449412273806197,
          -0.021429566841792293,
          0.005994805411759061,
          0.023905714017523474,
          -0.01924040950135341,
          0.06090798967197268,
          0.08855797855031144,
          -0.03477678028463428,
          0.056836931477741014,
          -0.11694442601417677,
          0.04247081889705753,
          0.05790930215261986,
          0.029486434492907783,
          0.027842746713491365,
          0.041474692043255865,
          -0.056368391322906886,
          -0.0434060437036286,
          -0.018722978426879554,
          -0.05584704033376748,
          0.013603406355235142,
          -0.08752673458037132,
          -0.024091658587719264,
          0.025744925783979113,
          -0.07874400220826831,
          -0.11840166174951867,
          0.09618052663991883,
          -0.020213246469633586,
          -0.030397060044729262,
          -0.01887759926919577,
          0.011322981642604707,
          0.06528682795158619,
          -0.024028614821672768,
          -0.13473872924227587,
          -0.06968463318223433,
          -0.01614612405520708,
          -0.03105661903124445,
          0.039513847063511916,
          0.028616285505434418,
          0.016132578396264904,
          0.08610138887854737,
          0.05635809480737628,
          0.07055862409176278,
          -0.05865956661425249,
          -0.0023470410028923238,
          -0.13281651526928043,
          0.05796389659614467,
          0.017891728119587728,
          -0.09996702477249028,
          -0.1007824253232577,
          -0.029566125976888503,
          -0.07972372339899488,
          -0.018379248719824156,
          0.02970410431898565,
          -0.08576094234758891,
          0.038650904889706385,
          0.09415932508735646,
          -0.022977038938867416,
          0.06606488961994365,
          0.015604645148021786,
          -0.08139811984210017,
          0.0015445915954533944,
          -0.023586048275116865,
          -0.030917012424273443,
          0.05665471813109778,
          0.017888677156467817,
          0.021264603626811766,
          -0.00817252910113131,
          -0.009622294110897519,
          0.0345963608424722,
          -0.03532560478209394,
          -0.09886252849181586,
          0.0011240305507409132,
          0.04492226189528611,
          -0.014183554857239485,
          -0.015622300066746227,
          -0.01716754898280112,
          -0.008818275195745046,
          0.042941643266845804,
          -0.04236789522561866,
          0.0857624817049834,
          0.06027995134322161,
          0.006563685839995461,
          -0.0411208987616569,
          -0.0057333920285108485,
          0.08228484114693291,
          0.02539047714150982,
          0.017805245331238125,
          -0.03294080634744527,
          0.0034400593896016653,
          0.02180917689550846,
          -0.0891352256410854,
          0.04825131511768555,
          0.0386575405028116,
          -0.02906656635008115,
          -0.001130580143626115,
          0.028213267634773918,
          -0.009728306481473045,
          0.014216938248127716,
          -0.03798647226478719,
          -0.017986950181880956,
          -0.015058741930792832,
          -0.01149823239555415,
          -0.008003352205017413,
          0.05847491226693521,
          -0.008629921088383926,
          -0.03884317775204598,
          0.01449086721672447,
          -0.04106536128828041,
          -0.025561872616499205,
          0.028379904690819167,
          -0.011075923657730557,
          0.006310351900315072,
          -0.07485299864720098,
          0.0420171627749035,
          -0.09258596404150657,
          -0.044197357726523064,
          0.05984718527461858,
          0.022458287646592762,
          -0.006394601482402285,
          -0.10279159387165278,
          0.04814057534959123,
          -0.07074876620862489,
          -0.04205213400153257,
          -0.008858321130994601,
          -0.025612846593708775,
          -0.008459304876686587,
          0.023244148033082987,
          -0.06182789138341891,
          -0.04351999535449437,
          0.055766752643068816,
          -0.02101264601603889,
          0.007223667885519702,
          -0.006781685117190724,
          0.02753510399833474,
          0.051449501001873725,
          0.05524283912925159,
          0.0495369617885915,
          0.04111404830319313,
          -0.007900435059063685,
          0.051167925533294085,
          -0.037862188558976224,
          0.015082785432255169,
          -0.026043903402111393,
          -0.0755795218863818,
          -0.024618522551251996,
          0.040755797256017016,
          -0.011221691726452258,
          0.05962566721222887,
          0.024130950791891,
          0.04506285584791653,
          0.05023469011170618,
          -0.10281322199551873,
          -0.03950438769625059,
          -0.014282074235672343,
          -0.04475607853218207,
          -0.04270207953309641,
          0.06917067893661624,
          0.05531507483316353,
          0.06746597392801046,
          -0.052135845030553324,
          0.09801478377390077,
          0.008430870935822217,
          0.03984475216786637,
          -0.03589567374624069,
          0.07000962255483782,
          0.04662578840560899,
          0.026586610161811238,
          0.0327729949218793,
          -0.05491958844437696,
          -0.11196474802970313,
          -0.01865439158949861,
          -0.008343672903206997,
          -0.016512544670362443,
          -0.04634108428124735,
          0.006976676836229576,
          -0.02031616795622826,
          0.006092560754354282,
          0.016517498175742225,
          0.008720345665321379,
          0.03291332826896124,
          0.03878767495029511,
          -0.004899128274613322,
          -0.03949754544505215,
          -0.041753133434509294,
          0.05167708263268319,
          0.02593759050360339,
          -0.05142232122149023,
          0.06205510413008873,
          0.013546530115193849,
          0.044927787225832565,
          -0.025852719242254376,
          0.07939601278796796,
          0.0025452498763279038,
          0.024221279639998067,
          -0.04910965408206277,
          0.05700607619087179,
          0.05262455553187785,
          0.01999583342011631,
          -0.020833792304158827,
          -0.08470575314765784,
          -0.10245128817842229,
          -0.04952353518941992,
          0.043670333096462406,
          -0.10122696883422186,
          -0.04705354485510858,
          -0.010534673546177134,
          -0.07753195700301665,
          -0.04433425639750214,
          0.038827262367155786,
          0.005368723938382095,
          -0.07274189103138345,
          0.04283129799077304,
          -0.09267905571643426,
          0.06553636745317347,
          0.07848866253710389,
          0.003366328874087621,
          0.054999353013212134,
          0.06410691760374673,
          0.0506991028403277,
          0.029937831290796035,
          -0.05345406038054922,
          0.004930269844435889,
          -0.06705171852277024,
          0.01696681785685765,
          0.05688511456353945,
          -0.019928498450361168,
          0.05134999434398262,
          0.04597894521648928,
          -0.010384689787251707,
          0.07488137442381625,
          -0.04216866290068537,
          -0.00301469905791789,
          -0.0007215627626930539,
          0.08987106951033634,
          0.032651408548128945,
          -0.03463661216433286,
          -0.11694946364434826,
          0.027386061844978576,
          -0.02771971530766176,
          -0.0011265332565752223,
          0.04176153315964475,
          -0.07039752517213266,
          0.005016137781831633,
          -0.00036514075885615057,
          0.04060186270128998,
          0.05398521305007976,
          0.019942314257997914,
          0.0437702472124162,
          0.012198026848652713,
          -0.028230910449870635,
          0.08188641942954614,
          0.0062046973860087175,
          -0.030416114659852462,
          0.008776349296645745,
          -0.0308036388285719,
          -0.008638047326859962,
          0.04019234970172302,
          0.03823424680317219,
          0.06893254645039196,
          0.01065385600386822,
          0.020142460768887486,
          0.00991786994965753,
          0.04231065343714234,
          -0.03144058605498683,
          -0.0059594484906010815,
          -0.05469768588036454,
          -0.01983270818364696,
          0.08230306988580503,
          -0.0072989662024313395,
          0.020967665063827984,
          -0.015915512683428508,
          0.0790318763414542,
          -0.024164329936474254,
          0.011439492704727092,
          0.011388035845643546,
          -0.008504627231372184,
          -0.004803658726997804,
          0.06285281638274134,
          -0.025506143949174623,
          -0.012945483478618465,
          -0.007717745583283891,
          0.029367664660542196,
          0.054186347350810016,
          0.03988053452971215,
          -0.058486861061927325,
          -0.05481902213803805,
          0.01965498636497883,
          -0.04326843680622046,
          0.012862133561959572,
          -0.023460846853070573,
          0.03536997704830515,
          -0.015137427517635336,
          0.04893035398398819,
          0.05927323871251111,
          0.00644029213751261,
          0.0003705044537897255,
          -0.025451144674478315,
          -0.013408629006690771,
          0.01605814723898061,
          -0.0622854648974868,
          -0.021669272027153914,
          0.02641316998320761,
          -0.005421695540638313,
          -0.13882457756933386,
          -0.02253898991747407,
          0.03764732908121908,
          -0.004605178568394093,
          -0.07200765867329885,
          0.04862525579733417,
          -0.07117919558059804,
          -0.010876670140042859,
          -0.022548608249483303,
          -0.011284044378482391,
          -0.13392218874054543,
          0.059398490194900816,
          -0.004672286893413637,
          -0.016430094839771144,
          0.004562036837833124,
          -0.04635161438229517
         ]
        }
       ],
       "layout": {
        "autosize": true,
        "height": 500,
        "hoverlabel": {
         "font": {
          "family": "Goldman Sans",
          "size": 15
         }
        },
        "plot_bgcolor": "white",
        "template": {
         "data": {
          "bar": [
           {
            "error_x": {
             "color": "#2a3f5f"
            },
            "error_y": {
             "color": "#2a3f5f"
            },
            "marker": {
             "line": {
              "color": "#E5ECF6",
              "width": 0.5
             },
             "pattern": {
              "fillmode": "overlay",
              "size": 10,
              "solidity": 0.2
             }
            },
            "type": "bar"
           }
          ],
          "barpolar": [
           {
            "marker": {
             "line": {
              "color": "#E5ECF6",
              "width": 0.5
             },
             "pattern": {
              "fillmode": "overlay",
              "size": 10,
              "solidity": 0.2
             }
            },
            "type": "barpolar"
           }
          ],
          "carpet": [
           {
            "aaxis": {
             "endlinecolor": "#2a3f5f",
             "gridcolor": "white",
             "linecolor": "white",
             "minorgridcolor": "white",
             "startlinecolor": "#2a3f5f"
            },
            "baxis": {
             "endlinecolor": "#2a3f5f",
             "gridcolor": "white",
             "linecolor": "white",
             "minorgridcolor": "white",
             "startlinecolor": "#2a3f5f"
            },
            "type": "carpet"
           }
          ],
          "choropleth": [
           {
            "colorbar": {
             "outlinewidth": 0,
             "ticks": ""
            },
            "type": "choropleth"
           }
          ],
          "contour": [
           {
            "colorbar": {
             "outlinewidth": 0,
             "ticks": ""
            },
            "colorscale": [
             [
              0,
              "#0d0887"
             ],
             [
              0.1111111111111111,
              "#46039f"
             ],
             [
              0.2222222222222222,
              "#7201a8"
             ],
             [
              0.3333333333333333,
              "#9c179e"
             ],
             [
              0.4444444444444444,
              "#bd3786"
             ],
             [
              0.5555555555555556,
              "#d8576b"
             ],
             [
              0.6666666666666666,
              "#ed7953"
             ],
             [
              0.7777777777777778,
              "#fb9f3a"
             ],
             [
              0.8888888888888888,
              "#fdca26"
             ],
             [
              1,
              "#f0f921"
             ]
            ],
            "type": "contour"
           }
          ],
          "contourcarpet": [
           {
            "colorbar": {
             "outlinewidth": 0,
             "ticks": ""
            },
            "type": "contourcarpet"
           }
          ],
          "heatmap": [
           {
            "colorbar": {
             "outlinewidth": 0,
             "ticks": ""
            },
            "colorscale": [
             [
              0,
              "#0d0887"
             ],
             [
              0.1111111111111111,
              "#46039f"
             ],
             [
              0.2222222222222222,
              "#7201a8"
             ],
             [
              0.3333333333333333,
              "#9c179e"
             ],
             [
              0.4444444444444444,
              "#bd3786"
             ],
             [
              0.5555555555555556,
              "#d8576b"
             ],
             [
              0.6666666666666666,
              "#ed7953"
             ],
             [
              0.7777777777777778,
              "#fb9f3a"
             ],
             [
              0.8888888888888888,
              "#fdca26"
             ],
             [
              1,
              "#f0f921"
             ]
            ],
            "type": "heatmap"
           }
          ],
          "heatmapgl": [
           {
            "colorbar": {
             "outlinewidth": 0,
             "ticks": ""
            },
            "colorscale": [
             [
              0,
              "#0d0887"
             ],
             [
              0.1111111111111111,
              "#46039f"
             ],
             [
              0.2222222222222222,
              "#7201a8"
             ],
             [
              0.3333333333333333,
              "#9c179e"
             ],
             [
              0.4444444444444444,
              "#bd3786"
             ],
             [
              0.5555555555555556,
              "#d8576b"
             ],
             [
              0.6666666666666666,
              "#ed7953"
             ],
             [
              0.7777777777777778,
              "#fb9f3a"
             ],
             [
              0.8888888888888888,
              "#fdca26"
             ],
             [
              1,
              "#f0f921"
             ]
            ],
            "type": "heatmapgl"
           }
          ],
          "histogram": [
           {
            "marker": {
             "pattern": {
              "fillmode": "overlay",
              "size": 10,
              "solidity": 0.2
             }
            },
            "type": "histogram"
           }
          ],
          "histogram2d": [
           {
            "colorbar": {
             "outlinewidth": 0,
             "ticks": ""
            },
            "colorscale": [
             [
              0,
              "#0d0887"
             ],
             [
              0.1111111111111111,
              "#46039f"
             ],
             [
              0.2222222222222222,
              "#7201a8"
             ],
             [
              0.3333333333333333,
              "#9c179e"
             ],
             [
              0.4444444444444444,
              "#bd3786"
             ],
             [
              0.5555555555555556,
              "#d8576b"
             ],
             [
              0.6666666666666666,
              "#ed7953"
             ],
             [
              0.7777777777777778,
              "#fb9f3a"
             ],
             [
              0.8888888888888888,
              "#fdca26"
             ],
             [
              1,
              "#f0f921"
             ]
            ],
            "type": "histogram2d"
           }
          ],
          "histogram2dcontour": [
           {
            "colorbar": {
             "outlinewidth": 0,
             "ticks": ""
            },
            "colorscale": [
             [
              0,
              "#0d0887"
             ],
             [
              0.1111111111111111,
              "#46039f"
             ],
             [
              0.2222222222222222,
              "#7201a8"
             ],
             [
              0.3333333333333333,
              "#9c179e"
             ],
             [
              0.4444444444444444,
              "#bd3786"
             ],
             [
              0.5555555555555556,
              "#d8576b"
             ],
             [
              0.6666666666666666,
              "#ed7953"
             ],
             [
              0.7777777777777778,
              "#fb9f3a"
             ],
             [
              0.8888888888888888,
              "#fdca26"
             ],
             [
              1,
              "#f0f921"
             ]
            ],
            "type": "histogram2dcontour"
           }
          ],
          "mesh3d": [
           {
            "colorbar": {
             "outlinewidth": 0,
             "ticks": ""
            },
            "type": "mesh3d"
           }
          ],
          "parcoords": [
           {
            "line": {
             "colorbar": {
              "outlinewidth": 0,
              "ticks": ""
             }
            },
            "type": "parcoords"
           }
          ],
          "pie": [
           {
            "automargin": true,
            "type": "pie"
           }
          ],
          "scatter": [
           {
            "fillpattern": {
             "fillmode": "overlay",
             "size": 10,
             "solidity": 0.2
            },
            "type": "scatter"
           }
          ],
          "scatter3d": [
           {
            "line": {
             "colorbar": {
              "outlinewidth": 0,
              "ticks": ""
             }
            },
            "marker": {
             "colorbar": {
              "outlinewidth": 0,
              "ticks": ""
             }
            },
            "type": "scatter3d"
           }
          ],
          "scattercarpet": [
           {
            "marker": {
             "colorbar": {
              "outlinewidth": 0,
              "ticks": ""
             }
            },
            "type": "scattercarpet"
           }
          ],
          "scattergeo": [
           {
            "marker": {
             "colorbar": {
              "outlinewidth": 0,
              "ticks": ""
             }
            },
            "type": "scattergeo"
           }
          ],
          "scattergl": [
           {
            "marker": {
             "colorbar": {
              "outlinewidth": 0,
              "ticks": ""
             }
            },
            "type": "scattergl"
           }
          ],
          "scattermapbox": [
           {
            "marker": {
             "colorbar": {
              "outlinewidth": 0,
              "ticks": ""
             }
            },
            "type": "scattermapbox"
           }
          ],
          "scatterpolar": [
           {
            "marker": {
             "colorbar": {
              "outlinewidth": 0,
              "ticks": ""
             }
            },
            "type": "scatterpolar"
           }
          ],
          "scatterpolargl": [
           {
            "marker": {
             "colorbar": {
              "outlinewidth": 0,
              "ticks": ""
             }
            },
            "type": "scatterpolargl"
           }
          ],
          "scatterternary": [
           {
            "marker": {
             "colorbar": {
              "outlinewidth": 0,
              "ticks": ""
             }
            },
            "type": "scatterternary"
           }
          ],
          "surface": [
           {
            "colorbar": {
             "outlinewidth": 0,
             "ticks": ""
            },
            "colorscale": [
             [
              0,
              "#0d0887"
             ],
             [
              0.1111111111111111,
              "#46039f"
             ],
             [
              0.2222222222222222,
              "#7201a8"
             ],
             [
              0.3333333333333333,
              "#9c179e"
             ],
             [
              0.4444444444444444,
              "#bd3786"
             ],
             [
              0.5555555555555556,
              "#d8576b"
             ],
             [
              0.6666666666666666,
              "#ed7953"
             ],
             [
              0.7777777777777778,
              "#fb9f3a"
             ],
             [
              0.8888888888888888,
              "#fdca26"
             ],
             [
              1,
              "#f0f921"
             ]
            ],
            "type": "surface"
           }
          ],
          "table": [
           {
            "cells": {
             "fill": {
              "color": "#EBF0F8"
             },
             "line": {
              "color": "white"
             }
            },
            "header": {
             "fill": {
              "color": "#C8D4E3"
             },
             "line": {
              "color": "white"
             }
            },
            "type": "table"
           }
          ]
         },
         "layout": {
          "annotationdefaults": {
           "arrowcolor": "#2a3f5f",
           "arrowhead": 0,
           "arrowwidth": 1
          },
          "autotypenumbers": "strict",
          "coloraxis": {
           "colorbar": {
            "outlinewidth": 0,
            "ticks": ""
           }
          },
          "colorscale": {
           "diverging": [
            [
             0,
             "#8e0152"
            ],
            [
             0.1,
             "#c51b7d"
            ],
            [
             0.2,
             "#de77ae"
            ],
            [
             0.3,
             "#f1b6da"
            ],
            [
             0.4,
             "#fde0ef"
            ],
            [
             0.5,
             "#f7f7f7"
            ],
            [
             0.6,
             "#e6f5d0"
            ],
            [
             0.7,
             "#b8e186"
            ],
            [
             0.8,
             "#7fbc41"
            ],
            [
             0.9,
             "#4d9221"
            ],
            [
             1,
             "#276419"
            ]
           ],
           "sequential": [
            [
             0,
             "#0d0887"
            ],
            [
             0.1111111111111111,
             "#46039f"
            ],
            [
             0.2222222222222222,
             "#7201a8"
            ],
            [
             0.3333333333333333,
             "#9c179e"
            ],
            [
             0.4444444444444444,
             "#bd3786"
            ],
            [
             0.5555555555555556,
             "#d8576b"
            ],
            [
             0.6666666666666666,
             "#ed7953"
            ],
            [
             0.7777777777777778,
             "#fb9f3a"
            ],
            [
             0.8888888888888888,
             "#fdca26"
            ],
            [
             1,
             "#f0f921"
            ]
           ],
           "sequentialminus": [
            [
             0,
             "#0d0887"
            ],
            [
             0.1111111111111111,
             "#46039f"
            ],
            [
             0.2222222222222222,
             "#7201a8"
            ],
            [
             0.3333333333333333,
             "#9c179e"
            ],
            [
             0.4444444444444444,
             "#bd3786"
            ],
            [
             0.5555555555555556,
             "#d8576b"
            ],
            [
             0.6666666666666666,
             "#ed7953"
            ],
            [
             0.7777777777777778,
             "#fb9f3a"
            ],
            [
             0.8888888888888888,
             "#fdca26"
            ],
            [
             1,
             "#f0f921"
            ]
           ]
          },
          "colorway": [
           "#636efa",
           "#EF553B",
           "#00cc96",
           "#ab63fa",
           "#FFA15A",
           "#19d3f3",
           "#FF6692",
           "#B6E880",
           "#FF97FF",
           "#FECB52"
          ],
          "font": {
           "color": "#2a3f5f"
          },
          "geo": {
           "bgcolor": "white",
           "lakecolor": "white",
           "landcolor": "#E5ECF6",
           "showlakes": true,
           "showland": true,
           "subunitcolor": "white"
          },
          "hoverlabel": {
           "align": "left"
          },
          "hovermode": "closest",
          "mapbox": {
           "style": "light"
          },
          "paper_bgcolor": "white",
          "plot_bgcolor": "#E5ECF6",
          "polar": {
           "angularaxis": {
            "gridcolor": "white",
            "linecolor": "white",
            "ticks": ""
           },
           "bgcolor": "#E5ECF6",
           "radialaxis": {
            "gridcolor": "white",
            "linecolor": "white",
            "ticks": ""
           }
          },
          "scene": {
           "xaxis": {
            "backgroundcolor": "#E5ECF6",
            "gridcolor": "white",
            "gridwidth": 2,
            "linecolor": "white",
            "showbackground": true,
            "ticks": "",
            "zerolinecolor": "white"
           },
           "yaxis": {
            "backgroundcolor": "#E5ECF6",
            "gridcolor": "white",
            "gridwidth": 2,
            "linecolor": "white",
            "showbackground": true,
            "ticks": "",
            "zerolinecolor": "white"
           },
           "zaxis": {
            "backgroundcolor": "#E5ECF6",
            "gridcolor": "white",
            "gridwidth": 2,
            "linecolor": "white",
            "showbackground": true,
            "ticks": "",
            "zerolinecolor": "white"
           }
          },
          "shapedefaults": {
           "line": {
            "color": "#2a3f5f"
           }
          },
          "ternary": {
           "aaxis": {
            "gridcolor": "white",
            "linecolor": "white",
            "ticks": ""
           },
           "baxis": {
            "gridcolor": "white",
            "linecolor": "white",
            "ticks": ""
           },
           "bgcolor": "#E5ECF6",
           "caxis": {
            "gridcolor": "white",
            "linecolor": "white",
            "ticks": ""
           }
          },
          "title": {
           "x": 0.05
          },
          "xaxis": {
           "automargin": true,
           "gridcolor": "white",
           "linecolor": "white",
           "ticks": "",
           "title": {
            "standoff": 15
           },
           "zerolinecolor": "white",
           "zerolinewidth": 2
          },
          "yaxis": {
           "automargin": true,
           "gridcolor": "white",
           "linecolor": "white",
           "ticks": "",
           "title": {
            "standoff": 15
           },
           "zerolinecolor": "white",
           "zerolinewidth": 2
          }
         }
        },
        "title": {
         "font": {
          "color": "black",
          "family": "Goldman Sans",
          "size": 24
         },
         "text": "<b>Exploring Sector-wise Clustering of Stocks<b><br><sup>Using Principal Component Analysis (PCA)</sup>"
        },
        "xaxis": {
         "tickfont": {
          "color": "black",
          "family": "Goldman Sans",
          "size": 16
         },
         "tickformat": ".2f",
         "title": {
          "font": {
           "color": "black",
           "family": "Goldman Sans",
           "size": 20
          },
          "text": "<b>Comp. 1<b>"
         }
        },
        "yaxis": {
         "tickfont": {
          "color": "black",
          "family": "Goldman Sans",
          "size": 16
         },
         "tickformat": ".2f",
         "title": {
          "font": {
           "color": "black",
           "family": "Goldman Sans",
           "size": 20
          },
          "text": "<b>Comp. 2<b>"
         }
        }
       }
      }
     },
     "metadata": {},
     "output_type": "display_data"
    }
   ],
   "source": [
    "# Visualize the securities using the first two components of the PCA\n",
    "pcaDF = compsDF.copy()\n",
    "pcaDF.columns = ['comp'+str(i+1) for i in range(len(pcaDF.columns))]\n",
    "pcaDF['securities'] = securities\n",
    "pcaDF = pd.merge(pcaDF,universeDF[['Ticker','Company','Sector','Industry','Market Cap']],how='left',left_on='securities',right_on='Ticker')\n",
    "pcaDF['colors'] = pd.factorize(pcaDF['Sector'])[0] + 1\n",
    "\n",
    "# Plot scatter plot\n",
    "scatter_trace = go.Scatter(\n",
    "    x=pcaDF['comp1'],\n",
    "    y=pcaDF['comp2'],\n",
    "    mode='markers',\n",
    "    marker={'color': pcaDF['colors'], 'colorscale': 'Magma'},\n",
    "    hovertemplate=[f'Sector: {sect}<br>Company: {comp}<br>Symbol: {tick}<br>Market Cap: ${mkc}B' for sect, comp, tick, mkc in zip(pcaDF['Sector'], pcaDF['Company'], pcaDF['securities'], pcaDF['Market Cap'])],\n",
    "    name=''\n",
    ")\n",
    "\n",
    "# create the layout\n",
    "layout = go.Layout(\n",
    "    title={\n",
    "    'text':'<b>Exploring Sector-wise Clustering of Stocks<b><br><sup>Using Principal Component Analysis (PCA)</sup>',\n",
    "    'font':{'size':24,'family':'Goldman Sans','color':'black'}\n",
    "    },\n",
    "    xaxis={\n",
    "    'title':{\n",
    "    'text':'<b>Comp. 1<b>',    \n",
    "    'font':{'size':20,'family':'Goldman Sans','color':'black'}\n",
    "    },\n",
    "    'tickformat':'.2f',\n",
    "    'tickfont':{'size':16,'family':'Goldman Sans','color':'black'} \n",
    "    },\n",
    "    yaxis={\n",
    "    'title':{\n",
    "    'text':'<b>Comp. 2<b>',    \n",
    "    'font':{'size':20,'family':'Goldman Sans','color':'black'}\n",
    "    },\n",
    "    'tickformat':'.2f',\n",
    "    'tickfont':{'size':16,'family':'Goldman Sans','color':'black'}    \n",
    "    },\n",
    "    hoverlabel={\n",
    "    'font':{'size':15, 'family':'Goldman Sans'}\n",
    "    },    \n",
    "    plot_bgcolor='white',\n",
    "    autosize=True,\n",
    "    height=500\n",
    ")\n",
    "\n",
    "# create the figure\n",
    "fig = go.Figure(data=[scatter_trace], layout=layout)\n",
    "\n",
    "# show the plot\n",
    "fig.show()"
   ]
  },
  {
   "attachments": {},
   "cell_type": "markdown",
   "metadata": {},
   "source": [
    "## Section B: Unsupervised learning\n",
    "\n",
    "We explore the application of clustering techniques for asset grouping based on a compact representation, it becomes crucial to select an appropriate algorithm that meets specific requirements like: \n",
    "- Avoid specifying the number of clusters in advance. \n",
    "- Not mandatory to group all securities. \n",
    "- Accounting for outliers. \n",
    "- Avoiding assumptions regarding the clusters' shape.\n",
    "\n",
    " Without strict assignment, the number of combinations when looking for pairs would increase, undermining the initial objective. By making the number of clusters data-driven, we minimize bias. Outliers should not be incorporated into the clusters, and grouping all assets should not be enforced. Finally, as prior information does not indicate that clusters should be regularly shaped, the selected algorithm should avoid this assumption.\n",
    "\n",
    "In light of these requirements, a density-based clustering algorithm appears to be an appropriate choice. This algorithm forms clusters with arbitrary shapes, removing the need to adopt any gaussianity assumptions, and is naturally robust to outliers by not grouping every point in the data set. Furthermore, it does not require a specific number of clusters to be specified.\n",
    "\n",
    "The OPTICS algorithm, offers an enhanced solution to this problem. Based on DBSCAN, it introduces important concepts that allow for varying ε implementation. In this setting, the investor only needs to specify the minimum number of points to form a cluster, as the algorithm is capable of detecting the most appropriate ε for each cluster. Thus, the use of OPTICS is proposed not only to account for varying cluster densities but also to simplify the investor's task. By delving into the details of the OPTICS algorithm and its enhanced features, we can better understand its potential for asset grouping and its contribution to the field of data analysis."
   ]
  },
  {
   "cell_type": "code",
   "execution_count": 14,
   "metadata": {},
   "outputs": [
    {
     "name": "stdout",
     "output_type": "stream",
     "text": [
      "Clusters discovered: 16\n"
     ]
    }
   ],
   "source": [
    "# Run the OPTICS algorithm based on the compact representation of the securities\n",
    "optics = Optics(min_samples=5,max_eps=0.3,dist_metric='chebyshev',stocksNames=securities, n_jobs=-1)\n",
    "securitiesClusters = optics.fit(compsDF)"
   ]
  },
  {
   "cell_type": "code",
   "execution_count": 15,
   "metadata": {},
   "outputs": [],
   "source": [
    "# Create a dataframe for the clusters\n",
    "clustersDF = securitiesClusters.copy()\n",
    "clustersDF = clustersDF.reset_index(drop=False)\n",
    "clustersDF.columns = ['securities','clusters']\n",
    "\n",
    "# Select the securities listed in the clusters\n",
    "clustersRets = dataRets[clustersDF['securities']]\n",
    "\n",
    "# Reduce the dimentionality in order to plot it\n",
    "pca = PCA(3)\n",
    "transfDF = pca.fit_transform(clustersRets)\n",
    "compsDF = pd.DataFrame(pca.components_)\n",
    "compsDF.columns = ['comp'+str(i+1) for i in range(len(compsDF.columns))]\n",
    "compsDF = pd.concat([clustersDF,compsDF],axis=1,ignore_index=False)\n",
    "compsDF = pd.merge(compsDF,universeDF[['Ticker','Company','Sector','Industry','Market Cap']],how='left',left_on='securities',right_on='Ticker')"
   ]
  },
  {
   "cell_type": "code",
   "execution_count": 16,
   "metadata": {},
   "outputs": [
    {
     "data": {
      "application/vnd.plotly.v1+json": {
       "config": {
        "plotlyServerURL": "https://plot.ly"
       },
       "data": [
        {
         "hovertemplate": [
          "Cluster: 5<br>Company: AbbVie Inc.<br>Symbol: ABBV",
          "Cluster: 6<br>Company: Ambev S.A.<br>Symbol: ABEV",
          "Cluster: 4<br>Company: Analog Devices, Inc.<br>Symbol: ADI",
          "Cluster: 1<br>Company: Automatic Data Processing, Inc.<br>Symbol: ADP",
          "Cluster: 4<br>Company: Autodesk, Inc.<br>Symbol: ADSK",
          "Cluster: 14<br>Company: Ameren Corporation<br>Symbol: AEE",
          "Cluster: 14<br>Company: American Electric Power Company, Inc.<br>Symbol: AEP",
          "Cluster: 4<br>Company: Applied Materials, Inc.<br>Symbol: AMAT",
          "Cluster: 13<br>Company: American Tower Corporation<br>Symbol: AMT",
          "Cluster: 6<br>Company: America Movil, S.A.B. de C.V.<br>Symbol: AMX",
          "Cluster: 2<br>Company: Amphenol Corporation<br>Symbol: APH",
          "Cluster: 4<br>Company: Broadcom Inc.<br>Symbol: AVGO",
          "Cluster: 8<br>Company: Bank of America Corporation<br>Symbol: BAC",
          "Cluster: 6<br>Company: Banco Bradesco S.A.<br>Symbol: BBD",
          "Cluster: 7<br>Company: Banco Bilbao Vizcaya Argentaria, S.A.<br>Symbol: BBVA",
          "Cluster: 7<br>Company: Barclays PLC<br>Symbol: BCS",
          "Cluster: 0<br>Company: BioMarin Pharmaceutical Inc.<br>Symbol: BMRN",
          "Cluster: 5<br>Company: Bristol-Myers Squibb Company<br>Symbol: BMY",
          "Cluster: 11<br>Company: BP p.l.c.<br>Symbol: BP",
          "Cluster: 1<br>Company: Brown & Brown, Inc.<br>Symbol: BRO",
          "Cluster: 2<br>Company: Boston Scientific Corporation<br>Symbol: BSX",
          "Cluster: 2<br>Company: Blackstone Inc.<br>Symbol: BX",
          "Cluster: 13<br>Company: Crown Castle Inc.<br>Symbol: CCI",
          "Cluster: 10<br>Company: Carnival Corporation & plc<br>Symbol: CCL",
          "Cluster: 9<br>Company: Church & Dwight Co., Inc.<br>Symbol: CHD",
          "Cluster: 9<br>Company: Colgate-Palmolive Company<br>Symbol: CL",
          "Cluster: 9<br>Company: The Clorox Company<br>Symbol: CLX",
          "Cluster: 14<br>Company: CMS Energy Corporation<br>Symbol: CMS",
          "Cluster: 6<br>Company: Canadian National Railway Company<br>Symbol: CNI",
          "Cluster: 15<br>Company: CenterPoint Energy, Inc.<br>Symbol: CNP",
          "Cluster: 11<br>Company: Canadian Natural Resources Limited<br>Symbol: CNQ",
          "Cluster: 12<br>Company: ConocoPhillips<br>Symbol: COP",
          "Cluster: 9<br>Company: Campbell Soup Company<br>Symbol: CPB",
          "Cluster: 2<br>Company: Copart, Inc.<br>Symbol: CPRT",
          "Cluster: 2<br>Company: Cognizant Technology Solutions Corporation<br>Symbol: CTSH",
          "Cluster: 10<br>Company: Carnival Corporation & plc<br>Symbol: CUK",
          "Cluster: 11<br>Company: Cenovus Energy Inc.<br>Symbol: CVE",
          "Cluster: 14<br>Company: Dominion Energy, Inc.<br>Symbol: D",
          "Cluster: 3<br>Company: Deere & Company<br>Symbol: DE",
          "Cluster: 13<br>Company: Digital Realty Trust, Inc.<br>Symbol: DLR",
          "Cluster: 1<br>Company: Dollar Tree, Inc.<br>Symbol: DLTR",
          "Cluster: 10<br>Company: Darden Restaurants, Inc.<br>Symbol: DRI",
          "Cluster: 14<br>Company: Duke Energy Corporation<br>Symbol: DUK",
          "Cluster: 12<br>Company: Devon Energy Corporation<br>Symbol: DVN",
          "Cluster: 0<br>Company: eBay Inc.<br>Symbol: EBAY",
          "Cluster: 6<br>Company: Centrais Eletricas Brasileiras S.A.<br>Symbol: EBR",
          "Cluster: 14<br>Company: Consolidated Edison, Inc.<br>Symbol: ED",
          "Cluster: 15<br>Company: Edison International<br>Symbol: EIX",
          "Cluster: 2<br>Company: The Estee Lauder Companies Inc.<br>Symbol: EL",
          "Cluster: 3<br>Company: Emerson Electric Co.<br>Symbol: EMR",
          "Cluster: 12<br>Company: EOG Resources, Inc.<br>Symbol: EOG",
          "Cluster: 14<br>Company: Eversource Energy<br>Symbol: ES",
          "Cluster: 3<br>Company: Eaton Corporation plc<br>Symbol: ETN",
          "Cluster: 14<br>Company: Evergy, Inc.<br>Symbol: EVRG",
          "Cluster: 15<br>Company: Exelon Corporation<br>Symbol: EXC",
          "Cluster: 10<br>Company: Expedia Group, Inc.<br>Symbol: EXPE",
          "Cluster: 13<br>Company: Extra Space Storage Inc.<br>Symbol: EXR",
          "Cluster: 11<br>Company: Diamondback Energy, Inc.<br>Symbol: FANG",
          "Cluster: 15<br>Company: FirstEnergy Corp.<br>Symbol: FE",
          "Cluster: 2<br>Company: Fidelity National Information Services, Inc.<br>Symbol: FIS",
          "Cluster: 2<br>Company: Fiserv, Inc.<br>Symbol: FISV",
          "Cluster: 7<br>Company: General Electric Company<br>Symbol: GE",
          "Cluster: 9<br>Company: General Mills, Inc.<br>Symbol: GIS",
          "Cluster: 2<br>Company: Global Payments Inc.<br>Symbol: GPN",
          "Cluster: 11<br>Company: Halliburton Company<br>Symbol: HAL",
          "Cluster: 12<br>Company: Hess Corporation<br>Symbol: HES",
          "Cluster: 9<br>Company: Hormel Foods Corporation<br>Symbol: HRL",
          "Cluster: 3<br>Company: HSBC Holdings plc<br>Symbol: HSBC",
          "Cluster: 0<br>Company: Horizon Therapeutics Public Limited Company<br>Symbol: HZNP",
          "Cluster: 1<br>Company: Intercontinental Exchange, Inc.<br>Symbol: ICE",
          "Cluster: 0<br>Company: Incyte Corporation<br>Symbol: INCY",
          "Cluster: 2<br>Company: Infosys Limited<br>Symbol: INFY",
          "Cluster: 7<br>Company: ING Groep N.V.<br>Symbol: ING",
          "Cluster: 6<br>Company: Itau Unibanco Holding S.A.<br>Symbol: ITUB",
          "Cluster: 8<br>Company: JPMorgan Chase & Co.<br>Symbol: JPM",
          "Cluster: 9<br>Company: Kellogg Company<br>Symbol: K",
          "Cluster: 4<br>Company: KLA Corporation<br>Symbol: KLAC",
          "Cluster: 9<br>Company: Kimberly-Clark Corporation<br>Symbol: KMB",
          "Cluster: 5<br>Company: The Kroger Co.<br>Symbol: KR",
          "Cluster: 2<br>Company: Lowe's Companies, Inc.<br>Symbol: LOW",
          "Cluster: 4<br>Company: Lam Research Corporation<br>Symbol: LRCX",
          "Cluster: 7<br>Company: Lloyds Banking Group plc<br>Symbol: LYG",
          "Cluster: 10<br>Company: Live Nation Entertainment, Inc.<br>Symbol: LYV",
          "Cluster: 2<br>Company: Mastercard Incorporated<br>Symbol: MA",
          "Cluster: 10<br>Company: Marriott International, Inc.<br>Symbol: MAR",
          "Cluster: 4<br>Company: Microchip Technology Incorporated<br>Symbol: MCHP",
          "Cluster: 8<br>Company: MetLife, Inc.<br>Symbol: MET",
          "Cluster: 4<br>Company: Meta Platforms, Inc.<br>Symbol: META",
          "Cluster: 7<br>Company: Manulife Financial Corporation<br>Symbol: MFC",
          "Cluster: 3<br>Company: Mizuho Financial Group, Inc.<br>Symbol: MFG",
          "Cluster: 10<br>Company: MGM Resorts International<br>Symbol: MGM",
          "Cluster: 9<br>Company: McCormick & Company, Incorporated<br>Symbol: MKC",
          "Cluster: 1<br>Company: Marsh & McLennan Companies, Inc.<br>Symbol: MMC",
          "Cluster: 5<br>Company: Merck & Co., Inc.<br>Symbol: MRK",
          "Cluster: 12<br>Company: Marathon Oil Corporation<br>Symbol: MRO",
          "Cluster: 3<br>Company: Mitsubishi UFJ Financial Group, Inc.<br>Symbol: MUFG",
          "Cluster: 1<br>Company: Nasdaq, Inc.<br>Symbol: NDAQ",
          "Cluster: 13<br>Company: NextEra Energy, Inc.<br>Symbol: NEE",
          "Cluster: 2<br>Company: NIKE, Inc.<br>Symbol: NKE",
          "Cluster: 3<br>Company: Norfolk Southern Corporation<br>Symbol: NSC",
          "Cluster: 7<br>Company: NatWest Group plc<br>Symbol: NWG",
          "Cluster: 11<br>Company: Occidental Petroleum Corporation<br>Symbol: OXY",
          "Cluster: 1<br>Company: Paychex, Inc.<br>Symbol: PAYX",
          "Cluster: 15<br>Company: Public Service Enterprise Group Incorporated<br>Symbol: PEG",
          "Cluster: 9<br>Company: PepsiCo, Inc.<br>Symbol: PEP",
          "Cluster: 5<br>Company: Pfizer Inc.<br>Symbol: PFE",
          "Cluster: 7<br>Company: Principal Financial Group, Inc.<br>Symbol: PFG",
          "Cluster: 9<br>Company: The Procter & Gamble Company<br>Symbol: PG",
          "Cluster: 5<br>Company: The Progressive Corporation<br>Symbol: PGR",
          "Cluster: 13<br>Company: Prologis, Inc.<br>Symbol: PLD",
          "Cluster: 8<br>Company: The PNC Financial Services Group, Inc.<br>Symbol: PNC",
          "Cluster: 15<br>Company: PPL Corporation<br>Symbol: PPL",
          "Cluster: 8<br>Company: Prudential Financial, Inc.<br>Symbol: PRU",
          "Cluster: 13<br>Company: Public Storage<br>Symbol: PSA",
          "Cluster: 12<br>Company: Pioneer Natural Resources Company<br>Symbol: PXD",
          "Cluster: 4<br>Company: QUALCOMM Incorporated<br>Symbol: QCOM",
          "Cluster: 10<br>Company: Royal Caribbean Cruises Ltd.<br>Symbol: RCL",
          "Cluster: 7<br>Company: Banco Santander, S.A.<br>Symbol: SAN",
          "Cluster: 2<br>Company: Starbucks Corporation<br>Symbol: SBUX",
          "Cluster: 0<br>Company: Seagen Inc.<br>Symbol: SGEN",
          "Cluster: 11<br>Company: Shell plc<br>Symbol: SHEL",
          "Cluster: 2<br>Company: Sirius XM Holdings Inc.<br>Symbol: SIRI",
          "Cluster: 6<br>Company: Shaw Communications Inc.<br>Symbol: SJR",
          "Cluster: 11<br>Company: Schlumberger Limited<br>Symbol: SLB",
          "Cluster: 3<br>Company: Sumitomo Mitsui Financial Group, Inc.<br>Symbol: SMFG",
          "Cluster: 14<br>Company: The Southern Company<br>Symbol: SO",
          "Cluster: 4<br>Company: Splunk Inc.<br>Symbol: SPLK",
          "Cluster: 15<br>Company: Sempra<br>Symbol: SRE",
          "Cluster: 2<br>Company: SS&C Technologies Holdings, Inc.<br>Symbol: SSNC",
          "Cluster: 4<br>Company: STMicroelectronics N.V.<br>Symbol: STM",
          "Cluster: 11<br>Company: Suncor Energy Inc.<br>Symbol: SU",
          "Cluster: 4<br>Company: Skyworks Solutions, Inc.<br>Symbol: SWKS",
          "Cluster: 2<br>Company: Stryker Corporation<br>Symbol: SYK",
          "Cluster: 4<br>Company: Teradyne, Inc.<br>Symbol: TER",
          "Cluster: 12<br>Company: Tenaris S.A.<br>Symbol: TS",
          "Cluster: 11<br>Company: TotalEnergies SE<br>Symbol: TTE",
          "Cluster: 6<br>Company: TELUS Corporation<br>Symbol: TU",
          "Cluster: 7<br>Company: Textron Inc.<br>Symbol: TXT",
          "Cluster: 3<br>Company: UBS Group AG<br>Symbol: UBS",
          "Cluster: 3<br>Company: Union Pacific Corporation<br>Symbol: UNP",
          "Cluster: 8<br>Company: U.S. Bancorp<br>Symbol: USB",
          "Cluster: 2<br>Company: Visa Inc.<br>Symbol: V",
          "Cluster: 3<br>Company: Vodafone Group Public Limited Company<br>Symbol: VOD",
          "Cluster: 0<br>Company: Vertex Pharmaceuticals Incorporated<br>Symbol: VRTX",
          "Cluster: 14<br>Company: WEC Energy Group, Inc.<br>Symbol: WEC",
          "Cluster: 8<br>Company: Wells Fargo & Company<br>Symbol: WFC",
          "Cluster: 2<br>Company: Wipro Limited<br>Symbol: WIT",
          "Cluster: 14<br>Company: Xcel Energy Inc.<br>Symbol: XEL",
          "Cluster: 2<br>Company: Yum! Brands, Inc.<br>Symbol: YUM"
         ],
         "marker": {
          "color": [
           5,
           6,
           4,
           1,
           4,
           14,
           14,
           4,
           13,
           6,
           2,
           4,
           8,
           6,
           7,
           7,
           0,
           5,
           11,
           1,
           2,
           2,
           13,
           10,
           9,
           9,
           9,
           14,
           6,
           15,
           11,
           12,
           9,
           2,
           2,
           10,
           11,
           14,
           3,
           13,
           1,
           10,
           14,
           12,
           0,
           6,
           14,
           15,
           2,
           3,
           12,
           14,
           3,
           14,
           15,
           10,
           13,
           11,
           15,
           2,
           2,
           7,
           9,
           2,
           11,
           12,
           9,
           3,
           0,
           1,
           0,
           2,
           7,
           6,
           8,
           9,
           4,
           9,
           5,
           2,
           4,
           7,
           10,
           2,
           10,
           4,
           8,
           4,
           7,
           3,
           10,
           9,
           1,
           5,
           12,
           3,
           1,
           13,
           2,
           3,
           7,
           11,
           1,
           15,
           9,
           5,
           7,
           9,
           5,
           13,
           8,
           15,
           8,
           13,
           12,
           4,
           10,
           7,
           2,
           0,
           11,
           2,
           6,
           11,
           3,
           14,
           4,
           15,
           2,
           4,
           11,
           4,
           2,
           4,
           12,
           11,
           6,
           7,
           3,
           3,
           8,
           2,
           3,
           0,
           14,
           8,
           2,
           14,
           2
          ],
          "colorscale": [
           [
            0,
            "#000004"
           ],
           [
            0.1111111111111111,
            "#180f3d"
           ],
           [
            0.2222222222222222,
            "#440f76"
           ],
           [
            0.3333333333333333,
            "#721f81"
           ],
           [
            0.4444444444444444,
            "#9e2f7f"
           ],
           [
            0.5555555555555556,
            "#cd4071"
           ],
           [
            0.6666666666666666,
            "#f1605d"
           ],
           [
            0.7777777777777778,
            "#fd9668"
           ],
           [
            0.8888888888888888,
            "#feca8d"
           ],
           [
            1,
            "#fcfdbf"
           ]
          ],
          "opacity": 0.8
         },
         "mode": "markers",
         "name": "",
         "type": "scatter3d",
         "x": [
          -0.06401362764625543,
          -0.06636202067512831,
          -0.09280690994394244,
          -0.10183512827071964,
          -0.08091138111589996,
          -0.07810571441447038,
          -0.07219246070021128,
          -0.08885206559613926,
          -0.08106586591029995,
          -0.0733989749300839,
          -0.10568893809193869,
          -0.08396080898859855,
          -0.1021802367122794,
          -0.07015731590512443,
          -0.09100194703665969,
          -0.09004828977260775,
          -0.05843066206265166,
          -0.05966727559231057,
          -0.08945663299585117,
          -0.09341724450449078,
          -0.08504306177536428,
          -0.09400964563774884,
          -0.07654719416342323,
          -0.08078739149565978,
          -0.05459163129027179,
          -0.0759537354585524,
          -0.035948347386839524,
          -0.07357289681753376,
          -0.09437709196757745,
          -0.09187338451887399,
          -0.08128793555003105,
          -0.08670329805185244,
          -0.03974096955699196,
          -0.0854051221152397,
          -0.09064795394078405,
          -0.08319632596417646,
          -0.07364305811013201,
          -0.07557012638868894,
          -0.08504025662985804,
          -0.06525625076091549,
          -0.05593598189583005,
          -0.08247015348596533,
          -0.07936736687064926,
          -0.07897482379179402,
          -0.06267630782150461,
          -0.05354622124600507,
          -0.06405507264115964,
          -0.07480693738725742,
          -0.08632211886704227,
          -0.10390234301408684,
          -0.07925047865943873,
          -0.0744407068486205,
          -0.10396907510783462,
          -0.08038763512260284,
          -0.08721793486522943,
          -0.07588658526365019,
          -0.06608130102057332,
          -0.07257219752301605,
          -0.07110738399841657,
          -0.08932671869412853,
          -0.09991952507692647,
          -0.08443616980072834,
          -0.051009974306114245,
          -0.09536445588381773,
          -0.08825848750764645,
          -0.08271457727402694,
          -0.0508663042201785,
          -0.08446724622101519,
          -0.0359017985347891,
          -0.08292741610289069,
          -0.04750915022436017,
          -0.07132233535684052,
          -0.09357300678960273,
          -0.07040656347394485,
          -0.10677818150906271,
          -0.05058825187796543,
          -0.08727369384944358,
          -0.06293917345527442,
          -0.0319598919758474,
          -0.08507573694288588,
          -0.0890990148487518,
          -0.08699185687906978,
          -0.0780834687994261,
          -0.10255122656771458,
          -0.0876237437135558,
          -0.09377315227389259,
          -0.10513120257065627,
          -0.06295465407987448,
          -0.10029253816508059,
          -0.07221959051336414,
          -0.08923028805046342,
          -0.0674481886942435,
          -0.10135895415138066,
          -0.06796804654390559,
          -0.07389785053322183,
          -0.07610155100634067,
          -0.08757884454233429,
          -0.07732213932084786,
          -0.08379236033003772,
          -0.09644639907302899,
          -0.08095167766591806,
          -0.07707209034265125,
          -0.10368096482929336,
          -0.08268347482852655,
          -0.08755656680805912,
          -0.06851156020425639,
          -0.10835849074484886,
          -0.07641302988610764,
          -0.07779227887698165,
          -0.09275509118407213,
          -0.10487323787982145,
          -0.08842544620303742,
          -0.1089499460792482,
          -0.06831634837826867,
          -0.07940841111760807,
          -0.07556413335575539,
          -0.08275878028124264,
          -0.09221024122218065,
          -0.09124197416247297,
          -0.04571442381113005,
          -0.08905219928018739,
          -0.07929031046667798,
          -0.07097536613353542,
          -0.0852677573012416,
          -0.07966754638552971,
          -0.07892296430104843,
          -0.06481548177619251,
          -0.086010532028238,
          -0.087411274535628,
          -0.08232570843440848,
          -0.08064684351493526,
          -0.08355167497580143,
          -0.09737908307314184,
          -0.08357181604664277,
          -0.07789585542145032,
          -0.09314840109159103,
          -0.0854261548665629,
          -0.09929972721152329,
          -0.08886689914958636,
          -0.0953671710489772,
          -0.10348650630821524,
          -0.10067127041101603,
          -0.08130806669272979,
          -0.049165958764948114,
          -0.0677141114647399,
          -0.10061732586774746,
          -0.0628801371711137,
          -0.07579455477745406,
          -0.08377309798202917
         ],
         "y": [
          -0.014045564629935966,
          0.019840463268544474,
          0.03183882213422118,
          -0.03511506125054331,
          0.021996642998589055,
          -0.16919851265917285,
          -0.17589158932051896,
          0.03657960523047834,
          -0.10626660556973469,
          0.008082153765667005,
          0.013286859202421166,
          0.02778126175846753,
          0.0727710029232214,
          0.032909548400517165,
          0.0729611060449725,
          0.08281010624858183,
          0.018358404759922002,
          -0.026160807344780476,
          0.09480509662615948,
          -0.035935454469866325,
          -0.0071825002933035755,
          0.020472929833854094,
          -0.1048677727800824,
          0.0808538153171681,
          -0.13034958215995082,
          -0.12007260400091617,
          -0.13038632948101153,
          -0.1816224428637787,
          0.020219931415651444,
          -0.0785589246133146,
          0.10151983362513098,
          0.09900622879954649,
          -0.11109234051816833,
          -0.001893802956476451,
          -0.005830137557064324,
          0.08297824342242278,
          0.10982782905639615,
          -0.1594702737400432,
          0.03990711019757217,
          -0.10406375299917622,
          -0.01921740084439871,
          0.040393886087112904,
          -0.1649546574906446,
          0.11856295906693805,
          -0.001901228918552479,
          0.010599877588634074,
          -0.18562829168523556,
          -0.09833686572775509,
          -0.00579719777954345,
          0.055808437432660916,
          0.10740781286982412,
          -0.17985357741929778,
          0.031171309654555814,
          -0.13628746879725961,
          -0.11185717706902303,
          0.04908552908935308,
          -0.10613356220383717,
          0.12039157331854006,
          -0.11247817771868583,
          -0.010409810039869828,
          -0.01871459859070407,
          0.045946719358022275,
          -0.1234160813643061,
          0.008235280620616509,
          0.10557581504944126,
          0.10235269622666561,
          -0.10891952821983632,
          0.06465162193235931,
          0.018227790415653897,
          -0.03040971757929593,
          0.00869612927435553,
          0.0041305400394187715,
          0.08073567955341893,
          0.03139272481435085,
          0.058261046298939224,
          -0.11709231621254455,
          0.015373102688154347,
          -0.12542194592561728,
          -0.046110208130736456,
          -0.008424652416069824,
          0.03232792416624639,
          0.0674352527854144,
          0.06416140218848038,
          0.01442563699816133,
          0.07426699423921035,
          0.040791080209363124,
          0.058791268823459586,
          0.009605421779448993,
          0.07954155172710697,
          0.03859689430125753,
          0.07284640472164527,
          -0.12196300644962345,
          -0.03151032629756408,
          -0.048021916609653235,
          0.1213819358689057,
          0.04894786148311362,
          -0.05228045337570943,
          -0.1462470528857344,
          -0.0038507719327596705,
          0.016100850735687382,
          0.06983730429386487,
          0.09688886931982603,
          -0.042941656472443065,
          -0.12099147378362804,
          -0.11803364475041676,
          -0.043467401293359166,
          0.06063009355674638,
          -0.11946238247411985,
          -0.04770826658124273,
          -0.08947777002800372,
          0.05315969045786302,
          -0.1057795028429181,
          0.0597700891606099,
          -0.11572100717115016,
          0.10192442067290085,
          0.023040989478212953,
          0.0773711638194383,
          0.07741501571983676,
          -0.006685303813331687,
          0.009973663988351856,
          0.09083160689397599,
          0.006521409033852614,
          0.003717894635557888,
          0.10949522046422185,
          0.04957263022485753,
          -0.1604600991181913,
          0.02254862187246144,
          -0.09861178945006006,
          0.02041770942137769,
          0.046651791153006876,
          0.09963752246506936,
          0.031034985445832993,
          -0.018573454512894657,
          0.0357480439646271,
          0.0973967110862524,
          0.08035465143981058,
          -0.013110934579760267,
          0.044039651522464425,
          0.05871319508244761,
          0.026200657263906288,
          0.04628499799650151,
          0.005074837517629008,
          0.00968482250032055,
          -0.010335165375024472,
          -0.18797023166885712,
          0.05060608765587661,
          0.007566786983080172,
          -0.18044654507901697,
          -0.007910662035314032
         ],
         "z": [
          0.04257299845960979,
          -0.032140142342306784,
          0.13549171365108437,
          0.0648235836110238,
          0.14219301754283686,
          -0.08333964032665642,
          -0.08786201744646482,
          0.1388260687276759,
          0.0224039014672154,
          -0.019532566628886413,
          0.08961937762198012,
          0.1301040789645668,
          0.0033324718454839732,
          -0.06171599802439563,
          -0.01993091593773606,
          -0.022147466282767526,
          0.10785015812403141,
          0.0378714809328862,
          -0.15011026680664857,
          0.051424169358460295,
          0.054488701930656885,
          0.07533354593361366,
          0.016190383681273107,
          0.016624149698991827,
          0.01864133293000358,
          -0.00929639956247545,
          0.022733658040893227,
          -0.0908478178004608,
          0.002449144618228663,
          -0.09425607776056985,
          -0.14845531955992938,
          -0.1606041082288775,
          -0.03440239767308395,
          0.10764507180837843,
          0.07265804395320986,
          0.011482052075534651,
          -0.15216329997062725,
          -0.08766758519102219,
          -0.007656311574481061,
          0.024256767288650657,
          0.03959997550052332,
          0.02216941932515019,
          -0.10305899319138942,
          -0.1483441119349762,
          0.12128369500803574,
          -0.04525337961542048,
          -0.09586334160337528,
          -0.08946200392054525,
          0.06915012828517679,
          -0.02425937884456338,
          -0.16438640172289104,
          -0.07801262836860244,
          0.016757256886150457,
          -0.07650546576332792,
          -0.08251033378655091,
          0.04977834477357589,
          0.009918055513124344,
          -0.14285427384769459,
          -0.07027400634522575,
          0.07400998935637518,
          0.07215362184914036,
          -0.029036392791611184,
          -0.023598490028287053,
          0.07815226997745754,
          -0.1448183362834191,
          -0.15368210345317704,
          -0.008775184797451797,
          -0.025152353434087154,
          0.08825986324327457,
          0.06506795407167874,
          0.10185893114632019,
          0.060025879099419366,
          -0.015613617986349545,
          -0.060760857593705524,
          -0.005640500412858755,
          -0.033182702588964635,
          0.14515061985541047,
          -0.0037617544121667373,
          0.003937109026987721,
          0.07485319784811781,
          0.14382045475790972,
          -0.017610273472513344,
          0.04678163890470439,
          0.0914494963953955,
          0.041494732591942425,
          0.13163564239976874,
          -0.010353039661529374,
          0.133942454865167,
          -0.021867786494704278,
          -0.0050336356584550134,
          0.041021659417212065,
          -0.0009586277567053609,
          0.057750873251005905,
          0.019791052758740095,
          -0.1545527312792098,
          -0.012028797506417922,
          0.07494109934701974,
          -0.032061168732080016,
          0.08830071287124051,
          0.005977733744526911,
          -0.01579618515145022,
          -0.15751524032421332,
          0.06108642412552818,
          -0.10008220957692242,
          0.0010800223750401454,
          0.022049709320651215,
          -0.011927791886415347,
          -0.0012114003550847136,
          0.020521054602003635,
          0.02413701911500732,
          -0.00443040384207786,
          -0.09769490022467989,
          -0.01646497725190395,
          0.006160773164807211,
          -0.14004293281909547,
          0.11554000929689878,
          0.015839290409344155,
          -0.026911621916731996,
          0.07761096479801131,
          0.10924896860223227,
          -0.14820426445625795,
          0.04439218485838787,
          -0.028663814268639516,
          -0.14918800457115142,
          -0.0053788580482290295,
          -0.09570516151622581,
          0.13150838777123433,
          -0.09784093362016301,
          0.09297829757630623,
          0.12418199760317022,
          -0.15299678464584457,
          0.1463589423832972,
          0.05106769514583814,
          0.15088338257486028,
          -0.12133182864978964,
          -0.12104407223955846,
          -0.03769003575926666,
          0.005082396553925249,
          0.007059653612753057,
          0.01145416681480806,
          -0.023882019622533956,
          0.09104981824750114,
          -0.019912463284079477,
          0.0825648787080916,
          -0.08396909304234085,
          -0.020190076180733017,
          0.05524337302179009,
          -0.075287977290415,
          0.041876578539459315
         ]
        }
       ],
       "layout": {
        "autosize": true,
        "height": 500,
        "hoverlabel": {
         "font": {
          "family": "Goldman Sans",
          "size": 15
         }
        },
        "margin": {
         "b": 5,
         "l": 5,
         "r": 5,
         "t": 55
        },
        "plot_bgcolor": "white",
        "scene": {
         "xaxis": {
          "tickfont": {
           "color": "black",
           "family": "Goldman Sans",
           "size": 16
          },
          "tickformat": ".2f",
          "title": {
           "font": {
            "color": "black",
            "family": "Goldman Sans",
            "size": 20
           },
           "text": "Comp. 1"
          }
         },
         "yaxis": {
          "tickfont": {
           "color": "black",
           "family": "Goldman Sans",
           "size": 16
          },
          "tickformat": ".2f",
          "title": {
           "font": {
            "color": "black",
            "family": "Goldman Sans",
            "size": 20
           },
           "text": "Comp. 2"
          }
         },
         "zaxis": {
          "tickfont": {
           "color": "black",
           "family": "Goldman Sans",
           "size": 16
          },
          "tickformat": ".2f",
          "title": {
           "font": {
            "color": "black",
            "family": "Goldman Sans",
            "size": 20
           },
           "text": "Comp. 3"
          }
         }
        },
        "template": {
         "data": {
          "bar": [
           {
            "error_x": {
             "color": "#2a3f5f"
            },
            "error_y": {
             "color": "#2a3f5f"
            },
            "marker": {
             "line": {
              "color": "#E5ECF6",
              "width": 0.5
             },
             "pattern": {
              "fillmode": "overlay",
              "size": 10,
              "solidity": 0.2
             }
            },
            "type": "bar"
           }
          ],
          "barpolar": [
           {
            "marker": {
             "line": {
              "color": "#E5ECF6",
              "width": 0.5
             },
             "pattern": {
              "fillmode": "overlay",
              "size": 10,
              "solidity": 0.2
             }
            },
            "type": "barpolar"
           }
          ],
          "carpet": [
           {
            "aaxis": {
             "endlinecolor": "#2a3f5f",
             "gridcolor": "white",
             "linecolor": "white",
             "minorgridcolor": "white",
             "startlinecolor": "#2a3f5f"
            },
            "baxis": {
             "endlinecolor": "#2a3f5f",
             "gridcolor": "white",
             "linecolor": "white",
             "minorgridcolor": "white",
             "startlinecolor": "#2a3f5f"
            },
            "type": "carpet"
           }
          ],
          "choropleth": [
           {
            "colorbar": {
             "outlinewidth": 0,
             "ticks": ""
            },
            "type": "choropleth"
           }
          ],
          "contour": [
           {
            "colorbar": {
             "outlinewidth": 0,
             "ticks": ""
            },
            "colorscale": [
             [
              0,
              "#0d0887"
             ],
             [
              0.1111111111111111,
              "#46039f"
             ],
             [
              0.2222222222222222,
              "#7201a8"
             ],
             [
              0.3333333333333333,
              "#9c179e"
             ],
             [
              0.4444444444444444,
              "#bd3786"
             ],
             [
              0.5555555555555556,
              "#d8576b"
             ],
             [
              0.6666666666666666,
              "#ed7953"
             ],
             [
              0.7777777777777778,
              "#fb9f3a"
             ],
             [
              0.8888888888888888,
              "#fdca26"
             ],
             [
              1,
              "#f0f921"
             ]
            ],
            "type": "contour"
           }
          ],
          "contourcarpet": [
           {
            "colorbar": {
             "outlinewidth": 0,
             "ticks": ""
            },
            "type": "contourcarpet"
           }
          ],
          "heatmap": [
           {
            "colorbar": {
             "outlinewidth": 0,
             "ticks": ""
            },
            "colorscale": [
             [
              0,
              "#0d0887"
             ],
             [
              0.1111111111111111,
              "#46039f"
             ],
             [
              0.2222222222222222,
              "#7201a8"
             ],
             [
              0.3333333333333333,
              "#9c179e"
             ],
             [
              0.4444444444444444,
              "#bd3786"
             ],
             [
              0.5555555555555556,
              "#d8576b"
             ],
             [
              0.6666666666666666,
              "#ed7953"
             ],
             [
              0.7777777777777778,
              "#fb9f3a"
             ],
             [
              0.8888888888888888,
              "#fdca26"
             ],
             [
              1,
              "#f0f921"
             ]
            ],
            "type": "heatmap"
           }
          ],
          "heatmapgl": [
           {
            "colorbar": {
             "outlinewidth": 0,
             "ticks": ""
            },
            "colorscale": [
             [
              0,
              "#0d0887"
             ],
             [
              0.1111111111111111,
              "#46039f"
             ],
             [
              0.2222222222222222,
              "#7201a8"
             ],
             [
              0.3333333333333333,
              "#9c179e"
             ],
             [
              0.4444444444444444,
              "#bd3786"
             ],
             [
              0.5555555555555556,
              "#d8576b"
             ],
             [
              0.6666666666666666,
              "#ed7953"
             ],
             [
              0.7777777777777778,
              "#fb9f3a"
             ],
             [
              0.8888888888888888,
              "#fdca26"
             ],
             [
              1,
              "#f0f921"
             ]
            ],
            "type": "heatmapgl"
           }
          ],
          "histogram": [
           {
            "marker": {
             "pattern": {
              "fillmode": "overlay",
              "size": 10,
              "solidity": 0.2
             }
            },
            "type": "histogram"
           }
          ],
          "histogram2d": [
           {
            "colorbar": {
             "outlinewidth": 0,
             "ticks": ""
            },
            "colorscale": [
             [
              0,
              "#0d0887"
             ],
             [
              0.1111111111111111,
              "#46039f"
             ],
             [
              0.2222222222222222,
              "#7201a8"
             ],
             [
              0.3333333333333333,
              "#9c179e"
             ],
             [
              0.4444444444444444,
              "#bd3786"
             ],
             [
              0.5555555555555556,
              "#d8576b"
             ],
             [
              0.6666666666666666,
              "#ed7953"
             ],
             [
              0.7777777777777778,
              "#fb9f3a"
             ],
             [
              0.8888888888888888,
              "#fdca26"
             ],
             [
              1,
              "#f0f921"
             ]
            ],
            "type": "histogram2d"
           }
          ],
          "histogram2dcontour": [
           {
            "colorbar": {
             "outlinewidth": 0,
             "ticks": ""
            },
            "colorscale": [
             [
              0,
              "#0d0887"
             ],
             [
              0.1111111111111111,
              "#46039f"
             ],
             [
              0.2222222222222222,
              "#7201a8"
             ],
             [
              0.3333333333333333,
              "#9c179e"
             ],
             [
              0.4444444444444444,
              "#bd3786"
             ],
             [
              0.5555555555555556,
              "#d8576b"
             ],
             [
              0.6666666666666666,
              "#ed7953"
             ],
             [
              0.7777777777777778,
              "#fb9f3a"
             ],
             [
              0.8888888888888888,
              "#fdca26"
             ],
             [
              1,
              "#f0f921"
             ]
            ],
            "type": "histogram2dcontour"
           }
          ],
          "mesh3d": [
           {
            "colorbar": {
             "outlinewidth": 0,
             "ticks": ""
            },
            "type": "mesh3d"
           }
          ],
          "parcoords": [
           {
            "line": {
             "colorbar": {
              "outlinewidth": 0,
              "ticks": ""
             }
            },
            "type": "parcoords"
           }
          ],
          "pie": [
           {
            "automargin": true,
            "type": "pie"
           }
          ],
          "scatter": [
           {
            "fillpattern": {
             "fillmode": "overlay",
             "size": 10,
             "solidity": 0.2
            },
            "type": "scatter"
           }
          ],
          "scatter3d": [
           {
            "line": {
             "colorbar": {
              "outlinewidth": 0,
              "ticks": ""
             }
            },
            "marker": {
             "colorbar": {
              "outlinewidth": 0,
              "ticks": ""
             }
            },
            "type": "scatter3d"
           }
          ],
          "scattercarpet": [
           {
            "marker": {
             "colorbar": {
              "outlinewidth": 0,
              "ticks": ""
             }
            },
            "type": "scattercarpet"
           }
          ],
          "scattergeo": [
           {
            "marker": {
             "colorbar": {
              "outlinewidth": 0,
              "ticks": ""
             }
            },
            "type": "scattergeo"
           }
          ],
          "scattergl": [
           {
            "marker": {
             "colorbar": {
              "outlinewidth": 0,
              "ticks": ""
             }
            },
            "type": "scattergl"
           }
          ],
          "scattermapbox": [
           {
            "marker": {
             "colorbar": {
              "outlinewidth": 0,
              "ticks": ""
             }
            },
            "type": "scattermapbox"
           }
          ],
          "scatterpolar": [
           {
            "marker": {
             "colorbar": {
              "outlinewidth": 0,
              "ticks": ""
             }
            },
            "type": "scatterpolar"
           }
          ],
          "scatterpolargl": [
           {
            "marker": {
             "colorbar": {
              "outlinewidth": 0,
              "ticks": ""
             }
            },
            "type": "scatterpolargl"
           }
          ],
          "scatterternary": [
           {
            "marker": {
             "colorbar": {
              "outlinewidth": 0,
              "ticks": ""
             }
            },
            "type": "scatterternary"
           }
          ],
          "surface": [
           {
            "colorbar": {
             "outlinewidth": 0,
             "ticks": ""
            },
            "colorscale": [
             [
              0,
              "#0d0887"
             ],
             [
              0.1111111111111111,
              "#46039f"
             ],
             [
              0.2222222222222222,
              "#7201a8"
             ],
             [
              0.3333333333333333,
              "#9c179e"
             ],
             [
              0.4444444444444444,
              "#bd3786"
             ],
             [
              0.5555555555555556,
              "#d8576b"
             ],
             [
              0.6666666666666666,
              "#ed7953"
             ],
             [
              0.7777777777777778,
              "#fb9f3a"
             ],
             [
              0.8888888888888888,
              "#fdca26"
             ],
             [
              1,
              "#f0f921"
             ]
            ],
            "type": "surface"
           }
          ],
          "table": [
           {
            "cells": {
             "fill": {
              "color": "#EBF0F8"
             },
             "line": {
              "color": "white"
             }
            },
            "header": {
             "fill": {
              "color": "#C8D4E3"
             },
             "line": {
              "color": "white"
             }
            },
            "type": "table"
           }
          ]
         },
         "layout": {
          "annotationdefaults": {
           "arrowcolor": "#2a3f5f",
           "arrowhead": 0,
           "arrowwidth": 1
          },
          "autotypenumbers": "strict",
          "coloraxis": {
           "colorbar": {
            "outlinewidth": 0,
            "ticks": ""
           }
          },
          "colorscale": {
           "diverging": [
            [
             0,
             "#8e0152"
            ],
            [
             0.1,
             "#c51b7d"
            ],
            [
             0.2,
             "#de77ae"
            ],
            [
             0.3,
             "#f1b6da"
            ],
            [
             0.4,
             "#fde0ef"
            ],
            [
             0.5,
             "#f7f7f7"
            ],
            [
             0.6,
             "#e6f5d0"
            ],
            [
             0.7,
             "#b8e186"
            ],
            [
             0.8,
             "#7fbc41"
            ],
            [
             0.9,
             "#4d9221"
            ],
            [
             1,
             "#276419"
            ]
           ],
           "sequential": [
            [
             0,
             "#0d0887"
            ],
            [
             0.1111111111111111,
             "#46039f"
            ],
            [
             0.2222222222222222,
             "#7201a8"
            ],
            [
             0.3333333333333333,
             "#9c179e"
            ],
            [
             0.4444444444444444,
             "#bd3786"
            ],
            [
             0.5555555555555556,
             "#d8576b"
            ],
            [
             0.6666666666666666,
             "#ed7953"
            ],
            [
             0.7777777777777778,
             "#fb9f3a"
            ],
            [
             0.8888888888888888,
             "#fdca26"
            ],
            [
             1,
             "#f0f921"
            ]
           ],
           "sequentialminus": [
            [
             0,
             "#0d0887"
            ],
            [
             0.1111111111111111,
             "#46039f"
            ],
            [
             0.2222222222222222,
             "#7201a8"
            ],
            [
             0.3333333333333333,
             "#9c179e"
            ],
            [
             0.4444444444444444,
             "#bd3786"
            ],
            [
             0.5555555555555556,
             "#d8576b"
            ],
            [
             0.6666666666666666,
             "#ed7953"
            ],
            [
             0.7777777777777778,
             "#fb9f3a"
            ],
            [
             0.8888888888888888,
             "#fdca26"
            ],
            [
             1,
             "#f0f921"
            ]
           ]
          },
          "colorway": [
           "#636efa",
           "#EF553B",
           "#00cc96",
           "#ab63fa",
           "#FFA15A",
           "#19d3f3",
           "#FF6692",
           "#B6E880",
           "#FF97FF",
           "#FECB52"
          ],
          "font": {
           "color": "#2a3f5f"
          },
          "geo": {
           "bgcolor": "white",
           "lakecolor": "white",
           "landcolor": "#E5ECF6",
           "showlakes": true,
           "showland": true,
           "subunitcolor": "white"
          },
          "hoverlabel": {
           "align": "left"
          },
          "hovermode": "closest",
          "mapbox": {
           "style": "light"
          },
          "paper_bgcolor": "white",
          "plot_bgcolor": "#E5ECF6",
          "polar": {
           "angularaxis": {
            "gridcolor": "white",
            "linecolor": "white",
            "ticks": ""
           },
           "bgcolor": "#E5ECF6",
           "radialaxis": {
            "gridcolor": "white",
            "linecolor": "white",
            "ticks": ""
           }
          },
          "scene": {
           "xaxis": {
            "backgroundcolor": "#E5ECF6",
            "gridcolor": "white",
            "gridwidth": 2,
            "linecolor": "white",
            "showbackground": true,
            "ticks": "",
            "zerolinecolor": "white"
           },
           "yaxis": {
            "backgroundcolor": "#E5ECF6",
            "gridcolor": "white",
            "gridwidth": 2,
            "linecolor": "white",
            "showbackground": true,
            "ticks": "",
            "zerolinecolor": "white"
           },
           "zaxis": {
            "backgroundcolor": "#E5ECF6",
            "gridcolor": "white",
            "gridwidth": 2,
            "linecolor": "white",
            "showbackground": true,
            "ticks": "",
            "zerolinecolor": "white"
           }
          },
          "shapedefaults": {
           "line": {
            "color": "#2a3f5f"
           }
          },
          "ternary": {
           "aaxis": {
            "gridcolor": "white",
            "linecolor": "white",
            "ticks": ""
           },
           "baxis": {
            "gridcolor": "white",
            "linecolor": "white",
            "ticks": ""
           },
           "bgcolor": "#E5ECF6",
           "caxis": {
            "gridcolor": "white",
            "linecolor": "white",
            "ticks": ""
           }
          },
          "title": {
           "x": 0.05
          },
          "xaxis": {
           "automargin": true,
           "gridcolor": "white",
           "linecolor": "white",
           "ticks": "",
           "title": {
            "standoff": 15
           },
           "zerolinecolor": "white",
           "zerolinewidth": 2
          },
          "yaxis": {
           "automargin": true,
           "gridcolor": "white",
           "linecolor": "white",
           "ticks": "",
           "title": {
            "standoff": 15
           },
           "zerolinecolor": "white",
           "zerolinewidth": 2
          }
         }
        },
        "title": {
         "font": {
          "color": "black",
          "family": "Goldman Sans",
          "size": 24
         },
         "text": "<b>Exploring Unsupervised-wise Clustering of Stocks<b><br><sup>Using OPTICS</sup>"
        }
       }
      }
     },
     "metadata": {},
     "output_type": "display_data"
    }
   ],
   "source": [
    "# Plot scatter plot\n",
    "scatter3d_trace = go.Scatter3d(\n",
    "    x=compsDF['comp1'],\n",
    "    y=compsDF['comp2'],\n",
    "    z=compsDF['comp3'],\n",
    "    mode='markers',\n",
    "    marker={'color': compsDF['clusters'], 'colorscale': 'Magma', 'opacity':0.8},\n",
    "    hovertemplate=[f'Cluster: {cls}<br>Company: {comp}<br>Symbol: {sec}' for cls, comp, sec in zip(compsDF['clusters'], compsDF['Company'], compsDF['securities'])],\n",
    "    name=''\n",
    ")\n",
    "\n",
    "# create the layout\n",
    "layout = go.Layout(\n",
    "    title={\n",
    "    'text':'<b>Exploring Unsupervised-wise Clustering of Stocks<b><br><sup>Using OPTICS</sup>',\n",
    "    'font':{'size':24,'family':'Goldman Sans','color':'black'}\n",
    "    },\n",
    "    scene={\n",
    "    'xaxis':{\n",
    "    'title':{\n",
    "    'text':'Comp. 1',    \n",
    "    'font':{'size':20,'family':'Goldman Sans','color':'black'}\n",
    "    },\n",
    "    'tickformat':'.2f',\n",
    "    'tickfont':{'size':16,'family':'Goldman Sans','color':'black'}     \n",
    "    },\n",
    "    'yaxis':{\n",
    "    'title':{\n",
    "    'text':'Comp. 2',    \n",
    "    'font':{'size':20,'family':'Goldman Sans','color':'black'}\n",
    "    },\n",
    "    'tickformat':'.2f',\n",
    "    'tickfont':{'size':16,'family':'Goldman Sans','color':'black'}     \n",
    "    },\n",
    "    'zaxis':{\n",
    "    'title':{\n",
    "    'text':'Comp. 3',    \n",
    "    'font':{'size':20,'family':'Goldman Sans','color':'black'}\n",
    "    },\n",
    "    'tickformat':'.2f',\n",
    "    'tickfont':{'size':16,'family':'Goldman Sans','color':'black'}     \n",
    "    }\n",
    "    },\n",
    "    hoverlabel={\n",
    "    'font':{'size':15, 'family':'Goldman Sans'}\n",
    "    },    \n",
    "    plot_bgcolor='white',\n",
    "    autosize=True,\n",
    "    margin={\n",
    "    'l':5,\n",
    "    'r':5,\n",
    "    'b':5,\n",
    "    't':55\n",
    "    },\n",
    "    height=500       \n",
    ")\n",
    "\n",
    "\n",
    "# create the figure\n",
    "fig = go.Figure(data=[scatter3d_trace], layout=layout)\n",
    "\n",
    "# show the plot\n",
    "fig.show()"
   ]
  },
  {
   "attachments": {},
   "cell_type": "markdown",
   "metadata": {},
   "source": [
    "## Section C: Pairs selection criteria\n",
    "After generating clusters of assets, selecting pairs to trade requires the definition of a set of rules. It is crucial to maintain the equilibrium of pairs. To achieve this, the unification of methods used in separate research work is proposed. A pair is selected only if it satisfies four conditions. \n",
    "1. Both securities forming the pair must be cointegrated, which is tested using the Engle-Granger test.\n",
    "2. The pair's spread Hurst exponent must be less than 0.5 to provide more confidence in the mean-reversion character of the spread.\n",
    "3. Pairs with extreme values of half-life are filtered out to ensure coherence between mean-reversion time and trading period.\n",
    "4. Every spread must cross its mean at least 3 times per year, ensuring an average of one trade per month.\n"
   ]
  },
  {
   "cell_type": "code",
   "execution_count": 17,
   "metadata": {},
   "outputs": [],
   "source": [
    "# Get Pairs\n",
    "getpairs = getPairs(alpha=0.10, hurstThresh=0.5, minHLife=22, maxHLife=132, zeroCrosses=3)\n",
    "pairs = getpairs.eval(clusters=securitiesClusters,prices=dataPrice)"
   ]
  },
  {
   "cell_type": "code",
   "execution_count": 18,
   "metadata": {},
   "outputs": [
    {
     "data": {
      "application/vnd.plotly.v1+json": {
       "config": {
        "plotlyServerURL": "https://plot.ly"
       },
       "data": [
        {
         "decreasing": {
          "marker": {
           "color": "#75160C"
          }
         },
         "hovertemplate": [
          "Pairs: 714<br>Delta: 714.0",
          "Pairs: 162<br>Delta: -552.0",
          "Pairs: 155<br>Delta: -7.0",
          "Pairs: 148<br>Delta: -7.0",
          "Pairs: 103<br>Delta: -45.0"
         ],
         "increasing": {
          "marker": {
           "color": "#094536"
          }
         },
         "measure": [
          "relative",
          "relative",
          "relative",
          "relative",
          "total"
         ],
         "name": "",
         "orientation": "v",
         "totals": {
          "marker": {
           "color": "#2A3F4D"
          }
         },
         "type": "waterfall",
         "x": [
          "Pot. Pairs",
          "Cointegrated",
          "Hurst",
          "Half-life",
          "Zero-cross"
         ],
         "y": [
          714,
          -552,
          -7,
          -7,
          -45
         ]
        }
       ],
       "layout": {
        "autosize": true,
        "height": 500,
        "hoverlabel": {
         "font": {
          "family": "Goldman Sans",
          "size": 15
         }
        },
        "plot_bgcolor": "white",
        "template": {
         "data": {
          "bar": [
           {
            "error_x": {
             "color": "#2a3f5f"
            },
            "error_y": {
             "color": "#2a3f5f"
            },
            "marker": {
             "line": {
              "color": "#E5ECF6",
              "width": 0.5
             },
             "pattern": {
              "fillmode": "overlay",
              "size": 10,
              "solidity": 0.2
             }
            },
            "type": "bar"
           }
          ],
          "barpolar": [
           {
            "marker": {
             "line": {
              "color": "#E5ECF6",
              "width": 0.5
             },
             "pattern": {
              "fillmode": "overlay",
              "size": 10,
              "solidity": 0.2
             }
            },
            "type": "barpolar"
           }
          ],
          "carpet": [
           {
            "aaxis": {
             "endlinecolor": "#2a3f5f",
             "gridcolor": "white",
             "linecolor": "white",
             "minorgridcolor": "white",
             "startlinecolor": "#2a3f5f"
            },
            "baxis": {
             "endlinecolor": "#2a3f5f",
             "gridcolor": "white",
             "linecolor": "white",
             "minorgridcolor": "white",
             "startlinecolor": "#2a3f5f"
            },
            "type": "carpet"
           }
          ],
          "choropleth": [
           {
            "colorbar": {
             "outlinewidth": 0,
             "ticks": ""
            },
            "type": "choropleth"
           }
          ],
          "contour": [
           {
            "colorbar": {
             "outlinewidth": 0,
             "ticks": ""
            },
            "colorscale": [
             [
              0,
              "#0d0887"
             ],
             [
              0.1111111111111111,
              "#46039f"
             ],
             [
              0.2222222222222222,
              "#7201a8"
             ],
             [
              0.3333333333333333,
              "#9c179e"
             ],
             [
              0.4444444444444444,
              "#bd3786"
             ],
             [
              0.5555555555555556,
              "#d8576b"
             ],
             [
              0.6666666666666666,
              "#ed7953"
             ],
             [
              0.7777777777777778,
              "#fb9f3a"
             ],
             [
              0.8888888888888888,
              "#fdca26"
             ],
             [
              1,
              "#f0f921"
             ]
            ],
            "type": "contour"
           }
          ],
          "contourcarpet": [
           {
            "colorbar": {
             "outlinewidth": 0,
             "ticks": ""
            },
            "type": "contourcarpet"
           }
          ],
          "heatmap": [
           {
            "colorbar": {
             "outlinewidth": 0,
             "ticks": ""
            },
            "colorscale": [
             [
              0,
              "#0d0887"
             ],
             [
              0.1111111111111111,
              "#46039f"
             ],
             [
              0.2222222222222222,
              "#7201a8"
             ],
             [
              0.3333333333333333,
              "#9c179e"
             ],
             [
              0.4444444444444444,
              "#bd3786"
             ],
             [
              0.5555555555555556,
              "#d8576b"
             ],
             [
              0.6666666666666666,
              "#ed7953"
             ],
             [
              0.7777777777777778,
              "#fb9f3a"
             ],
             [
              0.8888888888888888,
              "#fdca26"
             ],
             [
              1,
              "#f0f921"
             ]
            ],
            "type": "heatmap"
           }
          ],
          "heatmapgl": [
           {
            "colorbar": {
             "outlinewidth": 0,
             "ticks": ""
            },
            "colorscale": [
             [
              0,
              "#0d0887"
             ],
             [
              0.1111111111111111,
              "#46039f"
             ],
             [
              0.2222222222222222,
              "#7201a8"
             ],
             [
              0.3333333333333333,
              "#9c179e"
             ],
             [
              0.4444444444444444,
              "#bd3786"
             ],
             [
              0.5555555555555556,
              "#d8576b"
             ],
             [
              0.6666666666666666,
              "#ed7953"
             ],
             [
              0.7777777777777778,
              "#fb9f3a"
             ],
             [
              0.8888888888888888,
              "#fdca26"
             ],
             [
              1,
              "#f0f921"
             ]
            ],
            "type": "heatmapgl"
           }
          ],
          "histogram": [
           {
            "marker": {
             "pattern": {
              "fillmode": "overlay",
              "size": 10,
              "solidity": 0.2
             }
            },
            "type": "histogram"
           }
          ],
          "histogram2d": [
           {
            "colorbar": {
             "outlinewidth": 0,
             "ticks": ""
            },
            "colorscale": [
             [
              0,
              "#0d0887"
             ],
             [
              0.1111111111111111,
              "#46039f"
             ],
             [
              0.2222222222222222,
              "#7201a8"
             ],
             [
              0.3333333333333333,
              "#9c179e"
             ],
             [
              0.4444444444444444,
              "#bd3786"
             ],
             [
              0.5555555555555556,
              "#d8576b"
             ],
             [
              0.6666666666666666,
              "#ed7953"
             ],
             [
              0.7777777777777778,
              "#fb9f3a"
             ],
             [
              0.8888888888888888,
              "#fdca26"
             ],
             [
              1,
              "#f0f921"
             ]
            ],
            "type": "histogram2d"
           }
          ],
          "histogram2dcontour": [
           {
            "colorbar": {
             "outlinewidth": 0,
             "ticks": ""
            },
            "colorscale": [
             [
              0,
              "#0d0887"
             ],
             [
              0.1111111111111111,
              "#46039f"
             ],
             [
              0.2222222222222222,
              "#7201a8"
             ],
             [
              0.3333333333333333,
              "#9c179e"
             ],
             [
              0.4444444444444444,
              "#bd3786"
             ],
             [
              0.5555555555555556,
              "#d8576b"
             ],
             [
              0.6666666666666666,
              "#ed7953"
             ],
             [
              0.7777777777777778,
              "#fb9f3a"
             ],
             [
              0.8888888888888888,
              "#fdca26"
             ],
             [
              1,
              "#f0f921"
             ]
            ],
            "type": "histogram2dcontour"
           }
          ],
          "mesh3d": [
           {
            "colorbar": {
             "outlinewidth": 0,
             "ticks": ""
            },
            "type": "mesh3d"
           }
          ],
          "parcoords": [
           {
            "line": {
             "colorbar": {
              "outlinewidth": 0,
              "ticks": ""
             }
            },
            "type": "parcoords"
           }
          ],
          "pie": [
           {
            "automargin": true,
            "type": "pie"
           }
          ],
          "scatter": [
           {
            "fillpattern": {
             "fillmode": "overlay",
             "size": 10,
             "solidity": 0.2
            },
            "type": "scatter"
           }
          ],
          "scatter3d": [
           {
            "line": {
             "colorbar": {
              "outlinewidth": 0,
              "ticks": ""
             }
            },
            "marker": {
             "colorbar": {
              "outlinewidth": 0,
              "ticks": ""
             }
            },
            "type": "scatter3d"
           }
          ],
          "scattercarpet": [
           {
            "marker": {
             "colorbar": {
              "outlinewidth": 0,
              "ticks": ""
             }
            },
            "type": "scattercarpet"
           }
          ],
          "scattergeo": [
           {
            "marker": {
             "colorbar": {
              "outlinewidth": 0,
              "ticks": ""
             }
            },
            "type": "scattergeo"
           }
          ],
          "scattergl": [
           {
            "marker": {
             "colorbar": {
              "outlinewidth": 0,
              "ticks": ""
             }
            },
            "type": "scattergl"
           }
          ],
          "scattermapbox": [
           {
            "marker": {
             "colorbar": {
              "outlinewidth": 0,
              "ticks": ""
             }
            },
            "type": "scattermapbox"
           }
          ],
          "scatterpolar": [
           {
            "marker": {
             "colorbar": {
              "outlinewidth": 0,
              "ticks": ""
             }
            },
            "type": "scatterpolar"
           }
          ],
          "scatterpolargl": [
           {
            "marker": {
             "colorbar": {
              "outlinewidth": 0,
              "ticks": ""
             }
            },
            "type": "scatterpolargl"
           }
          ],
          "scatterternary": [
           {
            "marker": {
             "colorbar": {
              "outlinewidth": 0,
              "ticks": ""
             }
            },
            "type": "scatterternary"
           }
          ],
          "surface": [
           {
            "colorbar": {
             "outlinewidth": 0,
             "ticks": ""
            },
            "colorscale": [
             [
              0,
              "#0d0887"
             ],
             [
              0.1111111111111111,
              "#46039f"
             ],
             [
              0.2222222222222222,
              "#7201a8"
             ],
             [
              0.3333333333333333,
              "#9c179e"
             ],
             [
              0.4444444444444444,
              "#bd3786"
             ],
             [
              0.5555555555555556,
              "#d8576b"
             ],
             [
              0.6666666666666666,
              "#ed7953"
             ],
             [
              0.7777777777777778,
              "#fb9f3a"
             ],
             [
              0.8888888888888888,
              "#fdca26"
             ],
             [
              1,
              "#f0f921"
             ]
            ],
            "type": "surface"
           }
          ],
          "table": [
           {
            "cells": {
             "fill": {
              "color": "#EBF0F8"
             },
             "line": {
              "color": "white"
             }
            },
            "header": {
             "fill": {
              "color": "#C8D4E3"
             },
             "line": {
              "color": "white"
             }
            },
            "type": "table"
           }
          ]
         },
         "layout": {
          "annotationdefaults": {
           "arrowcolor": "#2a3f5f",
           "arrowhead": 0,
           "arrowwidth": 1
          },
          "autotypenumbers": "strict",
          "coloraxis": {
           "colorbar": {
            "outlinewidth": 0,
            "ticks": ""
           }
          },
          "colorscale": {
           "diverging": [
            [
             0,
             "#8e0152"
            ],
            [
             0.1,
             "#c51b7d"
            ],
            [
             0.2,
             "#de77ae"
            ],
            [
             0.3,
             "#f1b6da"
            ],
            [
             0.4,
             "#fde0ef"
            ],
            [
             0.5,
             "#f7f7f7"
            ],
            [
             0.6,
             "#e6f5d0"
            ],
            [
             0.7,
             "#b8e186"
            ],
            [
             0.8,
             "#7fbc41"
            ],
            [
             0.9,
             "#4d9221"
            ],
            [
             1,
             "#276419"
            ]
           ],
           "sequential": [
            [
             0,
             "#0d0887"
            ],
            [
             0.1111111111111111,
             "#46039f"
            ],
            [
             0.2222222222222222,
             "#7201a8"
            ],
            [
             0.3333333333333333,
             "#9c179e"
            ],
            [
             0.4444444444444444,
             "#bd3786"
            ],
            [
             0.5555555555555556,
             "#d8576b"
            ],
            [
             0.6666666666666666,
             "#ed7953"
            ],
            [
             0.7777777777777778,
             "#fb9f3a"
            ],
            [
             0.8888888888888888,
             "#fdca26"
            ],
            [
             1,
             "#f0f921"
            ]
           ],
           "sequentialminus": [
            [
             0,
             "#0d0887"
            ],
            [
             0.1111111111111111,
             "#46039f"
            ],
            [
             0.2222222222222222,
             "#7201a8"
            ],
            [
             0.3333333333333333,
             "#9c179e"
            ],
            [
             0.4444444444444444,
             "#bd3786"
            ],
            [
             0.5555555555555556,
             "#d8576b"
            ],
            [
             0.6666666666666666,
             "#ed7953"
            ],
            [
             0.7777777777777778,
             "#fb9f3a"
            ],
            [
             0.8888888888888888,
             "#fdca26"
            ],
            [
             1,
             "#f0f921"
            ]
           ]
          },
          "colorway": [
           "#636efa",
           "#EF553B",
           "#00cc96",
           "#ab63fa",
           "#FFA15A",
           "#19d3f3",
           "#FF6692",
           "#B6E880",
           "#FF97FF",
           "#FECB52"
          ],
          "font": {
           "color": "#2a3f5f"
          },
          "geo": {
           "bgcolor": "white",
           "lakecolor": "white",
           "landcolor": "#E5ECF6",
           "showlakes": true,
           "showland": true,
           "subunitcolor": "white"
          },
          "hoverlabel": {
           "align": "left"
          },
          "hovermode": "closest",
          "mapbox": {
           "style": "light"
          },
          "paper_bgcolor": "white",
          "plot_bgcolor": "#E5ECF6",
          "polar": {
           "angularaxis": {
            "gridcolor": "white",
            "linecolor": "white",
            "ticks": ""
           },
           "bgcolor": "#E5ECF6",
           "radialaxis": {
            "gridcolor": "white",
            "linecolor": "white",
            "ticks": ""
           }
          },
          "scene": {
           "xaxis": {
            "backgroundcolor": "#E5ECF6",
            "gridcolor": "white",
            "gridwidth": 2,
            "linecolor": "white",
            "showbackground": true,
            "ticks": "",
            "zerolinecolor": "white"
           },
           "yaxis": {
            "backgroundcolor": "#E5ECF6",
            "gridcolor": "white",
            "gridwidth": 2,
            "linecolor": "white",
            "showbackground": true,
            "ticks": "",
            "zerolinecolor": "white"
           },
           "zaxis": {
            "backgroundcolor": "#E5ECF6",
            "gridcolor": "white",
            "gridwidth": 2,
            "linecolor": "white",
            "showbackground": true,
            "ticks": "",
            "zerolinecolor": "white"
           }
          },
          "shapedefaults": {
           "line": {
            "color": "#2a3f5f"
           }
          },
          "ternary": {
           "aaxis": {
            "gridcolor": "white",
            "linecolor": "white",
            "ticks": ""
           },
           "baxis": {
            "gridcolor": "white",
            "linecolor": "white",
            "ticks": ""
           },
           "bgcolor": "#E5ECF6",
           "caxis": {
            "gridcolor": "white",
            "linecolor": "white",
            "ticks": ""
           }
          },
          "title": {
           "x": 0.05
          },
          "xaxis": {
           "automargin": true,
           "gridcolor": "white",
           "linecolor": "white",
           "ticks": "",
           "title": {
            "standoff": 15
           },
           "zerolinecolor": "white",
           "zerolinewidth": 2
          },
          "yaxis": {
           "automargin": true,
           "gridcolor": "white",
           "linecolor": "white",
           "ticks": "",
           "title": {
            "standoff": 15
           },
           "zerolinecolor": "white",
           "zerolinewidth": 2
          }
         }
        },
        "title": {
         "font": {
          "color": "black",
          "family": "Goldman Sans",
          "size": 24
         },
         "text": "<b>Pairs selection funnel<b><br><sup>A pair is selected only if it satisfies four conditions</sup>"
        },
        "xaxis": {
         "tickfont": {
          "color": "black",
          "family": "Goldman Sans",
          "size": 16
         },
         "title": {
          "font": {
           "color": "black",
           "family": "Goldman Sans",
           "size": 20
          },
          "text": "<b>Criterias<b>"
         }
        },
        "yaxis": {
         "tickfont": {
          "color": "black",
          "family": "Goldman Sans",
          "size": 16
         },
         "tickformat": ".f",
         "title": {
          "font": {
           "color": "black",
           "family": "Goldman Sans",
           "size": 20
          },
          "text": "<b>Number of pairs<b>"
         }
        }
       }
      }
     },
     "metadata": {},
     "output_type": "display_data"
    }
   ],
   "source": [
    "# Visualize how each criteria reduce the pairs universe\n",
    "pairsOps = pd.DataFrame.from_dict({'keys':getpairs.universe},orient='columns')\n",
    "pairsOps = pairsOps.reset_index(drop=False).sort_values('keys',ascending=False)\n",
    "pairsOps['index'] = pairsOps['index'].apply(lambda x: x.capitalize())\n",
    "pairsOps['delta'] = pairsOps['keys'] - pairsOps['keys'].shift(-1)\n",
    "pairsOps['delta'] = pairsOps['delta'].shift(1)\n",
    "pairsOps['delta'] = pairsOps['delta']*-1\n",
    "pairsOps.iloc[0,0] = 'Pot. Pairs'\n",
    "pairsOps.iloc[0,2] = pairsOps.iloc[0,1]\n",
    "pairsOps['measure'] = 'relative'\n",
    "pairsOps.iloc[-1,3] = 'total'\n",
    "\n",
    "# Plot the explained variance by the components\n",
    "water_trace = go.Waterfall(\n",
    "    orientation='v',\n",
    "    measure=pairsOps['measure'],\n",
    "    x=pairsOps['index'],\n",
    "    y=pairsOps['delta'],\n",
    "    decreasing={\"marker\":{\"color\":\"#75160C\"}},\n",
    "    increasing={\"marker\":{\"color\":\"#094536\"}},\n",
    "    totals={\"marker\":{\"color\":\"#2A3F4D\"}},\n",
    "    hovertemplate=[f'Pairs: {npairs}<br>Delta: {delta}' for npairs, delta in zip(pairsOps['keys'],pairsOps['delta'])],\n",
    "    name=''\n",
    ")\n",
    "\n",
    "# create the layout\n",
    "layout = go.Layout(\n",
    "    title={\n",
    "    'text':'<b>Pairs selection funnel<b><br><sup>A pair is selected only if it satisfies four conditions</sup>',\n",
    "    'font':{'size':24,'family':'Goldman Sans','color':'black'}\n",
    "    },\n",
    "    xaxis={\n",
    "    'title':{\n",
    "    'text':'<b>Criterias<b>',    \n",
    "    'font':{'size':20,'family':'Goldman Sans','color':'black'}\n",
    "    },\n",
    "    'tickfont':{'size':16,'family':'Goldman Sans','color':'black'} \n",
    "    },\n",
    "    yaxis={\n",
    "    'title':{\n",
    "    'text':'<b>Number of pairs<b>',    \n",
    "    'font':{'size':20,'family':'Goldman Sans','color':'black'}\n",
    "    },\n",
    "    'tickformat':'.f',\n",
    "    'tickfont':{'size':16,'family':'Goldman Sans','color':'black'}\n",
    "    },\n",
    "    hoverlabel={\n",
    "    'font':{'size':15, 'family':'Goldman Sans'}\n",
    "    },\n",
    "    plot_bgcolor='white',\n",
    "    autosize=True,\n",
    "    height=500\n",
    ")\n",
    "\n",
    "\n",
    "# create the figure\n",
    "fig = go.Figure(data=[water_trace], layout=layout)\n",
    "\n",
    "# show the plot\n",
    "fig.show()"
   ]
  }
 ],
 "metadata": {
  "kernelspec": {
   "display_name": "Python 3",
   "language": "python",
   "name": "python3"
  },
  "language_info": {
   "codemirror_mode": {
    "name": "ipython",
    "version": 3
   },
   "file_extension": ".py",
   "mimetype": "text/x-python",
   "name": "python",
   "nbconvert_exporter": "python",
   "pygments_lexer": "ipython3",
   "version": "3.11.0"
  },
  "orig_nbformat": 4
 },
 "nbformat": 4,
 "nbformat_minor": 2
}
